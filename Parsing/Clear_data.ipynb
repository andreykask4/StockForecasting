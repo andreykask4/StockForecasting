{
 "cells": [
  {
   "cell_type": "code",
   "execution_count": 33,
   "id": "80e0e0a4-04c4-4687-abf1-3e3ab86c3ed7",
   "metadata": {},
   "outputs": [],
   "source": [
    "import pandas as pd\n",
    "import csv"
   ]
  },
  {
   "cell_type": "code",
   "execution_count": 44,
   "id": "957a9528-5eab-407d-a1df-49ecbc0669ab",
   "metadata": {
    "scrolled": true
   },
   "outputs": [],
   "source": [
    "'''\n",
    "parsed data had non-informative (update), (updated) parts in the news articles, \n",
    "which were parced along. \n",
    "'''\n",
    "\n",
    "df = pd.read_csv('data.csv')\n",
    "columns = list(df)\n",
    "tmp = ''\n",
    "for i in df['1'][:]:\n",
    "    tmp = list(i.split(' '))\n",
    "    if ('(update)' in tmp):\n",
    "        tmp.remove('(update)')\n",
    "        s = ' '.join([str(elem) for elem in tmp])\n",
    "        df['1'] = df['1'].replace([i], s)\n",
    "    if ('(updated)' in tmp):\n",
    "        tmp.remove('(updated)')\n",
    "        s = ' '.join([str(elem) for elem in tmp]) \n",
    "        df['1'] = df['1'].replace([i], s)\n",
    "df.to_csv(path_or_buf=\"data_cleared.csv\", index=False)"
   ]
  }
 ],
 "metadata": {
  "kernelspec": {
   "display_name": "Python 3 (ipykernel)",
   "language": "python",
   "name": "python3"
  },
  "language_info": {
   "codemirror_mode": {
    "name": "ipython",
    "version": 3
   },
   "file_extension": ".py",
   "mimetype": "text/x-python",
   "name": "python",
   "nbconvert_exporter": "python",
   "pygments_lexer": "ipython3",
   "version": "3.11.4"
  }
 },
 "nbformat": 4,
 "nbformat_minor": 5
}
