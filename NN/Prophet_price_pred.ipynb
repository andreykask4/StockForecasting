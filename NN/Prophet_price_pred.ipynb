{
 "cells": [
  {
   "cell_type": "code",
   "execution_count": 229,
   "id": "5835544f-615e-46ac-af38-f05775aa9414",
   "metadata": {},
   "outputs": [],
   "source": [
    "'''\n",
    "run to install required packages\\liraries\n",
    "!pip install scikit-learn\n",
    "!pip install numpy\n",
    "!pip install matplotlib\n",
    "!pip install pandas\n",
    "!pip install yfinance\n",
    "!pip install prophet\n",
    "'''\n",
    "\n",
    "#import libraries\n",
    "import numpy as np\n",
    "import matplotlib.pyplot as plt\n",
    "import pandas as pd\n",
    "from datetime import date, datetime, timedelta\n",
    "import yfinance as yf\n",
    "from prophet import Prophet\n",
    "from sklearn.metrics import mean_squared_error\n",
    "from sklearn.metrics import mean_absolute_percentage_error\n",
    "from sklearn.metrics import mean_absolute_error\n",
    "import itertools\n",
    "from prophet.diagnostics import cross_validation"
   ]
  },
  {
   "cell_type": "code",
   "execution_count": 230,
   "id": "d462a63d-8409-4208-9731-065a69794f70",
   "metadata": {},
   "outputs": [],
   "source": [
    "def get_rmse(pred, tar):\n",
    "    return np.sqrt(mean_squared_error(pred, tar))\n",
    "\n",
    "def get_mape(pred, tar):\n",
    "    return mean_absolute_percentage_error(pred, tar)\n",
    "\n",
    "def get_mae(pred, tar):\n",
    "    return mean_absolute_error(pred, tar)\n",
    "    \n",
    "#calculating error metrics to then comapre and find best optimal parameters\n",
    "def get_metrics(df, split, H, forecast):\n",
    "    metrics = []\n",
    "    targets = forecast.iloc[0]\n",
    "    preds = forecast.iloc[1]#split : split+H\n",
    "    metrics.append(get_rmse(targets, preds))\n",
    "    metrics.append(get_mape(targets, preds))\n",
    "    metrics.append(get_mae(targets, preds))\n",
    "    return metrics\n",
    "    \n",
    "def run_model(df, split, H, cps, fo):\n",
    "    \n",
    "    md = Prophet(changepoint_prior_scale=cps, weekly_seasonality=False)\n",
    "    md.add_seasonality(name='monthly', period=H, fourier_order=fo)\n",
    "    md.fit(df[:split])\n",
    "    '''\n",
    "    model will be trained on 756 days,\n",
    "    then predict for the remaining days with forecast horizon of 21 days,\n",
    "    shifting the predictions by 42 days after each prediction\n",
    "    '''\n",
    "    df_cv = cross_validation(md, initial='756 days', period='42 days', horizon = '21 days')\n",
    "    tmp = df_cv.iloc[:, [1, 4]]\n",
    "    return tmp\n",
    "    \n",
    "#hyperparametrs tuning\n",
    "def tune(df, split, H, params):\n",
    "    to_compare = []\n",
    "    for i, j in params:\n",
    "        cps = i[1]\n",
    "        fo = j[1]\n",
    "        curr_params = [cps, fo]\n",
    "        forecasted = run_model(df, split, H, cps, fo)\n",
    "        rmse_mape_mae = get_metrics(df, split, H, forecasted)\n",
    "        to_compare.append(curr_params + rmse_mape_mae)\n",
    "    return to_compare"
   ]
  },
  {
   "cell_type": "code",
   "execution_count": 231,
   "id": "11dfc50e-057a-4ca7-8a5f-c0df3128b686",
   "metadata": {},
   "outputs": [
    {
     "name": "stdout",
     "output_type": "stream",
     "text": [
      "[*********************100%***********************]  1 of 1 completed\n"
     ]
    },
    {
     "name": "stderr",
     "output_type": "stream",
     "text": [
      "21:48:44 - cmdstanpy - INFO - Chain [1] start processing\n",
      "21:48:44 - cmdstanpy - INFO - Chain [1] done processing\n"
     ]
    },
    {
     "data": {
      "application/vnd.jupyter.widget-view+json": {
       "model_id": "3c420389e49f430ebb37f27ae400d081",
       "version_major": 2,
       "version_minor": 0
      },
      "text/plain": [
       "  0%|          | 0/17 [00:00<?, ?it/s]"
      ]
     },
     "metadata": {},
     "output_type": "display_data"
    },
    {
     "name": "stderr",
     "output_type": "stream",
     "text": [
      "21:48:44 - cmdstanpy - INFO - Chain [1] start processing\n",
      "21:48:44 - cmdstanpy - INFO - Chain [1] done processing\n",
      "21:48:45 - cmdstanpy - INFO - Chain [1] start processing\n",
      "21:48:45 - cmdstanpy - INFO - Chain [1] done processing\n",
      "21:48:45 - cmdstanpy - INFO - Chain [1] start processing\n",
      "21:48:45 - cmdstanpy - INFO - Chain [1] done processing\n",
      "21:48:45 - cmdstanpy - INFO - Chain [1] start processing\n",
      "21:48:45 - cmdstanpy - INFO - Chain [1] done processing\n",
      "21:48:46 - cmdstanpy - INFO - Chain [1] start processing\n",
      "21:48:46 - cmdstanpy - INFO - Chain [1] done processing\n",
      "21:48:46 - cmdstanpy - INFO - Chain [1] start processing\n",
      "21:48:46 - cmdstanpy - INFO - Chain [1] done processing\n",
      "21:48:46 - cmdstanpy - INFO - Chain [1] start processing\n",
      "21:48:47 - cmdstanpy - INFO - Chain [1] done processing\n",
      "21:48:47 - cmdstanpy - INFO - Chain [1] start processing\n",
      "21:48:47 - cmdstanpy - INFO - Chain [1] done processing\n",
      "21:48:47 - cmdstanpy - INFO - Chain [1] start processing\n",
      "21:48:47 - cmdstanpy - INFO - Chain [1] done processing\n",
      "21:48:48 - cmdstanpy - INFO - Chain [1] start processing\n",
      "21:48:48 - cmdstanpy - INFO - Chain [1] done processing\n",
      "21:48:48 - cmdstanpy - INFO - Chain [1] start processing\n",
      "21:48:48 - cmdstanpy - INFO - Chain [1] done processing\n",
      "21:48:48 - cmdstanpy - INFO - Chain [1] start processing\n",
      "21:48:48 - cmdstanpy - INFO - Chain [1] done processing\n",
      "21:48:49 - cmdstanpy - INFO - Chain [1] start processing\n",
      "21:48:49 - cmdstanpy - INFO - Chain [1] done processing\n",
      "21:48:49 - cmdstanpy - INFO - Chain [1] start processing\n",
      "21:48:49 - cmdstanpy - INFO - Chain [1] done processing\n",
      "21:48:50 - cmdstanpy - INFO - Chain [1] start processing\n",
      "21:48:50 - cmdstanpy - INFO - Chain [1] done processing\n",
      "21:48:50 - cmdstanpy - INFO - Chain [1] start processing\n",
      "21:48:50 - cmdstanpy - INFO - Chain [1] done processing\n",
      "21:48:50 - cmdstanpy - INFO - Chain [1] start processing\n",
      "21:48:51 - cmdstanpy - INFO - Chain [1] done processing\n",
      "21:48:51 - cmdstanpy - INFO - Chain [1] start processing\n",
      "21:48:51 - cmdstanpy - INFO - Chain [1] done processing\n"
     ]
    },
    {
     "data": {
      "application/vnd.jupyter.widget-view+json": {
       "model_id": "34a27ed8d1274f19855afb20ef52e743",
       "version_major": 2,
       "version_minor": 0
      },
      "text/plain": [
       "  0%|          | 0/17 [00:00<?, ?it/s]"
      ]
     },
     "metadata": {},
     "output_type": "display_data"
    },
    {
     "name": "stderr",
     "output_type": "stream",
     "text": [
      "21:48:51 - cmdstanpy - INFO - Chain [1] start processing\n",
      "21:48:51 - cmdstanpy - INFO - Chain [1] done processing\n",
      "21:48:52 - cmdstanpy - INFO - Chain [1] start processing\n",
      "21:48:52 - cmdstanpy - INFO - Chain [1] done processing\n",
      "21:48:52 - cmdstanpy - INFO - Chain [1] start processing\n",
      "21:48:52 - cmdstanpy - INFO - Chain [1] done processing\n",
      "21:48:52 - cmdstanpy - INFO - Chain [1] start processing\n",
      "21:48:52 - cmdstanpy - INFO - Chain [1] done processing\n",
      "21:48:53 - cmdstanpy - INFO - Chain [1] start processing\n",
      "21:48:53 - cmdstanpy - INFO - Chain [1] done processing\n",
      "21:48:53 - cmdstanpy - INFO - Chain [1] start processing\n",
      "21:48:53 - cmdstanpy - INFO - Chain [1] done processing\n",
      "21:48:53 - cmdstanpy - INFO - Chain [1] start processing\n",
      "21:48:53 - cmdstanpy - INFO - Chain [1] done processing\n",
      "21:48:54 - cmdstanpy - INFO - Chain [1] start processing\n",
      "21:48:54 - cmdstanpy - INFO - Chain [1] done processing\n",
      "21:48:54 - cmdstanpy - INFO - Chain [1] start processing\n",
      "21:48:54 - cmdstanpy - INFO - Chain [1] done processing\n",
      "21:48:54 - cmdstanpy - INFO - Chain [1] start processing\n",
      "21:48:55 - cmdstanpy - INFO - Chain [1] done processing\n",
      "21:48:55 - cmdstanpy - INFO - Chain [1] start processing\n",
      "21:48:55 - cmdstanpy - INFO - Chain [1] done processing\n",
      "21:48:55 - cmdstanpy - INFO - Chain [1] start processing\n",
      "21:48:55 - cmdstanpy - INFO - Chain [1] done processing\n",
      "21:48:56 - cmdstanpy - INFO - Chain [1] start processing\n",
      "21:48:56 - cmdstanpy - INFO - Chain [1] done processing\n",
      "21:48:56 - cmdstanpy - INFO - Chain [1] start processing\n",
      "21:48:56 - cmdstanpy - INFO - Chain [1] done processing\n",
      "21:48:56 - cmdstanpy - INFO - Chain [1] start processing\n",
      "21:48:56 - cmdstanpy - INFO - Chain [1] done processing\n",
      "21:48:57 - cmdstanpy - INFO - Chain [1] start processing\n",
      "21:48:57 - cmdstanpy - INFO - Chain [1] done processing\n",
      "21:48:57 - cmdstanpy - INFO - Chain [1] start processing\n",
      "21:48:57 - cmdstanpy - INFO - Chain [1] done processing\n",
      "21:48:58 - cmdstanpy - INFO - Chain [1] start processing\n",
      "21:48:58 - cmdstanpy - INFO - Chain [1] done processing\n"
     ]
    },
    {
     "data": {
      "application/vnd.jupyter.widget-view+json": {
       "model_id": "4f93dc0ddd9a4103b37b86b32c4c061e",
       "version_major": 2,
       "version_minor": 0
      },
      "text/plain": [
       "  0%|          | 0/17 [00:00<?, ?it/s]"
      ]
     },
     "metadata": {},
     "output_type": "display_data"
    },
    {
     "name": "stderr",
     "output_type": "stream",
     "text": [
      "21:48:58 - cmdstanpy - INFO - Chain [1] start processing\n",
      "21:48:58 - cmdstanpy - INFO - Chain [1] done processing\n",
      "21:48:58 - cmdstanpy - INFO - Chain [1] start processing\n",
      "21:48:58 - cmdstanpy - INFO - Chain [1] done processing\n",
      "21:48:59 - cmdstanpy - INFO - Chain [1] start processing\n",
      "21:48:59 - cmdstanpy - INFO - Chain [1] done processing\n",
      "21:48:59 - cmdstanpy - INFO - Chain [1] start processing\n",
      "21:48:59 - cmdstanpy - INFO - Chain [1] done processing\n",
      "21:48:59 - cmdstanpy - INFO - Chain [1] start processing\n",
      "21:49:00 - cmdstanpy - INFO - Chain [1] done processing\n",
      "21:49:00 - cmdstanpy - INFO - Chain [1] start processing\n",
      "21:49:00 - cmdstanpy - INFO - Chain [1] done processing\n",
      "21:49:00 - cmdstanpy - INFO - Chain [1] start processing\n",
      "21:49:00 - cmdstanpy - INFO - Chain [1] done processing\n",
      "21:49:01 - cmdstanpy - INFO - Chain [1] start processing\n",
      "21:49:01 - cmdstanpy - INFO - Chain [1] done processing\n",
      "21:49:01 - cmdstanpy - INFO - Chain [1] start processing\n",
      "21:49:01 - cmdstanpy - INFO - Chain [1] done processing\n",
      "21:49:01 - cmdstanpy - INFO - Chain [1] start processing\n",
      "21:49:02 - cmdstanpy - INFO - Chain [1] done processing\n",
      "21:49:02 - cmdstanpy - INFO - Chain [1] start processing\n",
      "21:49:02 - cmdstanpy - INFO - Chain [1] done processing\n",
      "21:49:02 - cmdstanpy - INFO - Chain [1] start processing\n",
      "21:49:02 - cmdstanpy - INFO - Chain [1] done processing\n",
      "21:49:03 - cmdstanpy - INFO - Chain [1] start processing\n",
      "21:49:03 - cmdstanpy - INFO - Chain [1] done processing\n",
      "21:49:03 - cmdstanpy - INFO - Chain [1] start processing\n",
      "21:49:03 - cmdstanpy - INFO - Chain [1] done processing\n",
      "21:49:03 - cmdstanpy - INFO - Chain [1] start processing\n",
      "21:49:04 - cmdstanpy - INFO - Chain [1] done processing\n",
      "21:49:04 - cmdstanpy - INFO - Chain [1] start processing\n",
      "21:49:04 - cmdstanpy - INFO - Chain [1] done processing\n",
      "21:49:04 - cmdstanpy - INFO - Chain [1] start processing\n",
      "21:49:04 - cmdstanpy - INFO - Chain [1] done processing\n",
      "21:49:05 - cmdstanpy - INFO - Chain [1] start processing\n",
      "21:49:05 - cmdstanpy - INFO - Chain [1] done processing\n"
     ]
    },
    {
     "data": {
      "application/vnd.jupyter.widget-view+json": {
       "model_id": "fd6438856c654283864b3d188f4c6c36",
       "version_major": 2,
       "version_minor": 0
      },
      "text/plain": [
       "  0%|          | 0/17 [00:00<?, ?it/s]"
      ]
     },
     "metadata": {},
     "output_type": "display_data"
    },
    {
     "name": "stderr",
     "output_type": "stream",
     "text": [
      "21:49:05 - cmdstanpy - INFO - Chain [1] start processing\n",
      "21:49:05 - cmdstanpy - INFO - Chain [1] done processing\n",
      "21:49:05 - cmdstanpy - INFO - Chain [1] start processing\n",
      "21:49:06 - cmdstanpy - INFO - Chain [1] done processing\n",
      "21:49:06 - cmdstanpy - INFO - Chain [1] start processing\n",
      "21:49:06 - cmdstanpy - INFO - Chain [1] done processing\n",
      "21:49:06 - cmdstanpy - INFO - Chain [1] start processing\n",
      "21:49:06 - cmdstanpy - INFO - Chain [1] done processing\n",
      "21:49:07 - cmdstanpy - INFO - Chain [1] start processing\n",
      "21:49:07 - cmdstanpy - INFO - Chain [1] done processing\n",
      "21:49:07 - cmdstanpy - INFO - Chain [1] start processing\n",
      "21:49:07 - cmdstanpy - INFO - Chain [1] done processing\n",
      "21:49:07 - cmdstanpy - INFO - Chain [1] start processing\n",
      "21:49:08 - cmdstanpy - INFO - Chain [1] done processing\n",
      "21:49:08 - cmdstanpy - INFO - Chain [1] start processing\n",
      "21:49:08 - cmdstanpy - INFO - Chain [1] done processing\n",
      "21:49:08 - cmdstanpy - INFO - Chain [1] start processing\n",
      "21:49:08 - cmdstanpy - INFO - Chain [1] done processing\n",
      "21:49:09 - cmdstanpy - INFO - Chain [1] start processing\n",
      "21:49:09 - cmdstanpy - INFO - Chain [1] done processing\n",
      "21:49:09 - cmdstanpy - INFO - Chain [1] start processing\n",
      "21:49:09 - cmdstanpy - INFO - Chain [1] done processing\n",
      "21:49:09 - cmdstanpy - INFO - Chain [1] start processing\n",
      "21:49:10 - cmdstanpy - INFO - Chain [1] done processing\n",
      "21:49:10 - cmdstanpy - INFO - Chain [1] start processing\n",
      "21:49:10 - cmdstanpy - INFO - Chain [1] done processing\n",
      "21:49:10 - cmdstanpy - INFO - Chain [1] start processing\n",
      "21:49:10 - cmdstanpy - INFO - Chain [1] done processing\n",
      "21:49:11 - cmdstanpy - INFO - Chain [1] start processing\n",
      "21:49:11 - cmdstanpy - INFO - Chain [1] done processing\n",
      "21:49:11 - cmdstanpy - INFO - Chain [1] start processing\n",
      "21:49:11 - cmdstanpy - INFO - Chain [1] done processing\n",
      "21:49:12 - cmdstanpy - INFO - Chain [1] start processing\n",
      "21:49:12 - cmdstanpy - INFO - Chain [1] done processing\n",
      "21:49:12 - cmdstanpy - INFO - Chain [1] start processing\n",
      "21:49:12 - cmdstanpy - INFO - Chain [1] done processing\n"
     ]
    },
    {
     "data": {
      "application/vnd.jupyter.widget-view+json": {
       "model_id": "1bbef9d388544846a1f794dbf9f20702",
       "version_major": 2,
       "version_minor": 0
      },
      "text/plain": [
       "  0%|          | 0/17 [00:00<?, ?it/s]"
      ]
     },
     "metadata": {},
     "output_type": "display_data"
    },
    {
     "name": "stderr",
     "output_type": "stream",
     "text": [
      "21:49:12 - cmdstanpy - INFO - Chain [1] start processing\n",
      "21:49:12 - cmdstanpy - INFO - Chain [1] done processing\n",
      "21:49:13 - cmdstanpy - INFO - Chain [1] start processing\n",
      "21:49:13 - cmdstanpy - INFO - Chain [1] done processing\n",
      "21:49:13 - cmdstanpy - INFO - Chain [1] start processing\n",
      "21:49:13 - cmdstanpy - INFO - Chain [1] done processing\n",
      "21:49:13 - cmdstanpy - INFO - Chain [1] start processing\n",
      "21:49:14 - cmdstanpy - INFO - Chain [1] done processing\n",
      "21:49:14 - cmdstanpy - INFO - Chain [1] start processing\n",
      "21:49:14 - cmdstanpy - INFO - Chain [1] done processing\n",
      "21:49:14 - cmdstanpy - INFO - Chain [1] start processing\n",
      "21:49:14 - cmdstanpy - INFO - Chain [1] done processing\n",
      "21:49:15 - cmdstanpy - INFO - Chain [1] start processing\n",
      "21:49:15 - cmdstanpy - INFO - Chain [1] done processing\n",
      "21:49:15 - cmdstanpy - INFO - Chain [1] start processing\n",
      "21:49:15 - cmdstanpy - INFO - Chain [1] done processing\n",
      "21:49:15 - cmdstanpy - INFO - Chain [1] start processing\n",
      "21:49:15 - cmdstanpy - INFO - Chain [1] done processing\n",
      "21:49:16 - cmdstanpy - INFO - Chain [1] start processing\n",
      "21:49:16 - cmdstanpy - INFO - Chain [1] done processing\n",
      "21:49:16 - cmdstanpy - INFO - Chain [1] start processing\n",
      "21:49:16 - cmdstanpy - INFO - Chain [1] done processing\n",
      "21:49:17 - cmdstanpy - INFO - Chain [1] start processing\n",
      "21:49:17 - cmdstanpy - INFO - Chain [1] done processing\n",
      "21:49:17 - cmdstanpy - INFO - Chain [1] start processing\n",
      "21:49:17 - cmdstanpy - INFO - Chain [1] done processing\n",
      "21:49:17 - cmdstanpy - INFO - Chain [1] start processing\n",
      "21:49:18 - cmdstanpy - INFO - Chain [1] done processing\n",
      "21:49:18 - cmdstanpy - INFO - Chain [1] start processing\n",
      "21:49:18 - cmdstanpy - INFO - Chain [1] done processing\n",
      "21:49:18 - cmdstanpy - INFO - Chain [1] start processing\n",
      "21:49:18 - cmdstanpy - INFO - Chain [1] done processing\n",
      "21:49:19 - cmdstanpy - INFO - Chain [1] start processing\n",
      "21:49:19 - cmdstanpy - INFO - Chain [1] done processing\n",
      "21:49:19 - cmdstanpy - INFO - Chain [1] start processing\n",
      "21:49:19 - cmdstanpy - INFO - Chain [1] done processing\n"
     ]
    },
    {
     "data": {
      "application/vnd.jupyter.widget-view+json": {
       "model_id": "7285fb3f9b46473e847c1bc4d905a89f",
       "version_major": 2,
       "version_minor": 0
      },
      "text/plain": [
       "  0%|          | 0/17 [00:00<?, ?it/s]"
      ]
     },
     "metadata": {},
     "output_type": "display_data"
    },
    {
     "name": "stderr",
     "output_type": "stream",
     "text": [
      "21:49:20 - cmdstanpy - INFO - Chain [1] start processing\n",
      "21:49:20 - cmdstanpy - INFO - Chain [1] done processing\n",
      "21:49:20 - cmdstanpy - INFO - Chain [1] start processing\n",
      "21:49:20 - cmdstanpy - INFO - Chain [1] done processing\n",
      "21:49:20 - cmdstanpy - INFO - Chain [1] start processing\n",
      "21:49:20 - cmdstanpy - INFO - Chain [1] done processing\n",
      "21:49:21 - cmdstanpy - INFO - Chain [1] start processing\n",
      "21:49:21 - cmdstanpy - INFO - Chain [1] done processing\n",
      "21:49:21 - cmdstanpy - INFO - Chain [1] start processing\n",
      "21:49:21 - cmdstanpy - INFO - Chain [1] done processing\n",
      "21:49:21 - cmdstanpy - INFO - Chain [1] start processing\n",
      "21:49:21 - cmdstanpy - INFO - Chain [1] done processing\n",
      "21:49:22 - cmdstanpy - INFO - Chain [1] start processing\n",
      "21:49:22 - cmdstanpy - INFO - Chain [1] done processing\n",
      "21:49:22 - cmdstanpy - INFO - Chain [1] start processing\n",
      "21:49:22 - cmdstanpy - INFO - Chain [1] done processing\n",
      "21:49:22 - cmdstanpy - INFO - Chain [1] start processing\n",
      "21:49:23 - cmdstanpy - INFO - Chain [1] done processing\n",
      "21:49:23 - cmdstanpy - INFO - Chain [1] start processing\n",
      "21:49:23 - cmdstanpy - INFO - Chain [1] done processing\n",
      "21:49:23 - cmdstanpy - INFO - Chain [1] start processing\n",
      "21:49:23 - cmdstanpy - INFO - Chain [1] done processing\n",
      "21:49:24 - cmdstanpy - INFO - Chain [1] start processing\n",
      "21:49:24 - cmdstanpy - INFO - Chain [1] done processing\n",
      "21:49:24 - cmdstanpy - INFO - Chain [1] start processing\n",
      "21:49:24 - cmdstanpy - INFO - Chain [1] done processing\n",
      "21:49:25 - cmdstanpy - INFO - Chain [1] start processing\n",
      "21:49:25 - cmdstanpy - INFO - Chain [1] done processing\n",
      "21:49:25 - cmdstanpy - INFO - Chain [1] start processing\n",
      "21:49:25 - cmdstanpy - INFO - Chain [1] done processing\n",
      "21:49:25 - cmdstanpy - INFO - Chain [1] start processing\n",
      "21:49:26 - cmdstanpy - INFO - Chain [1] done processing\n",
      "21:49:26 - cmdstanpy - INFO - Chain [1] start processing\n",
      "21:49:26 - cmdstanpy - INFO - Chain [1] done processing\n",
      "21:49:26 - cmdstanpy - INFO - Chain [1] start processing\n",
      "21:49:27 - cmdstanpy - INFO - Chain [1] done processing\n"
     ]
    },
    {
     "data": {
      "application/vnd.jupyter.widget-view+json": {
       "model_id": "521ad452ba7140d7a9d0460f4f79332e",
       "version_major": 2,
       "version_minor": 0
      },
      "text/plain": [
       "  0%|          | 0/17 [00:00<?, ?it/s]"
      ]
     },
     "metadata": {},
     "output_type": "display_data"
    },
    {
     "name": "stderr",
     "output_type": "stream",
     "text": [
      "21:49:27 - cmdstanpy - INFO - Chain [1] start processing\n",
      "21:49:27 - cmdstanpy - INFO - Chain [1] done processing\n",
      "21:49:27 - cmdstanpy - INFO - Chain [1] start processing\n",
      "21:49:27 - cmdstanpy - INFO - Chain [1] done processing\n",
      "21:49:28 - cmdstanpy - INFO - Chain [1] start processing\n",
      "21:49:28 - cmdstanpy - INFO - Chain [1] done processing\n",
      "21:49:28 - cmdstanpy - INFO - Chain [1] start processing\n",
      "21:49:28 - cmdstanpy - INFO - Chain [1] done processing\n",
      "21:49:28 - cmdstanpy - INFO - Chain [1] start processing\n",
      "21:49:29 - cmdstanpy - INFO - Chain [1] done processing\n",
      "21:49:29 - cmdstanpy - INFO - Chain [1] start processing\n",
      "21:49:29 - cmdstanpy - INFO - Chain [1] done processing\n",
      "21:49:29 - cmdstanpy - INFO - Chain [1] start processing\n",
      "21:49:30 - cmdstanpy - INFO - Chain [1] done processing\n",
      "21:49:30 - cmdstanpy - INFO - Chain [1] start processing\n",
      "21:49:30 - cmdstanpy - INFO - Chain [1] done processing\n",
      "21:49:30 - cmdstanpy - INFO - Chain [1] start processing\n",
      "21:49:30 - cmdstanpy - INFO - Chain [1] done processing\n",
      "21:49:31 - cmdstanpy - INFO - Chain [1] start processing\n",
      "21:49:31 - cmdstanpy - INFO - Chain [1] done processing\n",
      "21:49:31 - cmdstanpy - INFO - Chain [1] start processing\n",
      "21:49:32 - cmdstanpy - INFO - Chain [1] done processing\n",
      "21:49:32 - cmdstanpy - INFO - Chain [1] start processing\n",
      "21:49:32 - cmdstanpy - INFO - Chain [1] done processing\n",
      "21:49:32 - cmdstanpy - INFO - Chain [1] start processing\n",
      "21:49:33 - cmdstanpy - INFO - Chain [1] done processing\n",
      "21:49:33 - cmdstanpy - INFO - Chain [1] start processing\n",
      "21:49:33 - cmdstanpy - INFO - Chain [1] done processing\n",
      "21:49:33 - cmdstanpy - INFO - Chain [1] start processing\n",
      "21:49:33 - cmdstanpy - INFO - Chain [1] done processing\n",
      "21:49:34 - cmdstanpy - INFO - Chain [1] start processing\n",
      "21:49:34 - cmdstanpy - INFO - Chain [1] done processing\n",
      "21:49:34 - cmdstanpy - INFO - Chain [1] start processing\n",
      "21:49:34 - cmdstanpy - INFO - Chain [1] done processing\n",
      "21:49:35 - cmdstanpy - INFO - Chain [1] start processing\n",
      "21:49:35 - cmdstanpy - INFO - Chain [1] done processing\n"
     ]
    },
    {
     "data": {
      "application/vnd.jupyter.widget-view+json": {
       "model_id": "d2b078c37fe3482c991e701a9ff39a1e",
       "version_major": 2,
       "version_minor": 0
      },
      "text/plain": [
       "  0%|          | 0/17 [00:00<?, ?it/s]"
      ]
     },
     "metadata": {},
     "output_type": "display_data"
    },
    {
     "name": "stderr",
     "output_type": "stream",
     "text": [
      "21:49:35 - cmdstanpy - INFO - Chain [1] start processing\n",
      "21:49:35 - cmdstanpy - INFO - Chain [1] done processing\n",
      "21:49:36 - cmdstanpy - INFO - Chain [1] start processing\n",
      "21:49:36 - cmdstanpy - INFO - Chain [1] done processing\n",
      "21:49:36 - cmdstanpy - INFO - Chain [1] start processing\n",
      "21:49:36 - cmdstanpy - INFO - Chain [1] done processing\n",
      "21:49:37 - cmdstanpy - INFO - Chain [1] start processing\n",
      "21:49:37 - cmdstanpy - INFO - Chain [1] done processing\n",
      "21:49:37 - cmdstanpy - INFO - Chain [1] start processing\n",
      "21:49:37 - cmdstanpy - INFO - Chain [1] done processing\n",
      "21:49:37 - cmdstanpy - INFO - Chain [1] start processing\n",
      "21:49:38 - cmdstanpy - INFO - Chain [1] done processing\n",
      "21:49:38 - cmdstanpy - INFO - Chain [1] start processing\n",
      "21:49:38 - cmdstanpy - INFO - Chain [1] done processing\n",
      "21:49:38 - cmdstanpy - INFO - Chain [1] start processing\n",
      "21:49:39 - cmdstanpy - INFO - Chain [1] done processing\n",
      "21:49:39 - cmdstanpy - INFO - Chain [1] start processing\n",
      "21:49:39 - cmdstanpy - INFO - Chain [1] done processing\n",
      "21:49:39 - cmdstanpy - INFO - Chain [1] start processing\n",
      "21:49:40 - cmdstanpy - INFO - Chain [1] done processing\n",
      "21:49:40 - cmdstanpy - INFO - Chain [1] start processing\n",
      "21:49:40 - cmdstanpy - INFO - Chain [1] done processing\n",
      "21:49:40 - cmdstanpy - INFO - Chain [1] start processing\n",
      "21:49:40 - cmdstanpy - INFO - Chain [1] done processing\n",
      "21:49:41 - cmdstanpy - INFO - Chain [1] start processing\n",
      "21:49:41 - cmdstanpy - INFO - Chain [1] done processing\n",
      "21:49:41 - cmdstanpy - INFO - Chain [1] start processing\n",
      "21:49:41 - cmdstanpy - INFO - Chain [1] done processing\n",
      "21:49:42 - cmdstanpy - INFO - Chain [1] start processing\n",
      "21:49:42 - cmdstanpy - INFO - Chain [1] done processing\n",
      "21:49:42 - cmdstanpy - INFO - Chain [1] start processing\n",
      "21:49:42 - cmdstanpy - INFO - Chain [1] done processing\n",
      "21:49:43 - cmdstanpy - INFO - Chain [1] start processing\n",
      "21:49:43 - cmdstanpy - INFO - Chain [1] done processing\n",
      "21:49:43 - cmdstanpy - INFO - Chain [1] start processing\n",
      "21:49:44 - cmdstanpy - INFO - Chain [1] done processing\n"
     ]
    },
    {
     "data": {
      "application/vnd.jupyter.widget-view+json": {
       "model_id": "1ac913f896174e2e8688a0bb6cd8b4a2",
       "version_major": 2,
       "version_minor": 0
      },
      "text/plain": [
       "  0%|          | 0/17 [00:00<?, ?it/s]"
      ]
     },
     "metadata": {},
     "output_type": "display_data"
    },
    {
     "name": "stderr",
     "output_type": "stream",
     "text": [
      "21:49:44 - cmdstanpy - INFO - Chain [1] start processing\n",
      "21:49:44 - cmdstanpy - INFO - Chain [1] done processing\n",
      "21:49:44 - cmdstanpy - INFO - Chain [1] start processing\n",
      "21:49:44 - cmdstanpy - INFO - Chain [1] done processing\n",
      "21:49:45 - cmdstanpy - INFO - Chain [1] start processing\n",
      "21:49:45 - cmdstanpy - INFO - Chain [1] done processing\n",
      "21:49:45 - cmdstanpy - INFO - Chain [1] start processing\n",
      "21:49:45 - cmdstanpy - INFO - Chain [1] done processing\n",
      "21:49:46 - cmdstanpy - INFO - Chain [1] start processing\n",
      "21:49:46 - cmdstanpy - INFO - Chain [1] done processing\n",
      "21:49:46 - cmdstanpy - INFO - Chain [1] start processing\n",
      "21:49:46 - cmdstanpy - INFO - Chain [1] done processing\n",
      "21:49:47 - cmdstanpy - INFO - Chain [1] start processing\n",
      "21:49:47 - cmdstanpy - INFO - Chain [1] done processing\n",
      "21:49:47 - cmdstanpy - INFO - Chain [1] start processing\n",
      "21:49:47 - cmdstanpy - INFO - Chain [1] done processing\n",
      "21:49:48 - cmdstanpy - INFO - Chain [1] start processing\n",
      "21:49:48 - cmdstanpy - INFO - Chain [1] done processing\n",
      "21:49:48 - cmdstanpy - INFO - Chain [1] start processing\n",
      "21:49:48 - cmdstanpy - INFO - Chain [1] done processing\n",
      "21:49:49 - cmdstanpy - INFO - Chain [1] start processing\n",
      "21:49:49 - cmdstanpy - INFO - Chain [1] done processing\n",
      "21:49:49 - cmdstanpy - INFO - Chain [1] start processing\n",
      "21:49:49 - cmdstanpy - INFO - Chain [1] done processing\n",
      "21:49:50 - cmdstanpy - INFO - Chain [1] start processing\n",
      "21:49:50 - cmdstanpy - INFO - Chain [1] done processing\n",
      "21:49:50 - cmdstanpy - INFO - Chain [1] start processing\n",
      "21:49:50 - cmdstanpy - INFO - Chain [1] done processing\n",
      "21:49:51 - cmdstanpy - INFO - Chain [1] start processing\n",
      "21:49:51 - cmdstanpy - INFO - Chain [1] done processing\n",
      "21:49:51 - cmdstanpy - INFO - Chain [1] start processing\n",
      "21:49:51 - cmdstanpy - INFO - Chain [1] done processing\n",
      "21:49:52 - cmdstanpy - INFO - Chain [1] start processing\n",
      "21:49:52 - cmdstanpy - INFO - Chain [1] done processing\n",
      "21:49:52 - cmdstanpy - INFO - Chain [1] start processing\n",
      "21:49:52 - cmdstanpy - INFO - Chain [1] done processing\n"
     ]
    },
    {
     "data": {
      "application/vnd.jupyter.widget-view+json": {
       "model_id": "a36f4d086fd74acd874d93341d70653b",
       "version_major": 2,
       "version_minor": 0
      },
      "text/plain": [
       "  0%|          | 0/17 [00:00<?, ?it/s]"
      ]
     },
     "metadata": {},
     "output_type": "display_data"
    },
    {
     "name": "stderr",
     "output_type": "stream",
     "text": [
      "21:49:53 - cmdstanpy - INFO - Chain [1] start processing\n",
      "21:49:53 - cmdstanpy - INFO - Chain [1] done processing\n",
      "21:49:53 - cmdstanpy - INFO - Chain [1] start processing\n",
      "21:49:53 - cmdstanpy - INFO - Chain [1] done processing\n",
      "21:49:54 - cmdstanpy - INFO - Chain [1] start processing\n",
      "21:49:54 - cmdstanpy - INFO - Chain [1] done processing\n",
      "21:49:54 - cmdstanpy - INFO - Chain [1] start processing\n",
      "21:49:54 - cmdstanpy - INFO - Chain [1] done processing\n",
      "21:49:54 - cmdstanpy - INFO - Chain [1] start processing\n",
      "21:49:55 - cmdstanpy - INFO - Chain [1] done processing\n",
      "21:49:55 - cmdstanpy - INFO - Chain [1] start processing\n",
      "21:49:55 - cmdstanpy - INFO - Chain [1] done processing\n",
      "21:49:55 - cmdstanpy - INFO - Chain [1] start processing\n",
      "21:49:56 - cmdstanpy - INFO - Chain [1] done processing\n",
      "21:49:56 - cmdstanpy - INFO - Chain [1] start processing\n",
      "21:49:56 - cmdstanpy - INFO - Chain [1] done processing\n",
      "21:49:56 - cmdstanpy - INFO - Chain [1] start processing\n",
      "21:49:57 - cmdstanpy - INFO - Chain [1] done processing\n",
      "21:49:57 - cmdstanpy - INFO - Chain [1] start processing\n",
      "21:49:57 - cmdstanpy - INFO - Chain [1] done processing\n",
      "21:49:58 - cmdstanpy - INFO - Chain [1] start processing\n",
      "21:49:58 - cmdstanpy - INFO - Chain [1] done processing\n",
      "21:49:58 - cmdstanpy - INFO - Chain [1] start processing\n",
      "21:49:58 - cmdstanpy - INFO - Chain [1] done processing\n",
      "21:49:59 - cmdstanpy - INFO - Chain [1] start processing\n",
      "21:49:59 - cmdstanpy - INFO - Chain [1] done processing\n",
      "21:49:59 - cmdstanpy - INFO - Chain [1] start processing\n",
      "21:49:59 - cmdstanpy - INFO - Chain [1] done processing\n",
      "21:50:00 - cmdstanpy - INFO - Chain [1] start processing\n",
      "21:50:00 - cmdstanpy - INFO - Chain [1] done processing\n",
      "21:50:00 - cmdstanpy - INFO - Chain [1] start processing\n",
      "21:50:01 - cmdstanpy - INFO - Chain [1] done processing\n",
      "21:50:01 - cmdstanpy - INFO - Chain [1] start processing\n",
      "21:50:01 - cmdstanpy - INFO - Chain [1] done processing\n",
      "21:50:02 - cmdstanpy - INFO - Chain [1] start processing\n",
      "21:50:02 - cmdstanpy - INFO - Chain [1] done processing\n"
     ]
    },
    {
     "data": {
      "application/vnd.jupyter.widget-view+json": {
       "model_id": "ebb0141f98304b60a0604f3c67ac61f8",
       "version_major": 2,
       "version_minor": 0
      },
      "text/plain": [
       "  0%|          | 0/17 [00:00<?, ?it/s]"
      ]
     },
     "metadata": {},
     "output_type": "display_data"
    },
    {
     "name": "stderr",
     "output_type": "stream",
     "text": [
      "21:50:02 - cmdstanpy - INFO - Chain [1] start processing\n",
      "21:50:02 - cmdstanpy - INFO - Chain [1] done processing\n",
      "21:50:02 - cmdstanpy - INFO - Chain [1] start processing\n",
      "21:50:03 - cmdstanpy - INFO - Chain [1] done processing\n",
      "21:50:03 - cmdstanpy - INFO - Chain [1] start processing\n",
      "21:50:03 - cmdstanpy - INFO - Chain [1] done processing\n",
      "21:50:03 - cmdstanpy - INFO - Chain [1] start processing\n",
      "21:50:03 - cmdstanpy - INFO - Chain [1] done processing\n",
      "21:50:04 - cmdstanpy - INFO - Chain [1] start processing\n",
      "21:50:04 - cmdstanpy - INFO - Chain [1] done processing\n",
      "21:50:04 - cmdstanpy - INFO - Chain [1] start processing\n",
      "21:50:04 - cmdstanpy - INFO - Chain [1] done processing\n",
      "21:50:05 - cmdstanpy - INFO - Chain [1] start processing\n",
      "21:50:05 - cmdstanpy - INFO - Chain [1] done processing\n",
      "21:50:05 - cmdstanpy - INFO - Chain [1] start processing\n",
      "21:50:06 - cmdstanpy - INFO - Chain [1] done processing\n",
      "21:50:06 - cmdstanpy - INFO - Chain [1] start processing\n",
      "21:50:06 - cmdstanpy - INFO - Chain [1] done processing\n",
      "21:50:06 - cmdstanpy - INFO - Chain [1] start processing\n",
      "21:50:07 - cmdstanpy - INFO - Chain [1] done processing\n",
      "21:50:07 - cmdstanpy - INFO - Chain [1] start processing\n",
      "21:50:07 - cmdstanpy - INFO - Chain [1] done processing\n",
      "21:50:07 - cmdstanpy - INFO - Chain [1] start processing\n",
      "21:50:08 - cmdstanpy - INFO - Chain [1] done processing\n",
      "21:50:08 - cmdstanpy - INFO - Chain [1] start processing\n",
      "21:50:08 - cmdstanpy - INFO - Chain [1] done processing\n",
      "21:50:08 - cmdstanpy - INFO - Chain [1] start processing\n",
      "21:50:09 - cmdstanpy - INFO - Chain [1] done processing\n",
      "21:50:09 - cmdstanpy - INFO - Chain [1] start processing\n",
      "21:50:09 - cmdstanpy - INFO - Chain [1] done processing\n",
      "21:50:09 - cmdstanpy - INFO - Chain [1] start processing\n",
      "21:50:10 - cmdstanpy - INFO - Chain [1] done processing\n",
      "21:50:10 - cmdstanpy - INFO - Chain [1] start processing\n",
      "21:50:10 - cmdstanpy - INFO - Chain [1] done processing\n",
      "21:50:11 - cmdstanpy - INFO - Chain [1] start processing\n",
      "21:50:11 - cmdstanpy - INFO - Chain [1] done processing\n"
     ]
    },
    {
     "data": {
      "application/vnd.jupyter.widget-view+json": {
       "model_id": "8b088192213b44879cdf2908463cd6aa",
       "version_major": 2,
       "version_minor": 0
      },
      "text/plain": [
       "  0%|          | 0/17 [00:00<?, ?it/s]"
      ]
     },
     "metadata": {},
     "output_type": "display_data"
    },
    {
     "name": "stderr",
     "output_type": "stream",
     "text": [
      "21:50:11 - cmdstanpy - INFO - Chain [1] start processing\n",
      "21:50:11 - cmdstanpy - INFO - Chain [1] done processing\n",
      "21:50:11 - cmdstanpy - INFO - Chain [1] start processing\n",
      "21:50:12 - cmdstanpy - INFO - Chain [1] done processing\n",
      "21:50:12 - cmdstanpy - INFO - Chain [1] start processing\n",
      "21:50:12 - cmdstanpy - INFO - Chain [1] done processing\n",
      "21:50:12 - cmdstanpy - INFO - Chain [1] start processing\n",
      "21:50:13 - cmdstanpy - INFO - Chain [1] done processing\n",
      "21:50:13 - cmdstanpy - INFO - Chain [1] start processing\n",
      "21:50:13 - cmdstanpy - INFO - Chain [1] done processing\n",
      "21:50:13 - cmdstanpy - INFO - Chain [1] start processing\n",
      "21:50:13 - cmdstanpy - INFO - Chain [1] done processing\n",
      "21:50:14 - cmdstanpy - INFO - Chain [1] start processing\n",
      "21:50:14 - cmdstanpy - INFO - Chain [1] done processing\n",
      "21:50:14 - cmdstanpy - INFO - Chain [1] start processing\n",
      "21:50:14 - cmdstanpy - INFO - Chain [1] done processing\n",
      "21:50:15 - cmdstanpy - INFO - Chain [1] start processing\n",
      "21:50:15 - cmdstanpy - INFO - Chain [1] done processing\n",
      "21:50:15 - cmdstanpy - INFO - Chain [1] start processing\n",
      "21:50:16 - cmdstanpy - INFO - Chain [1] done processing\n",
      "21:50:16 - cmdstanpy - INFO - Chain [1] start processing\n",
      "21:50:16 - cmdstanpy - INFO - Chain [1] done processing\n",
      "21:50:16 - cmdstanpy - INFO - Chain [1] start processing\n",
      "21:50:17 - cmdstanpy - INFO - Chain [1] done processing\n",
      "21:50:17 - cmdstanpy - INFO - Chain [1] start processing\n",
      "21:50:17 - cmdstanpy - INFO - Chain [1] done processing\n",
      "21:50:17 - cmdstanpy - INFO - Chain [1] start processing\n",
      "21:50:17 - cmdstanpy - INFO - Chain [1] done processing\n",
      "21:50:18 - cmdstanpy - INFO - Chain [1] start processing\n",
      "21:50:18 - cmdstanpy - INFO - Chain [1] done processing\n",
      "21:50:18 - cmdstanpy - INFO - Chain [1] start processing\n",
      "21:50:19 - cmdstanpy - INFO - Chain [1] done processing\n",
      "21:50:19 - cmdstanpy - INFO - Chain [1] start processing\n",
      "21:50:19 - cmdstanpy - INFO - Chain [1] done processing\n",
      "21:50:20 - cmdstanpy - INFO - Chain [1] start processing\n",
      "21:50:20 - cmdstanpy - INFO - Chain [1] done processing\n"
     ]
    },
    {
     "data": {
      "application/vnd.jupyter.widget-view+json": {
       "model_id": "ab6ff684f7e24181ac9fcb9c5f3aec55",
       "version_major": 2,
       "version_minor": 0
      },
      "text/plain": [
       "  0%|          | 0/17 [00:00<?, ?it/s]"
      ]
     },
     "metadata": {},
     "output_type": "display_data"
    },
    {
     "name": "stderr",
     "output_type": "stream",
     "text": [
      "21:50:20 - cmdstanpy - INFO - Chain [1] start processing\n",
      "21:50:20 - cmdstanpy - INFO - Chain [1] done processing\n",
      "21:50:21 - cmdstanpy - INFO - Chain [1] start processing\n",
      "21:50:21 - cmdstanpy - INFO - Chain [1] done processing\n",
      "21:50:21 - cmdstanpy - INFO - Chain [1] start processing\n",
      "21:50:21 - cmdstanpy - INFO - Chain [1] done processing\n",
      "21:50:22 - cmdstanpy - INFO - Chain [1] start processing\n",
      "21:50:22 - cmdstanpy - INFO - Chain [1] done processing\n",
      "21:50:22 - cmdstanpy - INFO - Chain [1] start processing\n",
      "21:50:22 - cmdstanpy - INFO - Chain [1] done processing\n",
      "21:50:23 - cmdstanpy - INFO - Chain [1] start processing\n",
      "21:50:23 - cmdstanpy - INFO - Chain [1] done processing\n",
      "21:50:23 - cmdstanpy - INFO - Chain [1] start processing\n",
      "21:50:23 - cmdstanpy - INFO - Chain [1] done processing\n",
      "21:50:23 - cmdstanpy - INFO - Chain [1] start processing\n",
      "21:50:24 - cmdstanpy - INFO - Chain [1] done processing\n",
      "21:50:24 - cmdstanpy - INFO - Chain [1] start processing\n",
      "21:50:24 - cmdstanpy - INFO - Chain [1] done processing\n",
      "21:50:25 - cmdstanpy - INFO - Chain [1] start processing\n",
      "21:50:25 - cmdstanpy - INFO - Chain [1] done processing\n",
      "21:50:25 - cmdstanpy - INFO - Chain [1] start processing\n",
      "21:50:25 - cmdstanpy - INFO - Chain [1] done processing\n",
      "21:50:26 - cmdstanpy - INFO - Chain [1] start processing\n",
      "21:50:26 - cmdstanpy - INFO - Chain [1] done processing\n",
      "21:50:26 - cmdstanpy - INFO - Chain [1] start processing\n",
      "21:50:27 - cmdstanpy - INFO - Chain [1] done processing\n",
      "21:50:27 - cmdstanpy - INFO - Chain [1] start processing\n",
      "21:50:27 - cmdstanpy - INFO - Chain [1] done processing\n",
      "21:50:27 - cmdstanpy - INFO - Chain [1] start processing\n",
      "21:50:28 - cmdstanpy - INFO - Chain [1] done processing\n",
      "21:50:28 - cmdstanpy - INFO - Chain [1] start processing\n",
      "21:50:28 - cmdstanpy - INFO - Chain [1] done processing\n",
      "21:50:29 - cmdstanpy - INFO - Chain [1] start processing\n",
      "21:50:29 - cmdstanpy - INFO - Chain [1] done processing\n",
      "21:50:29 - cmdstanpy - INFO - Chain [1] start processing\n",
      "21:50:30 - cmdstanpy - INFO - Chain [1] done processing\n"
     ]
    },
    {
     "data": {
      "application/vnd.jupyter.widget-view+json": {
       "model_id": "2e553e00635c4982a29995086674cbff",
       "version_major": 2,
       "version_minor": 0
      },
      "text/plain": [
       "  0%|          | 0/17 [00:00<?, ?it/s]"
      ]
     },
     "metadata": {},
     "output_type": "display_data"
    },
    {
     "name": "stderr",
     "output_type": "stream",
     "text": [
      "21:50:30 - cmdstanpy - INFO - Chain [1] start processing\n",
      "21:50:30 - cmdstanpy - INFO - Chain [1] done processing\n",
      "21:50:30 - cmdstanpy - INFO - Chain [1] start processing\n",
      "21:50:31 - cmdstanpy - INFO - Chain [1] done processing\n",
      "21:50:31 - cmdstanpy - INFO - Chain [1] start processing\n",
      "21:50:31 - cmdstanpy - INFO - Chain [1] done processing\n",
      "21:50:31 - cmdstanpy - INFO - Chain [1] start processing\n",
      "21:50:32 - cmdstanpy - INFO - Chain [1] done processing\n",
      "21:50:32 - cmdstanpy - INFO - Chain [1] start processing\n",
      "21:50:32 - cmdstanpy - INFO - Chain [1] done processing\n",
      "21:50:32 - cmdstanpy - INFO - Chain [1] start processing\n",
      "21:50:33 - cmdstanpy - INFO - Chain [1] done processing\n",
      "21:50:33 - cmdstanpy - INFO - Chain [1] start processing\n",
      "21:50:33 - cmdstanpy - INFO - Chain [1] done processing\n",
      "21:50:34 - cmdstanpy - INFO - Chain [1] start processing\n",
      "21:50:34 - cmdstanpy - INFO - Chain [1] done processing\n",
      "21:50:34 - cmdstanpy - INFO - Chain [1] start processing\n",
      "21:50:34 - cmdstanpy - INFO - Chain [1] done processing\n",
      "21:50:35 - cmdstanpy - INFO - Chain [1] start processing\n",
      "21:50:35 - cmdstanpy - INFO - Chain [1] done processing\n",
      "21:50:35 - cmdstanpy - INFO - Chain [1] start processing\n",
      "21:50:35 - cmdstanpy - INFO - Chain [1] done processing\n",
      "21:50:36 - cmdstanpy - INFO - Chain [1] start processing\n",
      "21:50:36 - cmdstanpy - INFO - Chain [1] done processing\n",
      "21:50:36 - cmdstanpy - INFO - Chain [1] start processing\n",
      "21:50:37 - cmdstanpy - INFO - Chain [1] done processing\n",
      "21:50:37 - cmdstanpy - INFO - Chain [1] start processing\n",
      "21:50:37 - cmdstanpy - INFO - Chain [1] done processing\n",
      "21:50:37 - cmdstanpy - INFO - Chain [1] start processing\n",
      "21:50:38 - cmdstanpy - INFO - Chain [1] done processing\n",
      "21:50:38 - cmdstanpy - INFO - Chain [1] start processing\n",
      "21:50:38 - cmdstanpy - INFO - Chain [1] done processing\n",
      "21:50:39 - cmdstanpy - INFO - Chain [1] start processing\n",
      "21:50:39 - cmdstanpy - INFO - Chain [1] done processing\n",
      "21:50:39 - cmdstanpy - INFO - Chain [1] start processing\n",
      "21:50:40 - cmdstanpy - INFO - Chain [1] done processing\n"
     ]
    },
    {
     "data": {
      "application/vnd.jupyter.widget-view+json": {
       "model_id": "5788fce56ef94b7e9665be2dbff4cb86",
       "version_major": 2,
       "version_minor": 0
      },
      "text/plain": [
       "  0%|          | 0/17 [00:00<?, ?it/s]"
      ]
     },
     "metadata": {},
     "output_type": "display_data"
    },
    {
     "name": "stderr",
     "output_type": "stream",
     "text": [
      "21:50:40 - cmdstanpy - INFO - Chain [1] start processing\n",
      "21:50:40 - cmdstanpy - INFO - Chain [1] done processing\n",
      "21:50:40 - cmdstanpy - INFO - Chain [1] start processing\n",
      "21:50:40 - cmdstanpy - INFO - Chain [1] done processing\n",
      "21:50:41 - cmdstanpy - INFO - Chain [1] start processing\n",
      "21:50:41 - cmdstanpy - INFO - Chain [1] done processing\n",
      "21:50:41 - cmdstanpy - INFO - Chain [1] start processing\n",
      "21:50:41 - cmdstanpy - INFO - Chain [1] done processing\n",
      "21:50:42 - cmdstanpy - INFO - Chain [1] start processing\n",
      "21:50:42 - cmdstanpy - INFO - Chain [1] done processing\n",
      "21:50:42 - cmdstanpy - INFO - Chain [1] start processing\n",
      "21:50:43 - cmdstanpy - INFO - Chain [1] done processing\n",
      "21:50:43 - cmdstanpy - INFO - Chain [1] start processing\n",
      "21:50:43 - cmdstanpy - INFO - Chain [1] done processing\n",
      "21:50:43 - cmdstanpy - INFO - Chain [1] start processing\n",
      "21:50:44 - cmdstanpy - INFO - Chain [1] done processing\n",
      "21:50:44 - cmdstanpy - INFO - Chain [1] start processing\n",
      "21:50:44 - cmdstanpy - INFO - Chain [1] done processing\n",
      "21:50:45 - cmdstanpy - INFO - Chain [1] start processing\n",
      "21:50:45 - cmdstanpy - INFO - Chain [1] done processing\n",
      "21:50:45 - cmdstanpy - INFO - Chain [1] start processing\n",
      "21:50:45 - cmdstanpy - INFO - Chain [1] done processing\n",
      "21:50:46 - cmdstanpy - INFO - Chain [1] start processing\n",
      "21:50:46 - cmdstanpy - INFO - Chain [1] done processing\n",
      "21:50:46 - cmdstanpy - INFO - Chain [1] start processing\n",
      "21:50:47 - cmdstanpy - INFO - Chain [1] done processing\n",
      "21:50:47 - cmdstanpy - INFO - Chain [1] start processing\n",
      "21:50:48 - cmdstanpy - INFO - Chain [1] done processing\n",
      "21:50:48 - cmdstanpy - INFO - Chain [1] start processing\n",
      "21:50:48 - cmdstanpy - INFO - Chain [1] done processing\n",
      "21:50:49 - cmdstanpy - INFO - Chain [1] start processing\n",
      "21:50:49 - cmdstanpy - INFO - Chain [1] done processing\n",
      "21:50:49 - cmdstanpy - INFO - Chain [1] start processing\n",
      "21:50:50 - cmdstanpy - INFO - Chain [1] done processing\n",
      "21:50:50 - cmdstanpy - INFO - Chain [1] start processing\n",
      "21:50:51 - cmdstanpy - INFO - Chain [1] done processing\n"
     ]
    },
    {
     "data": {
      "application/vnd.jupyter.widget-view+json": {
       "model_id": "1ddc7352d6b94a01954371d027f7b26a",
       "version_major": 2,
       "version_minor": 0
      },
      "text/plain": [
       "  0%|          | 0/17 [00:00<?, ?it/s]"
      ]
     },
     "metadata": {},
     "output_type": "display_data"
    },
    {
     "name": "stderr",
     "output_type": "stream",
     "text": [
      "21:50:51 - cmdstanpy - INFO - Chain [1] start processing\n",
      "21:50:51 - cmdstanpy - INFO - Chain [1] done processing\n",
      "21:50:52 - cmdstanpy - INFO - Chain [1] start processing\n",
      "21:50:52 - cmdstanpy - INFO - Chain [1] done processing\n",
      "21:50:52 - cmdstanpy - INFO - Chain [1] start processing\n",
      "21:50:52 - cmdstanpy - INFO - Chain [1] done processing\n",
      "21:50:52 - cmdstanpy - INFO - Chain [1] start processing\n",
      "21:50:53 - cmdstanpy - INFO - Chain [1] done processing\n",
      "21:50:53 - cmdstanpy - INFO - Chain [1] start processing\n",
      "21:50:53 - cmdstanpy - INFO - Chain [1] done processing\n",
      "21:50:53 - cmdstanpy - INFO - Chain [1] start processing\n",
      "21:50:54 - cmdstanpy - INFO - Chain [1] done processing\n",
      "21:50:54 - cmdstanpy - INFO - Chain [1] start processing\n",
      "21:50:54 - cmdstanpy - INFO - Chain [1] done processing\n",
      "21:50:55 - cmdstanpy - INFO - Chain [1] start processing\n",
      "21:50:55 - cmdstanpy - INFO - Chain [1] done processing\n",
      "21:50:55 - cmdstanpy - INFO - Chain [1] start processing\n",
      "21:50:55 - cmdstanpy - INFO - Chain [1] done processing\n",
      "21:50:56 - cmdstanpy - INFO - Chain [1] start processing\n",
      "21:50:56 - cmdstanpy - INFO - Chain [1] done processing\n",
      "21:50:56 - cmdstanpy - INFO - Chain [1] start processing\n",
      "21:50:57 - cmdstanpy - INFO - Chain [1] done processing\n",
      "21:50:57 - cmdstanpy - INFO - Chain [1] start processing\n",
      "21:50:57 - cmdstanpy - INFO - Chain [1] done processing\n",
      "21:50:57 - cmdstanpy - INFO - Chain [1] start processing\n",
      "21:50:58 - cmdstanpy - INFO - Chain [1] done processing\n",
      "21:50:58 - cmdstanpy - INFO - Chain [1] start processing\n",
      "21:50:58 - cmdstanpy - INFO - Chain [1] done processing\n",
      "21:50:59 - cmdstanpy - INFO - Chain [1] start processing\n",
      "21:50:59 - cmdstanpy - INFO - Chain [1] done processing\n",
      "21:50:59 - cmdstanpy - INFO - Chain [1] start processing\n",
      "21:51:00 - cmdstanpy - INFO - Chain [1] done processing\n",
      "21:51:00 - cmdstanpy - INFO - Chain [1] start processing\n",
      "21:51:00 - cmdstanpy - INFO - Chain [1] done processing\n",
      "21:51:01 - cmdstanpy - INFO - Chain [1] start processing\n",
      "21:51:01 - cmdstanpy - INFO - Chain [1] done processing\n"
     ]
    },
    {
     "data": {
      "application/vnd.jupyter.widget-view+json": {
       "model_id": "b970b28dea5b490189d97e1e60e1d427",
       "version_major": 2,
       "version_minor": 0
      },
      "text/plain": [
       "  0%|          | 0/17 [00:00<?, ?it/s]"
      ]
     },
     "metadata": {},
     "output_type": "display_data"
    },
    {
     "name": "stderr",
     "output_type": "stream",
     "text": [
      "21:51:02 - cmdstanpy - INFO - Chain [1] start processing\n",
      "21:51:02 - cmdstanpy - INFO - Chain [1] done processing\n",
      "21:51:02 - cmdstanpy - INFO - Chain [1] start processing\n",
      "21:51:02 - cmdstanpy - INFO - Chain [1] done processing\n",
      "21:51:03 - cmdstanpy - INFO - Chain [1] start processing\n",
      "21:51:03 - cmdstanpy - INFO - Chain [1] done processing\n",
      "21:51:03 - cmdstanpy - INFO - Chain [1] start processing\n",
      "21:51:03 - cmdstanpy - INFO - Chain [1] done processing\n",
      "21:51:04 - cmdstanpy - INFO - Chain [1] start processing\n",
      "21:51:04 - cmdstanpy - INFO - Chain [1] done processing\n",
      "21:51:04 - cmdstanpy - INFO - Chain [1] start processing\n",
      "21:51:04 - cmdstanpy - INFO - Chain [1] done processing\n",
      "21:51:05 - cmdstanpy - INFO - Chain [1] start processing\n",
      "21:51:05 - cmdstanpy - INFO - Chain [1] done processing\n",
      "21:51:05 - cmdstanpy - INFO - Chain [1] start processing\n",
      "21:51:06 - cmdstanpy - INFO - Chain [1] done processing\n",
      "21:51:06 - cmdstanpy - INFO - Chain [1] start processing\n",
      "21:51:06 - cmdstanpy - INFO - Chain [1] done processing\n",
      "21:51:06 - cmdstanpy - INFO - Chain [1] start processing\n",
      "21:51:07 - cmdstanpy - INFO - Chain [1] done processing\n",
      "21:51:07 - cmdstanpy - INFO - Chain [1] start processing\n",
      "21:51:07 - cmdstanpy - INFO - Chain [1] done processing\n",
      "21:51:08 - cmdstanpy - INFO - Chain [1] start processing\n",
      "21:51:08 - cmdstanpy - INFO - Chain [1] done processing\n",
      "21:51:08 - cmdstanpy - INFO - Chain [1] start processing\n",
      "21:51:09 - cmdstanpy - INFO - Chain [1] done processing\n",
      "21:51:09 - cmdstanpy - INFO - Chain [1] start processing\n",
      "21:51:09 - cmdstanpy - INFO - Chain [1] done processing\n",
      "21:51:09 - cmdstanpy - INFO - Chain [1] start processing\n",
      "21:51:10 - cmdstanpy - INFO - Chain [1] done processing\n",
      "21:51:10 - cmdstanpy - INFO - Chain [1] start processing\n",
      "21:51:10 - cmdstanpy - INFO - Chain [1] done processing\n",
      "21:51:11 - cmdstanpy - INFO - Chain [1] start processing\n",
      "21:51:11 - cmdstanpy - INFO - Chain [1] done processing\n",
      "21:51:11 - cmdstanpy - INFO - Chain [1] start processing\n",
      "21:51:12 - cmdstanpy - INFO - Chain [1] done processing\n"
     ]
    },
    {
     "data": {
      "application/vnd.jupyter.widget-view+json": {
       "model_id": "9bbcdcb78d454f6c8bf342a959023427",
       "version_major": 2,
       "version_minor": 0
      },
      "text/plain": [
       "  0%|          | 0/17 [00:00<?, ?it/s]"
      ]
     },
     "metadata": {},
     "output_type": "display_data"
    },
    {
     "name": "stderr",
     "output_type": "stream",
     "text": [
      "21:51:12 - cmdstanpy - INFO - Chain [1] start processing\n",
      "21:51:12 - cmdstanpy - INFO - Chain [1] done processing\n",
      "21:51:12 - cmdstanpy - INFO - Chain [1] start processing\n",
      "21:51:13 - cmdstanpy - INFO - Chain [1] done processing\n",
      "21:51:13 - cmdstanpy - INFO - Chain [1] start processing\n",
      "21:51:13 - cmdstanpy - INFO - Chain [1] done processing\n",
      "21:51:14 - cmdstanpy - INFO - Chain [1] start processing\n",
      "21:51:14 - cmdstanpy - INFO - Chain [1] done processing\n",
      "21:51:14 - cmdstanpy - INFO - Chain [1] start processing\n",
      "21:51:14 - cmdstanpy - INFO - Chain [1] done processing\n",
      "21:51:15 - cmdstanpy - INFO - Chain [1] start processing\n",
      "21:51:15 - cmdstanpy - INFO - Chain [1] done processing\n",
      "21:51:15 - cmdstanpy - INFO - Chain [1] start processing\n",
      "21:51:16 - cmdstanpy - INFO - Chain [1] done processing\n",
      "21:51:16 - cmdstanpy - INFO - Chain [1] start processing\n",
      "21:51:16 - cmdstanpy - INFO - Chain [1] done processing\n",
      "21:51:16 - cmdstanpy - INFO - Chain [1] start processing\n",
      "21:51:17 - cmdstanpy - INFO - Chain [1] done processing\n",
      "21:51:17 - cmdstanpy - INFO - Chain [1] start processing\n",
      "21:51:18 - cmdstanpy - INFO - Chain [1] done processing\n",
      "21:51:18 - cmdstanpy - INFO - Chain [1] start processing\n",
      "21:51:18 - cmdstanpy - INFO - Chain [1] done processing\n",
      "21:51:18 - cmdstanpy - INFO - Chain [1] start processing\n",
      "21:51:19 - cmdstanpy - INFO - Chain [1] done processing\n",
      "21:51:19 - cmdstanpy - INFO - Chain [1] start processing\n",
      "21:51:19 - cmdstanpy - INFO - Chain [1] done processing\n",
      "21:51:19 - cmdstanpy - INFO - Chain [1] start processing\n",
      "21:51:20 - cmdstanpy - INFO - Chain [1] done processing\n",
      "21:51:20 - cmdstanpy - INFO - Chain [1] start processing\n",
      "21:51:21 - cmdstanpy - INFO - Chain [1] done processing\n",
      "21:51:21 - cmdstanpy - INFO - Chain [1] start processing\n",
      "21:51:21 - cmdstanpy - INFO - Chain [1] done processing\n",
      "21:51:22 - cmdstanpy - INFO - Chain [1] start processing\n",
      "21:51:22 - cmdstanpy - INFO - Chain [1] done processing\n",
      "21:51:22 - cmdstanpy - INFO - Chain [1] start processing\n",
      "21:51:23 - cmdstanpy - INFO - Chain [1] done processing\n"
     ]
    },
    {
     "data": {
      "application/vnd.jupyter.widget-view+json": {
       "model_id": "71bdf0eb5c61424bb81c5c9106bab1fa",
       "version_major": 2,
       "version_minor": 0
      },
      "text/plain": [
       "  0%|          | 0/17 [00:00<?, ?it/s]"
      ]
     },
     "metadata": {},
     "output_type": "display_data"
    },
    {
     "name": "stderr",
     "output_type": "stream",
     "text": [
      "21:51:23 - cmdstanpy - INFO - Chain [1] start processing\n",
      "21:51:23 - cmdstanpy - INFO - Chain [1] done processing\n",
      "21:51:24 - cmdstanpy - INFO - Chain [1] start processing\n",
      "21:51:24 - cmdstanpy - INFO - Chain [1] done processing\n",
      "21:51:24 - cmdstanpy - INFO - Chain [1] start processing\n",
      "21:51:25 - cmdstanpy - INFO - Chain [1] done processing\n",
      "21:51:25 - cmdstanpy - INFO - Chain [1] start processing\n",
      "21:51:25 - cmdstanpy - INFO - Chain [1] done processing\n",
      "21:51:26 - cmdstanpy - INFO - Chain [1] start processing\n",
      "21:51:26 - cmdstanpy - INFO - Chain [1] done processing\n",
      "21:51:27 - cmdstanpy - INFO - Chain [1] start processing\n",
      "21:51:27 - cmdstanpy - INFO - Chain [1] done processing\n",
      "21:51:27 - cmdstanpy - INFO - Chain [1] start processing\n",
      "21:51:28 - cmdstanpy - INFO - Chain [1] done processing\n",
      "21:51:28 - cmdstanpy - INFO - Chain [1] start processing\n",
      "21:51:28 - cmdstanpy - INFO - Chain [1] done processing\n",
      "21:51:28 - cmdstanpy - INFO - Chain [1] start processing\n",
      "21:51:29 - cmdstanpy - INFO - Chain [1] done processing\n",
      "21:51:29 - cmdstanpy - INFO - Chain [1] start processing\n",
      "21:51:29 - cmdstanpy - INFO - Chain [1] done processing\n",
      "21:51:30 - cmdstanpy - INFO - Chain [1] start processing\n",
      "21:51:30 - cmdstanpy - INFO - Chain [1] done processing\n",
      "21:51:31 - cmdstanpy - INFO - Chain [1] start processing\n",
      "21:51:31 - cmdstanpy - INFO - Chain [1] done processing\n",
      "21:51:31 - cmdstanpy - INFO - Chain [1] start processing\n",
      "21:51:32 - cmdstanpy - INFO - Chain [1] done processing\n",
      "21:51:32 - cmdstanpy - INFO - Chain [1] start processing\n",
      "21:51:32 - cmdstanpy - INFO - Chain [1] done processing\n",
      "21:51:33 - cmdstanpy - INFO - Chain [1] start processing\n",
      "21:51:33 - cmdstanpy - INFO - Chain [1] done processing\n",
      "21:51:34 - cmdstanpy - INFO - Chain [1] start processing\n",
      "21:51:34 - cmdstanpy - INFO - Chain [1] done processing\n",
      "21:51:34 - cmdstanpy - INFO - Chain [1] start processing\n",
      "21:51:35 - cmdstanpy - INFO - Chain [1] done processing\n",
      "21:51:36 - cmdstanpy - INFO - Chain [1] start processing\n",
      "21:51:36 - cmdstanpy - INFO - Chain [1] done processing\n"
     ]
    },
    {
     "data": {
      "application/vnd.jupyter.widget-view+json": {
       "model_id": "cb253ee5759a49e78c7012cbb2a4dc9d",
       "version_major": 2,
       "version_minor": 0
      },
      "text/plain": [
       "  0%|          | 0/17 [00:00<?, ?it/s]"
      ]
     },
     "metadata": {},
     "output_type": "display_data"
    },
    {
     "name": "stderr",
     "output_type": "stream",
     "text": [
      "21:51:36 - cmdstanpy - INFO - Chain [1] start processing\n",
      "21:51:37 - cmdstanpy - INFO - Chain [1] done processing\n",
      "21:51:37 - cmdstanpy - INFO - Chain [1] start processing\n",
      "21:51:38 - cmdstanpy - INFO - Chain [1] done processing\n",
      "21:51:38 - cmdstanpy - INFO - Chain [1] start processing\n",
      "21:51:38 - cmdstanpy - INFO - Chain [1] done processing\n",
      "21:51:39 - cmdstanpy - INFO - Chain [1] start processing\n",
      "21:51:39 - cmdstanpy - INFO - Chain [1] done processing\n",
      "21:51:39 - cmdstanpy - INFO - Chain [1] start processing\n",
      "21:51:40 - cmdstanpy - INFO - Chain [1] done processing\n",
      "21:51:40 - cmdstanpy - INFO - Chain [1] start processing\n",
      "21:51:41 - cmdstanpy - INFO - Chain [1] done processing\n",
      "21:51:41 - cmdstanpy - INFO - Chain [1] start processing\n",
      "21:51:41 - cmdstanpy - INFO - Chain [1] done processing\n",
      "21:51:42 - cmdstanpy - INFO - Chain [1] start processing\n",
      "21:51:42 - cmdstanpy - INFO - Chain [1] done processing\n",
      "21:51:42 - cmdstanpy - INFO - Chain [1] start processing\n",
      "21:51:43 - cmdstanpy - INFO - Chain [1] done processing\n",
      "21:51:43 - cmdstanpy - INFO - Chain [1] start processing\n",
      "21:51:44 - cmdstanpy - INFO - Chain [1] done processing\n",
      "21:51:44 - cmdstanpy - INFO - Chain [1] start processing\n",
      "21:51:44 - cmdstanpy - INFO - Chain [1] done processing\n",
      "21:51:45 - cmdstanpy - INFO - Chain [1] start processing\n",
      "21:51:45 - cmdstanpy - INFO - Chain [1] done processing\n",
      "21:51:45 - cmdstanpy - INFO - Chain [1] start processing\n",
      "21:51:46 - cmdstanpy - INFO - Chain [1] done processing\n",
      "21:51:46 - cmdstanpy - INFO - Chain [1] start processing\n",
      "21:51:47 - cmdstanpy - INFO - Chain [1] done processing\n",
      "21:51:47 - cmdstanpy - INFO - Chain [1] start processing\n",
      "21:51:48 - cmdstanpy - INFO - Chain [1] done processing\n",
      "21:51:48 - cmdstanpy - INFO - Chain [1] start processing\n",
      "21:51:49 - cmdstanpy - INFO - Chain [1] done processing\n",
      "21:51:49 - cmdstanpy - INFO - Chain [1] start processing\n",
      "21:51:50 - cmdstanpy - INFO - Chain [1] done processing\n",
      "21:51:50 - cmdstanpy - INFO - Chain [1] start processing\n",
      "21:51:51 - cmdstanpy - INFO - Chain [1] done processing\n"
     ]
    },
    {
     "data": {
      "application/vnd.jupyter.widget-view+json": {
       "model_id": "7fbf91e7cd974d5889136a851b286b90",
       "version_major": 2,
       "version_minor": 0
      },
      "text/plain": [
       "  0%|          | 0/17 [00:00<?, ?it/s]"
      ]
     },
     "metadata": {},
     "output_type": "display_data"
    },
    {
     "name": "stderr",
     "output_type": "stream",
     "text": [
      "21:51:51 - cmdstanpy - INFO - Chain [1] start processing\n",
      "21:51:52 - cmdstanpy - INFO - Chain [1] done processing\n",
      "21:51:52 - cmdstanpy - INFO - Chain [1] start processing\n",
      "21:51:52 - cmdstanpy - INFO - Chain [1] done processing\n",
      "21:51:53 - cmdstanpy - INFO - Chain [1] start processing\n",
      "21:51:53 - cmdstanpy - INFO - Chain [1] done processing\n",
      "21:51:53 - cmdstanpy - INFO - Chain [1] start processing\n",
      "21:51:54 - cmdstanpy - INFO - Chain [1] done processing\n",
      "21:51:54 - cmdstanpy - INFO - Chain [1] start processing\n",
      "21:51:55 - cmdstanpy - INFO - Chain [1] done processing\n",
      "21:51:55 - cmdstanpy - INFO - Chain [1] start processing\n",
      "21:51:56 - cmdstanpy - INFO - Chain [1] done processing\n",
      "21:51:56 - cmdstanpy - INFO - Chain [1] start processing\n",
      "21:51:57 - cmdstanpy - INFO - Chain [1] done processing\n",
      "21:51:57 - cmdstanpy - INFO - Chain [1] start processing\n",
      "21:51:57 - cmdstanpy - INFO - Chain [1] done processing\n",
      "21:51:58 - cmdstanpy - INFO - Chain [1] start processing\n",
      "21:51:58 - cmdstanpy - INFO - Chain [1] done processing\n",
      "21:51:58 - cmdstanpy - INFO - Chain [1] start processing\n",
      "21:51:59 - cmdstanpy - INFO - Chain [1] done processing\n",
      "21:51:59 - cmdstanpy - INFO - Chain [1] start processing\n",
      "21:52:00 - cmdstanpy - INFO - Chain [1] done processing\n",
      "21:52:00 - cmdstanpy - INFO - Chain [1] start processing\n",
      "21:52:01 - cmdstanpy - INFO - Chain [1] done processing\n",
      "21:52:01 - cmdstanpy - INFO - Chain [1] start processing\n",
      "21:52:02 - cmdstanpy - INFO - Chain [1] done processing\n",
      "21:52:02 - cmdstanpy - INFO - Chain [1] start processing\n",
      "21:52:03 - cmdstanpy - INFO - Chain [1] done processing\n",
      "21:52:04 - cmdstanpy - INFO - Chain [1] start processing\n",
      "21:52:04 - cmdstanpy - INFO - Chain [1] done processing\n",
      "21:52:05 - cmdstanpy - INFO - Chain [1] start processing\n",
      "21:52:05 - cmdstanpy - INFO - Chain [1] done processing\n",
      "21:52:06 - cmdstanpy - INFO - Chain [1] start processing\n",
      "21:52:07 - cmdstanpy - INFO - Chain [1] done processing\n",
      "21:52:07 - cmdstanpy - INFO - Chain [1] start processing\n",
      "21:52:08 - cmdstanpy - INFO - Chain [1] done processing\n"
     ]
    },
    {
     "data": {
      "application/vnd.jupyter.widget-view+json": {
       "model_id": "bcd8b8be317e44c19596f5d89f739521",
       "version_major": 2,
       "version_minor": 0
      },
      "text/plain": [
       "  0%|          | 0/17 [00:00<?, ?it/s]"
      ]
     },
     "metadata": {},
     "output_type": "display_data"
    },
    {
     "name": "stderr",
     "output_type": "stream",
     "text": [
      "21:52:08 - cmdstanpy - INFO - Chain [1] start processing\n",
      "21:52:08 - cmdstanpy - INFO - Chain [1] done processing\n",
      "21:52:09 - cmdstanpy - INFO - Chain [1] start processing\n",
      "21:52:09 - cmdstanpy - INFO - Chain [1] done processing\n",
      "21:52:09 - cmdstanpy - INFO - Chain [1] start processing\n",
      "21:52:10 - cmdstanpy - INFO - Chain [1] done processing\n",
      "21:52:10 - cmdstanpy - INFO - Chain [1] start processing\n",
      "21:52:11 - cmdstanpy - INFO - Chain [1] done processing\n",
      "21:52:11 - cmdstanpy - INFO - Chain [1] start processing\n",
      "21:52:12 - cmdstanpy - INFO - Chain [1] done processing\n",
      "21:52:12 - cmdstanpy - INFO - Chain [1] start processing\n",
      "21:52:13 - cmdstanpy - INFO - Chain [1] done processing\n",
      "21:52:13 - cmdstanpy - INFO - Chain [1] start processing\n",
      "21:52:14 - cmdstanpy - INFO - Chain [1] done processing\n",
      "21:52:14 - cmdstanpy - INFO - Chain [1] start processing\n",
      "21:52:14 - cmdstanpy - INFO - Chain [1] done processing\n",
      "21:52:15 - cmdstanpy - INFO - Chain [1] start processing\n",
      "21:52:15 - cmdstanpy - INFO - Chain [1] done processing\n",
      "21:52:15 - cmdstanpy - INFO - Chain [1] start processing\n",
      "21:52:16 - cmdstanpy - INFO - Chain [1] done processing\n",
      "21:52:16 - cmdstanpy - INFO - Chain [1] start processing\n",
      "21:52:17 - cmdstanpy - INFO - Chain [1] done processing\n",
      "21:52:17 - cmdstanpy - INFO - Chain [1] start processing\n",
      "21:52:18 - cmdstanpy - INFO - Chain [1] done processing\n",
      "21:52:18 - cmdstanpy - INFO - Chain [1] start processing\n",
      "21:52:19 - cmdstanpy - INFO - Chain [1] done processing\n",
      "21:52:19 - cmdstanpy - INFO - Chain [1] start processing\n",
      "21:52:20 - cmdstanpy - INFO - Chain [1] done processing\n",
      "21:52:20 - cmdstanpy - INFO - Chain [1] start processing\n",
      "21:52:21 - cmdstanpy - INFO - Chain [1] done processing\n",
      "21:52:21 - cmdstanpy - INFO - Chain [1] start processing\n",
      "21:52:22 - cmdstanpy - INFO - Chain [1] done processing\n",
      "21:52:22 - cmdstanpy - INFO - Chain [1] start processing\n",
      "21:52:22 - cmdstanpy - INFO - Chain [1] done processing\n",
      "21:52:23 - cmdstanpy - INFO - Chain [1] start processing\n",
      "21:52:23 - cmdstanpy - INFO - Chain [1] done processing\n"
     ]
    },
    {
     "data": {
      "application/vnd.jupyter.widget-view+json": {
       "model_id": "0fe5efa10d1e4a0da18e4dae3cfbec96",
       "version_major": 2,
       "version_minor": 0
      },
      "text/plain": [
       "  0%|          | 0/17 [00:00<?, ?it/s]"
      ]
     },
     "metadata": {},
     "output_type": "display_data"
    },
    {
     "name": "stderr",
     "output_type": "stream",
     "text": [
      "21:52:24 - cmdstanpy - INFO - Chain [1] start processing\n",
      "21:52:24 - cmdstanpy - INFO - Chain [1] done processing\n",
      "21:52:24 - cmdstanpy - INFO - Chain [1] start processing\n",
      "21:52:25 - cmdstanpy - INFO - Chain [1] done processing\n",
      "21:52:25 - cmdstanpy - INFO - Chain [1] start processing\n",
      "21:52:26 - cmdstanpy - INFO - Chain [1] done processing\n",
      "21:52:26 - cmdstanpy - INFO - Chain [1] start processing\n",
      "21:52:26 - cmdstanpy - INFO - Chain [1] done processing\n",
      "21:52:26 - cmdstanpy - INFO - Chain [1] start processing\n",
      "21:52:27 - cmdstanpy - INFO - Chain [1] done processing\n",
      "21:52:27 - cmdstanpy - INFO - Chain [1] start processing\n",
      "21:52:28 - cmdstanpy - INFO - Chain [1] done processing\n",
      "21:52:28 - cmdstanpy - INFO - Chain [1] start processing\n",
      "21:52:28 - cmdstanpy - INFO - Chain [1] done processing\n",
      "21:52:29 - cmdstanpy - INFO - Chain [1] start processing\n",
      "21:52:29 - cmdstanpy - INFO - Chain [1] done processing\n",
      "21:52:29 - cmdstanpy - INFO - Chain [1] start processing\n",
      "21:52:30 - cmdstanpy - INFO - Chain [1] done processing\n",
      "21:52:30 - cmdstanpy - INFO - Chain [1] start processing\n",
      "21:52:31 - cmdstanpy - INFO - Chain [1] done processing\n",
      "21:52:31 - cmdstanpy - INFO - Chain [1] start processing\n",
      "21:52:31 - cmdstanpy - INFO - Chain [1] done processing\n",
      "21:52:32 - cmdstanpy - INFO - Chain [1] start processing\n",
      "21:52:32 - cmdstanpy - INFO - Chain [1] done processing\n",
      "21:52:33 - cmdstanpy - INFO - Chain [1] start processing\n",
      "21:52:33 - cmdstanpy - INFO - Chain [1] done processing\n",
      "21:52:34 - cmdstanpy - INFO - Chain [1] start processing\n",
      "21:52:34 - cmdstanpy - INFO - Chain [1] done processing\n",
      "21:52:35 - cmdstanpy - INFO - Chain [1] start processing\n",
      "21:52:35 - cmdstanpy - INFO - Chain [1] done processing\n",
      "21:52:36 - cmdstanpy - INFO - Chain [1] start processing\n",
      "21:52:36 - cmdstanpy - INFO - Chain [1] done processing\n",
      "21:52:37 - cmdstanpy - INFO - Chain [1] start processing\n",
      "21:52:37 - cmdstanpy - INFO - Chain [1] done processing\n",
      "21:52:38 - cmdstanpy - INFO - Chain [1] start processing\n",
      "21:52:38 - cmdstanpy - INFO - Chain [1] done processing\n"
     ]
    },
    {
     "data": {
      "application/vnd.jupyter.widget-view+json": {
       "model_id": "68bd06ea982749f0a7ec7775e483b67e",
       "version_major": 2,
       "version_minor": 0
      },
      "text/plain": [
       "  0%|          | 0/17 [00:00<?, ?it/s]"
      ]
     },
     "metadata": {},
     "output_type": "display_data"
    },
    {
     "name": "stderr",
     "output_type": "stream",
     "text": [
      "21:52:38 - cmdstanpy - INFO - Chain [1] start processing\n",
      "21:52:39 - cmdstanpy - INFO - Chain [1] done processing\n",
      "21:52:39 - cmdstanpy - INFO - Chain [1] start processing\n",
      "21:52:39 - cmdstanpy - INFO - Chain [1] done processing\n",
      "21:52:40 - cmdstanpy - INFO - Chain [1] start processing\n",
      "21:52:40 - cmdstanpy - INFO - Chain [1] done processing\n",
      "21:52:40 - cmdstanpy - INFO - Chain [1] start processing\n",
      "21:52:41 - cmdstanpy - INFO - Chain [1] done processing\n",
      "21:52:41 - cmdstanpy - INFO - Chain [1] start processing\n",
      "21:52:42 - cmdstanpy - INFO - Chain [1] done processing\n",
      "21:52:42 - cmdstanpy - INFO - Chain [1] start processing\n",
      "21:52:42 - cmdstanpy - INFO - Chain [1] done processing\n",
      "21:52:43 - cmdstanpy - INFO - Chain [1] start processing\n",
      "21:52:43 - cmdstanpy - INFO - Chain [1] done processing\n",
      "21:52:43 - cmdstanpy - INFO - Chain [1] start processing\n",
      "21:52:44 - cmdstanpy - INFO - Chain [1] done processing\n",
      "21:52:44 - cmdstanpy - INFO - Chain [1] start processing\n",
      "21:52:45 - cmdstanpy - INFO - Chain [1] done processing\n",
      "21:52:45 - cmdstanpy - INFO - Chain [1] start processing\n",
      "21:52:45 - cmdstanpy - INFO - Chain [1] done processing\n",
      "21:52:46 - cmdstanpy - INFO - Chain [1] start processing\n",
      "21:52:46 - cmdstanpy - INFO - Chain [1] done processing\n",
      "21:52:46 - cmdstanpy - INFO - Chain [1] start processing\n",
      "21:52:47 - cmdstanpy - INFO - Chain [1] done processing\n",
      "21:52:47 - cmdstanpy - INFO - Chain [1] start processing\n",
      "21:52:48 - cmdstanpy - INFO - Chain [1] done processing\n",
      "21:52:48 - cmdstanpy - INFO - Chain [1] start processing\n",
      "21:52:49 - cmdstanpy - INFO - Chain [1] done processing\n",
      "21:52:49 - cmdstanpy - INFO - Chain [1] start processing\n",
      "21:52:50 - cmdstanpy - INFO - Chain [1] done processing\n",
      "21:52:50 - cmdstanpy - INFO - Chain [1] start processing\n",
      "21:52:51 - cmdstanpy - INFO - Chain [1] done processing\n",
      "21:52:51 - cmdstanpy - INFO - Chain [1] start processing\n",
      "21:52:52 - cmdstanpy - INFO - Chain [1] done processing\n",
      "21:52:52 - cmdstanpy - INFO - Chain [1] start processing\n",
      "21:52:52 - cmdstanpy - INFO - Chain [1] done processing\n"
     ]
    },
    {
     "data": {
      "application/vnd.jupyter.widget-view+json": {
       "model_id": "ff44226ab10a43c98997216f9cb1a582",
       "version_major": 2,
       "version_minor": 0
      },
      "text/plain": [
       "  0%|          | 0/17 [00:00<?, ?it/s]"
      ]
     },
     "metadata": {},
     "output_type": "display_data"
    },
    {
     "name": "stderr",
     "output_type": "stream",
     "text": [
      "21:52:53 - cmdstanpy - INFO - Chain [1] start processing\n",
      "21:52:53 - cmdstanpy - INFO - Chain [1] done processing\n",
      "21:52:53 - cmdstanpy - INFO - Chain [1] start processing\n",
      "21:52:54 - cmdstanpy - INFO - Chain [1] done processing\n",
      "21:52:54 - cmdstanpy - INFO - Chain [1] start processing\n",
      "21:52:54 - cmdstanpy - INFO - Chain [1] done processing\n",
      "21:52:55 - cmdstanpy - INFO - Chain [1] start processing\n",
      "21:52:55 - cmdstanpy - INFO - Chain [1] done processing\n",
      "21:52:55 - cmdstanpy - INFO - Chain [1] start processing\n",
      "21:52:56 - cmdstanpy - INFO - Chain [1] done processing\n",
      "21:52:56 - cmdstanpy - INFO - Chain [1] start processing\n",
      "21:52:56 - cmdstanpy - INFO - Chain [1] done processing\n",
      "21:52:57 - cmdstanpy - INFO - Chain [1] start processing\n",
      "21:52:57 - cmdstanpy - INFO - Chain [1] done processing\n",
      "21:52:57 - cmdstanpy - INFO - Chain [1] start processing\n",
      "21:52:58 - cmdstanpy - INFO - Chain [1] done processing\n",
      "21:52:58 - cmdstanpy - INFO - Chain [1] start processing\n",
      "21:52:59 - cmdstanpy - INFO - Chain [1] done processing\n",
      "21:52:59 - cmdstanpy - INFO - Chain [1] start processing\n",
      "21:52:59 - cmdstanpy - INFO - Chain [1] done processing\n",
      "21:53:00 - cmdstanpy - INFO - Chain [1] start processing\n",
      "21:53:00 - cmdstanpy - INFO - Chain [1] done processing\n",
      "21:53:00 - cmdstanpy - INFO - Chain [1] start processing\n",
      "21:53:01 - cmdstanpy - INFO - Chain [1] done processing\n",
      "21:53:01 - cmdstanpy - INFO - Chain [1] start processing\n",
      "21:53:02 - cmdstanpy - INFO - Chain [1] done processing\n",
      "21:53:02 - cmdstanpy - INFO - Chain [1] start processing\n",
      "21:53:03 - cmdstanpy - INFO - Chain [1] done processing\n",
      "21:53:03 - cmdstanpy - INFO - Chain [1] start processing\n",
      "21:53:03 - cmdstanpy - INFO - Chain [1] done processing\n",
      "21:53:04 - cmdstanpy - INFO - Chain [1] start processing\n",
      "21:53:04 - cmdstanpy - INFO - Chain [1] done processing\n",
      "21:53:05 - cmdstanpy - INFO - Chain [1] start processing\n",
      "21:53:05 - cmdstanpy - INFO - Chain [1] done processing\n",
      "21:53:05 - cmdstanpy - INFO - Chain [1] start processing\n",
      "21:53:06 - cmdstanpy - INFO - Chain [1] done processing\n"
     ]
    },
    {
     "data": {
      "application/vnd.jupyter.widget-view+json": {
       "model_id": "4899869899e446f183328681a3988bf8",
       "version_major": 2,
       "version_minor": 0
      },
      "text/plain": [
       "  0%|          | 0/17 [00:00<?, ?it/s]"
      ]
     },
     "metadata": {},
     "output_type": "display_data"
    },
    {
     "name": "stderr",
     "output_type": "stream",
     "text": [
      "21:53:06 - cmdstanpy - INFO - Chain [1] start processing\n",
      "21:53:07 - cmdstanpy - INFO - Chain [1] done processing\n",
      "21:53:07 - cmdstanpy - INFO - Chain [1] start processing\n",
      "21:53:07 - cmdstanpy - INFO - Chain [1] done processing\n",
      "21:53:08 - cmdstanpy - INFO - Chain [1] start processing\n",
      "21:53:08 - cmdstanpy - INFO - Chain [1] done processing\n",
      "21:53:08 - cmdstanpy - INFO - Chain [1] start processing\n",
      "21:53:09 - cmdstanpy - INFO - Chain [1] done processing\n",
      "21:53:09 - cmdstanpy - INFO - Chain [1] start processing\n",
      "21:53:10 - cmdstanpy - INFO - Chain [1] done processing\n",
      "21:53:10 - cmdstanpy - INFO - Chain [1] start processing\n",
      "21:53:10 - cmdstanpy - INFO - Chain [1] done processing\n",
      "21:53:11 - cmdstanpy - INFO - Chain [1] start processing\n",
      "21:53:11 - cmdstanpy - INFO - Chain [1] done processing\n",
      "21:53:11 - cmdstanpy - INFO - Chain [1] start processing\n",
      "21:53:12 - cmdstanpy - INFO - Chain [1] done processing\n",
      "21:53:12 - cmdstanpy - INFO - Chain [1] start processing\n",
      "21:53:12 - cmdstanpy - INFO - Chain [1] done processing\n",
      "21:53:13 - cmdstanpy - INFO - Chain [1] start processing\n",
      "21:53:13 - cmdstanpy - INFO - Chain [1] done processing\n",
      "21:53:13 - cmdstanpy - INFO - Chain [1] start processing\n",
      "21:53:14 - cmdstanpy - INFO - Chain [1] done processing\n",
      "21:53:14 - cmdstanpy - INFO - Chain [1] start processing\n",
      "21:53:15 - cmdstanpy - INFO - Chain [1] done processing\n",
      "21:53:15 - cmdstanpy - INFO - Chain [1] start processing\n",
      "21:53:16 - cmdstanpy - INFO - Chain [1] done processing\n",
      "21:53:16 - cmdstanpy - INFO - Chain [1] start processing\n",
      "21:53:17 - cmdstanpy - INFO - Chain [1] done processing\n",
      "21:53:17 - cmdstanpy - INFO - Chain [1] start processing\n",
      "21:53:18 - cmdstanpy - INFO - Chain [1] done processing\n",
      "21:53:18 - cmdstanpy - INFO - Chain [1] start processing\n",
      "21:53:19 - cmdstanpy - INFO - Chain [1] done processing\n",
      "21:53:19 - cmdstanpy - INFO - Chain [1] start processing\n",
      "21:53:20 - cmdstanpy - INFO - Chain [1] done processing\n",
      "21:53:20 - cmdstanpy - INFO - Chain [1] start processing\n",
      "21:53:21 - cmdstanpy - INFO - Chain [1] done processing\n"
     ]
    },
    {
     "data": {
      "application/vnd.jupyter.widget-view+json": {
       "model_id": "a3179c0e4dfe495ab703a83adfeb5f48",
       "version_major": 2,
       "version_minor": 0
      },
      "text/plain": [
       "  0%|          | 0/17 [00:00<?, ?it/s]"
      ]
     },
     "metadata": {},
     "output_type": "display_data"
    },
    {
     "name": "stderr",
     "output_type": "stream",
     "text": [
      "21:53:21 - cmdstanpy - INFO - Chain [1] start processing\n",
      "21:53:21 - cmdstanpy - INFO - Chain [1] done processing\n",
      "21:53:22 - cmdstanpy - INFO - Chain [1] start processing\n",
      "21:53:22 - cmdstanpy - INFO - Chain [1] done processing\n",
      "21:53:23 - cmdstanpy - INFO - Chain [1] start processing\n",
      "21:53:23 - cmdstanpy - INFO - Chain [1] done processing\n",
      "21:53:23 - cmdstanpy - INFO - Chain [1] start processing\n",
      "21:53:24 - cmdstanpy - INFO - Chain [1] done processing\n",
      "21:53:24 - cmdstanpy - INFO - Chain [1] start processing\n",
      "21:53:25 - cmdstanpy - INFO - Chain [1] done processing\n",
      "21:53:25 - cmdstanpy - INFO - Chain [1] start processing\n",
      "21:53:26 - cmdstanpy - INFO - Chain [1] done processing\n",
      "21:53:26 - cmdstanpy - INFO - Chain [1] start processing\n",
      "21:53:26 - cmdstanpy - INFO - Chain [1] done processing\n",
      "21:53:27 - cmdstanpy - INFO - Chain [1] start processing\n",
      "21:53:28 - cmdstanpy - INFO - Chain [1] done processing\n",
      "21:53:28 - cmdstanpy - INFO - Chain [1] start processing\n",
      "21:53:28 - cmdstanpy - INFO - Chain [1] done processing\n",
      "21:53:29 - cmdstanpy - INFO - Chain [1] start processing\n",
      "21:53:29 - cmdstanpy - INFO - Chain [1] done processing\n",
      "21:53:30 - cmdstanpy - INFO - Chain [1] start processing\n",
      "21:53:30 - cmdstanpy - INFO - Chain [1] done processing\n",
      "21:53:30 - cmdstanpy - INFO - Chain [1] start processing\n",
      "21:53:31 - cmdstanpy - INFO - Chain [1] done processing\n",
      "21:53:31 - cmdstanpy - INFO - Chain [1] start processing\n",
      "21:53:32 - cmdstanpy - INFO - Chain [1] done processing\n",
      "21:53:33 - cmdstanpy - INFO - Chain [1] start processing\n",
      "21:53:33 - cmdstanpy - INFO - Chain [1] done processing\n",
      "21:53:33 - cmdstanpy - INFO - Chain [1] start processing\n",
      "21:53:34 - cmdstanpy - INFO - Chain [1] done processing\n",
      "21:53:34 - cmdstanpy - INFO - Chain [1] start processing\n",
      "21:53:35 - cmdstanpy - INFO - Chain [1] done processing\n",
      "21:53:36 - cmdstanpy - INFO - Chain [1] start processing\n",
      "21:53:37 - cmdstanpy - INFO - Chain [1] done processing\n",
      "21:53:37 - cmdstanpy - INFO - Chain [1] start processing\n",
      "21:53:38 - cmdstanpy - INFO - Chain [1] done processing\n"
     ]
    },
    {
     "data": {
      "application/vnd.jupyter.widget-view+json": {
       "model_id": "aa037626386e4bdb9e5862b97b09e2b5",
       "version_major": 2,
       "version_minor": 0
      },
      "text/plain": [
       "  0%|          | 0/17 [00:00<?, ?it/s]"
      ]
     },
     "metadata": {},
     "output_type": "display_data"
    },
    {
     "name": "stderr",
     "output_type": "stream",
     "text": [
      "21:53:38 - cmdstanpy - INFO - Chain [1] start processing\n",
      "21:53:38 - cmdstanpy - INFO - Chain [1] done processing\n",
      "21:53:39 - cmdstanpy - INFO - Chain [1] start processing\n",
      "21:53:39 - cmdstanpy - INFO - Chain [1] done processing\n",
      "21:53:39 - cmdstanpy - INFO - Chain [1] start processing\n",
      "21:53:40 - cmdstanpy - INFO - Chain [1] done processing\n",
      "21:53:40 - cmdstanpy - INFO - Chain [1] start processing\n",
      "21:53:41 - cmdstanpy - INFO - Chain [1] done processing\n",
      "21:53:41 - cmdstanpy - INFO - Chain [1] start processing\n",
      "21:53:41 - cmdstanpy - INFO - Chain [1] done processing\n",
      "21:53:42 - cmdstanpy - INFO - Chain [1] start processing\n",
      "21:53:42 - cmdstanpy - INFO - Chain [1] done processing\n",
      "21:53:42 - cmdstanpy - INFO - Chain [1] start processing\n",
      "21:53:43 - cmdstanpy - INFO - Chain [1] done processing\n",
      "21:53:43 - cmdstanpy - INFO - Chain [1] start processing\n",
      "21:53:44 - cmdstanpy - INFO - Chain [1] done processing\n",
      "21:53:44 - cmdstanpy - INFO - Chain [1] start processing\n",
      "21:53:45 - cmdstanpy - INFO - Chain [1] done processing\n",
      "21:53:45 - cmdstanpy - INFO - Chain [1] start processing\n",
      "21:53:46 - cmdstanpy - INFO - Chain [1] done processing\n",
      "21:53:46 - cmdstanpy - INFO - Chain [1] start processing\n",
      "21:53:47 - cmdstanpy - INFO - Chain [1] done processing\n",
      "21:53:47 - cmdstanpy - INFO - Chain [1] start processing\n",
      "21:53:48 - cmdstanpy - INFO - Chain [1] done processing\n",
      "21:53:48 - cmdstanpy - INFO - Chain [1] start processing\n",
      "21:53:49 - cmdstanpy - INFO - Chain [1] done processing\n",
      "21:53:49 - cmdstanpy - INFO - Chain [1] start processing\n",
      "21:53:50 - cmdstanpy - INFO - Chain [1] done processing\n",
      "21:53:50 - cmdstanpy - INFO - Chain [1] start processing\n",
      "21:53:51 - cmdstanpy - INFO - Chain [1] done processing\n",
      "21:53:51 - cmdstanpy - INFO - Chain [1] start processing\n",
      "21:53:52 - cmdstanpy - INFO - Chain [1] done processing\n",
      "21:53:52 - cmdstanpy - INFO - Chain [1] start processing\n",
      "21:53:53 - cmdstanpy - INFO - Chain [1] done processing\n",
      "21:53:53 - cmdstanpy - INFO - Chain [1] start processing\n",
      "21:53:54 - cmdstanpy - INFO - Chain [1] done processing\n"
     ]
    },
    {
     "data": {
      "application/vnd.jupyter.widget-view+json": {
       "model_id": "6379cd64e7d04413a1a91aa67bc115ae",
       "version_major": 2,
       "version_minor": 0
      },
      "text/plain": [
       "  0%|          | 0/17 [00:00<?, ?it/s]"
      ]
     },
     "metadata": {},
     "output_type": "display_data"
    },
    {
     "name": "stderr",
     "output_type": "stream",
     "text": [
      "21:53:54 - cmdstanpy - INFO - Chain [1] start processing\n",
      "21:53:55 - cmdstanpy - INFO - Chain [1] done processing\n",
      "21:53:55 - cmdstanpy - INFO - Chain [1] start processing\n",
      "21:53:55 - cmdstanpy - INFO - Chain [1] done processing\n",
      "21:53:56 - cmdstanpy - INFO - Chain [1] start processing\n",
      "21:53:56 - cmdstanpy - INFO - Chain [1] done processing\n",
      "21:53:56 - cmdstanpy - INFO - Chain [1] start processing\n",
      "21:53:57 - cmdstanpy - INFO - Chain [1] done processing\n",
      "21:53:57 - cmdstanpy - INFO - Chain [1] start processing\n",
      "21:53:58 - cmdstanpy - INFO - Chain [1] done processing\n",
      "21:53:58 - cmdstanpy - INFO - Chain [1] start processing\n",
      "21:53:58 - cmdstanpy - INFO - Chain [1] done processing\n",
      "21:53:59 - cmdstanpy - INFO - Chain [1] start processing\n",
      "21:53:59 - cmdstanpy - INFO - Chain [1] done processing\n",
      "21:53:59 - cmdstanpy - INFO - Chain [1] start processing\n",
      "21:54:00 - cmdstanpy - INFO - Chain [1] done processing\n",
      "21:54:00 - cmdstanpy - INFO - Chain [1] start processing\n",
      "21:54:01 - cmdstanpy - INFO - Chain [1] done processing\n",
      "21:54:01 - cmdstanpy - INFO - Chain [1] start processing\n",
      "21:54:02 - cmdstanpy - INFO - Chain [1] done processing\n",
      "21:54:02 - cmdstanpy - INFO - Chain [1] start processing\n",
      "21:54:02 - cmdstanpy - INFO - Chain [1] done processing\n",
      "21:54:03 - cmdstanpy - INFO - Chain [1] start processing\n",
      "21:54:03 - cmdstanpy - INFO - Chain [1] done processing\n",
      "21:54:04 - cmdstanpy - INFO - Chain [1] start processing\n",
      "21:54:04 - cmdstanpy - INFO - Chain [1] done processing\n",
      "21:54:04 - cmdstanpy - INFO - Chain [1] start processing\n",
      "21:54:05 - cmdstanpy - INFO - Chain [1] done processing\n",
      "21:54:05 - cmdstanpy - INFO - Chain [1] start processing\n",
      "21:54:06 - cmdstanpy - INFO - Chain [1] done processing\n",
      "21:54:06 - cmdstanpy - INFO - Chain [1] start processing\n",
      "21:54:07 - cmdstanpy - INFO - Chain [1] done processing\n",
      "21:54:08 - cmdstanpy - INFO - Chain [1] start processing\n",
      "21:54:08 - cmdstanpy - INFO - Chain [1] done processing\n",
      "21:54:09 - cmdstanpy - INFO - Chain [1] start processing\n",
      "21:54:09 - cmdstanpy - INFO - Chain [1] done processing\n"
     ]
    },
    {
     "data": {
      "application/vnd.jupyter.widget-view+json": {
       "model_id": "56ee0144451b409daa01cf36201cb75b",
       "version_major": 2,
       "version_minor": 0
      },
      "text/plain": [
       "  0%|          | 0/17 [00:00<?, ?it/s]"
      ]
     },
     "metadata": {},
     "output_type": "display_data"
    },
    {
     "name": "stderr",
     "output_type": "stream",
     "text": [
      "21:54:09 - cmdstanpy - INFO - Chain [1] start processing\n",
      "21:54:10 - cmdstanpy - INFO - Chain [1] done processing\n",
      "21:54:10 - cmdstanpy - INFO - Chain [1] start processing\n",
      "21:54:10 - cmdstanpy - INFO - Chain [1] done processing\n",
      "21:54:11 - cmdstanpy - INFO - Chain [1] start processing\n",
      "21:54:11 - cmdstanpy - INFO - Chain [1] done processing\n",
      "21:54:11 - cmdstanpy - INFO - Chain [1] start processing\n",
      "21:54:12 - cmdstanpy - INFO - Chain [1] done processing\n",
      "21:54:12 - cmdstanpy - INFO - Chain [1] start processing\n",
      "21:54:13 - cmdstanpy - INFO - Chain [1] done processing\n",
      "21:54:13 - cmdstanpy - INFO - Chain [1] start processing\n",
      "21:54:13 - cmdstanpy - INFO - Chain [1] done processing\n",
      "21:54:13 - cmdstanpy - INFO - Chain [1] start processing\n",
      "21:54:14 - cmdstanpy - INFO - Chain [1] done processing\n",
      "21:54:14 - cmdstanpy - INFO - Chain [1] start processing\n",
      "21:54:15 - cmdstanpy - INFO - Chain [1] done processing\n",
      "21:54:15 - cmdstanpy - INFO - Chain [1] start processing\n",
      "21:54:15 - cmdstanpy - INFO - Chain [1] done processing\n",
      "21:54:16 - cmdstanpy - INFO - Chain [1] start processing\n",
      "21:54:16 - cmdstanpy - INFO - Chain [1] done processing\n",
      "21:54:17 - cmdstanpy - INFO - Chain [1] start processing\n",
      "21:54:17 - cmdstanpy - INFO - Chain [1] done processing\n",
      "21:54:18 - cmdstanpy - INFO - Chain [1] start processing\n",
      "21:54:18 - cmdstanpy - INFO - Chain [1] done processing\n",
      "21:54:19 - cmdstanpy - INFO - Chain [1] start processing\n",
      "21:54:19 - cmdstanpy - INFO - Chain [1] done processing\n",
      "21:54:19 - cmdstanpy - INFO - Chain [1] start processing\n",
      "21:54:20 - cmdstanpy - INFO - Chain [1] done processing\n",
      "21:54:20 - cmdstanpy - INFO - Chain [1] start processing\n",
      "21:54:21 - cmdstanpy - INFO - Chain [1] done processing\n",
      "21:54:21 - cmdstanpy - INFO - Chain [1] start processing\n",
      "21:54:22 - cmdstanpy - INFO - Chain [1] done processing\n",
      "21:54:22 - cmdstanpy - INFO - Chain [1] start processing\n",
      "21:54:23 - cmdstanpy - INFO - Chain [1] done processing\n",
      "21:54:24 - cmdstanpy - INFO - Chain [1] start processing\n",
      "21:54:24 - cmdstanpy - INFO - Chain [1] done processing\n"
     ]
    },
    {
     "data": {
      "application/vnd.jupyter.widget-view+json": {
       "model_id": "85b62060ce324bebbed2ff97d1ee52a6",
       "version_major": 2,
       "version_minor": 0
      },
      "text/plain": [
       "  0%|          | 0/17 [00:00<?, ?it/s]"
      ]
     },
     "metadata": {},
     "output_type": "display_data"
    },
    {
     "name": "stderr",
     "output_type": "stream",
     "text": [
      "21:54:24 - cmdstanpy - INFO - Chain [1] start processing\n",
      "21:54:25 - cmdstanpy - INFO - Chain [1] done processing\n",
      "21:54:25 - cmdstanpy - INFO - Chain [1] start processing\n",
      "21:54:25 - cmdstanpy - INFO - Chain [1] done processing\n",
      "21:54:26 - cmdstanpy - INFO - Chain [1] start processing\n",
      "21:54:26 - cmdstanpy - INFO - Chain [1] done processing\n",
      "21:54:26 - cmdstanpy - INFO - Chain [1] start processing\n",
      "21:54:27 - cmdstanpy - INFO - Chain [1] done processing\n",
      "21:54:27 - cmdstanpy - INFO - Chain [1] start processing\n",
      "21:54:28 - cmdstanpy - INFO - Chain [1] done processing\n",
      "21:54:28 - cmdstanpy - INFO - Chain [1] start processing\n",
      "21:54:28 - cmdstanpy - INFO - Chain [1] done processing\n",
      "21:54:28 - cmdstanpy - INFO - Chain [1] start processing\n",
      "21:54:29 - cmdstanpy - INFO - Chain [1] done processing\n",
      "21:54:29 - cmdstanpy - INFO - Chain [1] start processing\n",
      "21:54:30 - cmdstanpy - INFO - Chain [1] done processing\n",
      "21:54:30 - cmdstanpy - INFO - Chain [1] start processing\n",
      "21:54:30 - cmdstanpy - INFO - Chain [1] done processing\n",
      "21:54:31 - cmdstanpy - INFO - Chain [1] start processing\n",
      "21:54:31 - cmdstanpy - INFO - Chain [1] done processing\n",
      "21:54:31 - cmdstanpy - INFO - Chain [1] start processing\n",
      "21:54:32 - cmdstanpy - INFO - Chain [1] done processing\n",
      "21:54:32 - cmdstanpy - INFO - Chain [1] start processing\n",
      "21:54:33 - cmdstanpy - INFO - Chain [1] done processing\n",
      "21:54:33 - cmdstanpy - INFO - Chain [1] start processing\n",
      "21:54:34 - cmdstanpy - INFO - Chain [1] done processing\n",
      "21:54:34 - cmdstanpy - INFO - Chain [1] start processing\n",
      "21:54:35 - cmdstanpy - INFO - Chain [1] done processing\n",
      "21:54:35 - cmdstanpy - INFO - Chain [1] start processing\n",
      "21:54:35 - cmdstanpy - INFO - Chain [1] done processing\n",
      "21:54:36 - cmdstanpy - INFO - Chain [1] start processing\n",
      "21:54:36 - cmdstanpy - INFO - Chain [1] done processing\n",
      "21:54:37 - cmdstanpy - INFO - Chain [1] start processing\n",
      "21:54:38 - cmdstanpy - INFO - Chain [1] done processing\n",
      "21:54:38 - cmdstanpy - INFO - Chain [1] start processing\n",
      "21:54:39 - cmdstanpy - INFO - Chain [1] done processing\n"
     ]
    },
    {
     "data": {
      "application/vnd.jupyter.widget-view+json": {
       "model_id": "13ffddcf0fa447208b1187e0a74fe199",
       "version_major": 2,
       "version_minor": 0
      },
      "text/plain": [
       "  0%|          | 0/17 [00:00<?, ?it/s]"
      ]
     },
     "metadata": {},
     "output_type": "display_data"
    },
    {
     "name": "stderr",
     "output_type": "stream",
     "text": [
      "21:54:39 - cmdstanpy - INFO - Chain [1] start processing\n",
      "21:54:40 - cmdstanpy - INFO - Chain [1] done processing\n",
      "21:54:40 - cmdstanpy - INFO - Chain [1] start processing\n",
      "21:54:40 - cmdstanpy - INFO - Chain [1] done processing\n",
      "21:54:40 - cmdstanpy - INFO - Chain [1] start processing\n",
      "21:54:41 - cmdstanpy - INFO - Chain [1] done processing\n",
      "21:54:41 - cmdstanpy - INFO - Chain [1] start processing\n",
      "21:54:42 - cmdstanpy - INFO - Chain [1] done processing\n",
      "21:54:42 - cmdstanpy - INFO - Chain [1] start processing\n",
      "21:54:43 - cmdstanpy - INFO - Chain [1] done processing\n",
      "21:54:43 - cmdstanpy - INFO - Chain [1] start processing\n",
      "21:54:43 - cmdstanpy - INFO - Chain [1] done processing\n",
      "21:54:44 - cmdstanpy - INFO - Chain [1] start processing\n",
      "21:54:44 - cmdstanpy - INFO - Chain [1] done processing\n",
      "21:54:44 - cmdstanpy - INFO - Chain [1] start processing\n",
      "21:54:45 - cmdstanpy - INFO - Chain [1] done processing\n",
      "21:54:45 - cmdstanpy - INFO - Chain [1] start processing\n",
      "21:54:46 - cmdstanpy - INFO - Chain [1] done processing\n",
      "21:54:46 - cmdstanpy - INFO - Chain [1] start processing\n",
      "21:54:47 - cmdstanpy - INFO - Chain [1] done processing\n",
      "21:54:47 - cmdstanpy - INFO - Chain [1] start processing\n",
      "21:54:48 - cmdstanpy - INFO - Chain [1] done processing\n",
      "21:54:48 - cmdstanpy - INFO - Chain [1] start processing\n",
      "21:54:49 - cmdstanpy - INFO - Chain [1] done processing\n",
      "21:54:49 - cmdstanpy - INFO - Chain [1] start processing\n",
      "21:54:49 - cmdstanpy - INFO - Chain [1] done processing\n",
      "21:54:50 - cmdstanpy - INFO - Chain [1] start processing\n",
      "21:54:50 - cmdstanpy - INFO - Chain [1] done processing\n",
      "21:54:51 - cmdstanpy - INFO - Chain [1] start processing\n",
      "21:54:51 - cmdstanpy - INFO - Chain [1] done processing\n",
      "21:54:52 - cmdstanpy - INFO - Chain [1] start processing\n",
      "21:54:52 - cmdstanpy - INFO - Chain [1] done processing\n",
      "21:54:53 - cmdstanpy - INFO - Chain [1] start processing\n",
      "21:54:53 - cmdstanpy - INFO - Chain [1] done processing\n",
      "21:54:54 - cmdstanpy - INFO - Chain [1] start processing\n",
      "21:54:55 - cmdstanpy - INFO - Chain [1] done processing\n"
     ]
    },
    {
     "data": {
      "application/vnd.jupyter.widget-view+json": {
       "model_id": "333ba004a22c44beb12ec4c03e6fab05",
       "version_major": 2,
       "version_minor": 0
      },
      "text/plain": [
       "  0%|          | 0/17 [00:00<?, ?it/s]"
      ]
     },
     "metadata": {},
     "output_type": "display_data"
    },
    {
     "name": "stderr",
     "output_type": "stream",
     "text": [
      "21:54:55 - cmdstanpy - INFO - Chain [1] start processing\n",
      "21:54:55 - cmdstanpy - INFO - Chain [1] done processing\n",
      "21:54:56 - cmdstanpy - INFO - Chain [1] start processing\n",
      "21:54:56 - cmdstanpy - INFO - Chain [1] done processing\n",
      "21:54:57 - cmdstanpy - INFO - Chain [1] start processing\n",
      "21:54:57 - cmdstanpy - INFO - Chain [1] done processing\n",
      "21:54:57 - cmdstanpy - INFO - Chain [1] start processing\n",
      "21:54:58 - cmdstanpy - INFO - Chain [1] done processing\n",
      "21:54:58 - cmdstanpy - INFO - Chain [1] start processing\n",
      "21:54:59 - cmdstanpy - INFO - Chain [1] done processing\n",
      "21:54:59 - cmdstanpy - INFO - Chain [1] start processing\n",
      "21:55:00 - cmdstanpy - INFO - Chain [1] done processing\n",
      "21:55:00 - cmdstanpy - INFO - Chain [1] start processing\n",
      "21:55:00 - cmdstanpy - INFO - Chain [1] done processing\n",
      "21:55:01 - cmdstanpy - INFO - Chain [1] start processing\n",
      "21:55:01 - cmdstanpy - INFO - Chain [1] done processing\n",
      "21:55:02 - cmdstanpy - INFO - Chain [1] start processing\n",
      "21:55:02 - cmdstanpy - INFO - Chain [1] done processing\n",
      "21:55:03 - cmdstanpy - INFO - Chain [1] start processing\n",
      "21:55:03 - cmdstanpy - INFO - Chain [1] done processing\n",
      "21:55:03 - cmdstanpy - INFO - Chain [1] start processing\n",
      "21:55:04 - cmdstanpy - INFO - Chain [1] done processing\n",
      "21:55:04 - cmdstanpy - INFO - Chain [1] start processing\n",
      "21:55:05 - cmdstanpy - INFO - Chain [1] done processing\n",
      "21:55:05 - cmdstanpy - INFO - Chain [1] start processing\n",
      "21:55:06 - cmdstanpy - INFO - Chain [1] done processing\n",
      "21:55:06 - cmdstanpy - INFO - Chain [1] start processing\n",
      "21:55:07 - cmdstanpy - INFO - Chain [1] done processing\n",
      "21:55:07 - cmdstanpy - INFO - Chain [1] start processing\n",
      "21:55:08 - cmdstanpy - INFO - Chain [1] done processing\n",
      "21:55:08 - cmdstanpy - INFO - Chain [1] start processing\n",
      "21:55:09 - cmdstanpy - INFO - Chain [1] done processing\n",
      "21:55:09 - cmdstanpy - INFO - Chain [1] start processing\n",
      "21:55:10 - cmdstanpy - INFO - Chain [1] done processing\n",
      "21:55:10 - cmdstanpy - INFO - Chain [1] start processing\n",
      "21:55:11 - cmdstanpy - INFO - Chain [1] done processing\n"
     ]
    },
    {
     "data": {
      "application/vnd.jupyter.widget-view+json": {
       "model_id": "f8a9307de6ae46c29fba7bb467027611",
       "version_major": 2,
       "version_minor": 0
      },
      "text/plain": [
       "  0%|          | 0/17 [00:00<?, ?it/s]"
      ]
     },
     "metadata": {},
     "output_type": "display_data"
    },
    {
     "name": "stderr",
     "output_type": "stream",
     "text": [
      "21:55:11 - cmdstanpy - INFO - Chain [1] start processing\n",
      "21:55:12 - cmdstanpy - INFO - Chain [1] done processing\n",
      "21:55:12 - cmdstanpy - INFO - Chain [1] start processing\n",
      "21:55:13 - cmdstanpy - INFO - Chain [1] done processing\n",
      "21:55:13 - cmdstanpy - INFO - Chain [1] start processing\n",
      "21:55:14 - cmdstanpy - INFO - Chain [1] done processing\n",
      "21:55:14 - cmdstanpy - INFO - Chain [1] start processing\n",
      "21:55:14 - cmdstanpy - INFO - Chain [1] done processing\n",
      "21:55:15 - cmdstanpy - INFO - Chain [1] start processing\n",
      "21:55:15 - cmdstanpy - INFO - Chain [1] done processing\n",
      "21:55:15 - cmdstanpy - INFO - Chain [1] start processing\n",
      "21:55:16 - cmdstanpy - INFO - Chain [1] done processing\n",
      "21:55:16 - cmdstanpy - INFO - Chain [1] start processing\n",
      "21:55:16 - cmdstanpy - INFO - Chain [1] done processing\n",
      "21:55:17 - cmdstanpy - INFO - Chain [1] start processing\n",
      "21:55:17 - cmdstanpy - INFO - Chain [1] done processing\n",
      "21:55:18 - cmdstanpy - INFO - Chain [1] start processing\n",
      "21:55:18 - cmdstanpy - INFO - Chain [1] done processing\n",
      "21:55:18 - cmdstanpy - INFO - Chain [1] start processing\n",
      "21:55:19 - cmdstanpy - INFO - Chain [1] done processing\n",
      "21:55:19 - cmdstanpy - INFO - Chain [1] start processing\n",
      "21:55:20 - cmdstanpy - INFO - Chain [1] done processing\n",
      "21:55:20 - cmdstanpy - INFO - Chain [1] start processing\n",
      "21:55:21 - cmdstanpy - INFO - Chain [1] done processing\n",
      "21:55:21 - cmdstanpy - INFO - Chain [1] start processing\n",
      "21:55:22 - cmdstanpy - INFO - Chain [1] done processing\n",
      "21:55:22 - cmdstanpy - INFO - Chain [1] start processing\n",
      "21:55:23 - cmdstanpy - INFO - Chain [1] done processing\n",
      "21:55:23 - cmdstanpy - INFO - Chain [1] start processing\n",
      "21:55:24 - cmdstanpy - INFO - Chain [1] done processing\n",
      "21:55:24 - cmdstanpy - INFO - Chain [1] start processing\n",
      "21:55:25 - cmdstanpy - INFO - Chain [1] done processing\n",
      "21:55:25 - cmdstanpy - INFO - Chain [1] start processing\n",
      "21:55:26 - cmdstanpy - INFO - Chain [1] done processing\n",
      "21:55:27 - cmdstanpy - INFO - Chain [1] start processing\n",
      "21:55:27 - cmdstanpy - INFO - Chain [1] done processing\n"
     ]
    },
    {
     "data": {
      "application/vnd.jupyter.widget-view+json": {
       "model_id": "16eaeeb688304501be92978ecc6a4e36",
       "version_major": 2,
       "version_minor": 0
      },
      "text/plain": [
       "  0%|          | 0/17 [00:00<?, ?it/s]"
      ]
     },
     "metadata": {},
     "output_type": "display_data"
    },
    {
     "name": "stderr",
     "output_type": "stream",
     "text": [
      "21:55:28 - cmdstanpy - INFO - Chain [1] start processing\n",
      "21:55:28 - cmdstanpy - INFO - Chain [1] done processing\n",
      "21:55:28 - cmdstanpy - INFO - Chain [1] start processing\n",
      "21:55:29 - cmdstanpy - INFO - Chain [1] done processing\n",
      "21:55:29 - cmdstanpy - INFO - Chain [1] start processing\n",
      "21:55:30 - cmdstanpy - INFO - Chain [1] done processing\n",
      "21:55:30 - cmdstanpy - INFO - Chain [1] start processing\n",
      "21:55:30 - cmdstanpy - INFO - Chain [1] done processing\n",
      "21:55:31 - cmdstanpy - INFO - Chain [1] start processing\n",
      "21:55:31 - cmdstanpy - INFO - Chain [1] done processing\n",
      "21:55:31 - cmdstanpy - INFO - Chain [1] start processing\n",
      "21:55:32 - cmdstanpy - INFO - Chain [1] done processing\n",
      "21:55:32 - cmdstanpy - INFO - Chain [1] start processing\n",
      "21:55:33 - cmdstanpy - INFO - Chain [1] done processing\n",
      "21:55:33 - cmdstanpy - INFO - Chain [1] start processing\n",
      "21:55:33 - cmdstanpy - INFO - Chain [1] done processing\n",
      "21:55:34 - cmdstanpy - INFO - Chain [1] start processing\n",
      "21:55:34 - cmdstanpy - INFO - Chain [1] done processing\n",
      "21:55:35 - cmdstanpy - INFO - Chain [1] start processing\n",
      "21:55:35 - cmdstanpy - INFO - Chain [1] done processing\n",
      "21:55:35 - cmdstanpy - INFO - Chain [1] start processing\n",
      "21:55:36 - cmdstanpy - INFO - Chain [1] done processing\n",
      "21:55:36 - cmdstanpy - INFO - Chain [1] start processing\n",
      "21:55:37 - cmdstanpy - INFO - Chain [1] done processing\n",
      "21:55:37 - cmdstanpy - INFO - Chain [1] start processing\n",
      "21:55:38 - cmdstanpy - INFO - Chain [1] done processing\n",
      "21:55:38 - cmdstanpy - INFO - Chain [1] start processing\n",
      "21:55:39 - cmdstanpy - INFO - Chain [1] done processing\n",
      "21:55:39 - cmdstanpy - INFO - Chain [1] start processing\n",
      "21:55:40 - cmdstanpy - INFO - Chain [1] done processing\n",
      "21:55:40 - cmdstanpy - INFO - Chain [1] start processing\n",
      "21:55:41 - cmdstanpy - INFO - Chain [1] done processing\n",
      "21:55:41 - cmdstanpy - INFO - Chain [1] start processing\n",
      "21:55:42 - cmdstanpy - INFO - Chain [1] done processing\n",
      "21:55:42 - cmdstanpy - INFO - Chain [1] start processing\n",
      "21:55:43 - cmdstanpy - INFO - Chain [1] done processing\n"
     ]
    },
    {
     "data": {
      "application/vnd.jupyter.widget-view+json": {
       "model_id": "a964b7ee225f49fd93b492d64abea727",
       "version_major": 2,
       "version_minor": 0
      },
      "text/plain": [
       "  0%|          | 0/17 [00:00<?, ?it/s]"
      ]
     },
     "metadata": {},
     "output_type": "display_data"
    },
    {
     "name": "stderr",
     "output_type": "stream",
     "text": [
      "21:55:43 - cmdstanpy - INFO - Chain [1] start processing\n",
      "21:55:43 - cmdstanpy - INFO - Chain [1] done processing\n",
      "21:55:44 - cmdstanpy - INFO - Chain [1] start processing\n",
      "21:55:44 - cmdstanpy - INFO - Chain [1] done processing\n",
      "21:55:44 - cmdstanpy - INFO - Chain [1] start processing\n",
      "21:55:45 - cmdstanpy - INFO - Chain [1] done processing\n",
      "21:55:45 - cmdstanpy - INFO - Chain [1] start processing\n",
      "21:55:45 - cmdstanpy - INFO - Chain [1] done processing\n",
      "21:55:46 - cmdstanpy - INFO - Chain [1] start processing\n",
      "21:55:46 - cmdstanpy - INFO - Chain [1] done processing\n",
      "21:55:46 - cmdstanpy - INFO - Chain [1] start processing\n",
      "21:55:47 - cmdstanpy - INFO - Chain [1] done processing\n",
      "21:55:47 - cmdstanpy - INFO - Chain [1] start processing\n",
      "21:55:48 - cmdstanpy - INFO - Chain [1] done processing\n",
      "21:55:48 - cmdstanpy - INFO - Chain [1] start processing\n",
      "21:55:48 - cmdstanpy - INFO - Chain [1] done processing\n",
      "21:55:49 - cmdstanpy - INFO - Chain [1] start processing\n",
      "21:55:49 - cmdstanpy - INFO - Chain [1] done processing\n",
      "21:55:49 - cmdstanpy - INFO - Chain [1] start processing\n",
      "21:55:50 - cmdstanpy - INFO - Chain [1] done processing\n",
      "21:55:50 - cmdstanpy - INFO - Chain [1] start processing\n",
      "21:55:51 - cmdstanpy - INFO - Chain [1] done processing\n",
      "21:55:51 - cmdstanpy - INFO - Chain [1] start processing\n",
      "21:55:52 - cmdstanpy - INFO - Chain [1] done processing\n",
      "21:55:52 - cmdstanpy - INFO - Chain [1] start processing\n",
      "21:55:53 - cmdstanpy - INFO - Chain [1] done processing\n",
      "21:55:53 - cmdstanpy - INFO - Chain [1] start processing\n",
      "21:55:54 - cmdstanpy - INFO - Chain [1] done processing\n",
      "21:55:54 - cmdstanpy - INFO - Chain [1] start processing\n",
      "21:55:54 - cmdstanpy - INFO - Chain [1] done processing\n",
      "21:55:55 - cmdstanpy - INFO - Chain [1] start processing\n",
      "21:55:56 - cmdstanpy - INFO - Chain [1] done processing\n",
      "21:55:56 - cmdstanpy - INFO - Chain [1] start processing\n",
      "21:55:57 - cmdstanpy - INFO - Chain [1] done processing\n",
      "21:55:57 - cmdstanpy - INFO - Chain [1] start processing\n",
      "21:55:58 - cmdstanpy - INFO - Chain [1] done processing\n"
     ]
    },
    {
     "data": {
      "application/vnd.jupyter.widget-view+json": {
       "model_id": "1c5eeb4a9c434dd69e891f2a6f3b9036",
       "version_major": 2,
       "version_minor": 0
      },
      "text/plain": [
       "  0%|          | 0/17 [00:00<?, ?it/s]"
      ]
     },
     "metadata": {},
     "output_type": "display_data"
    },
    {
     "name": "stderr",
     "output_type": "stream",
     "text": [
      "21:55:58 - cmdstanpy - INFO - Chain [1] start processing\n",
      "21:55:58 - cmdstanpy - INFO - Chain [1] done processing\n",
      "21:55:58 - cmdstanpy - INFO - Chain [1] start processing\n",
      "21:55:59 - cmdstanpy - INFO - Chain [1] done processing\n",
      "21:55:59 - cmdstanpy - INFO - Chain [1] start processing\n",
      "21:55:59 - cmdstanpy - INFO - Chain [1] done processing\n",
      "21:56:00 - cmdstanpy - INFO - Chain [1] start processing\n",
      "21:56:00 - cmdstanpy - INFO - Chain [1] done processing\n",
      "21:56:00 - cmdstanpy - INFO - Chain [1] start processing\n",
      "21:56:01 - cmdstanpy - INFO - Chain [1] done processing\n",
      "21:56:01 - cmdstanpy - INFO - Chain [1] start processing\n",
      "21:56:02 - cmdstanpy - INFO - Chain [1] done processing\n",
      "21:56:02 - cmdstanpy - INFO - Chain [1] start processing\n",
      "21:56:02 - cmdstanpy - INFO - Chain [1] done processing\n",
      "21:56:02 - cmdstanpy - INFO - Chain [1] start processing\n",
      "21:56:03 - cmdstanpy - INFO - Chain [1] done processing\n",
      "21:56:03 - cmdstanpy - INFO - Chain [1] start processing\n",
      "21:56:04 - cmdstanpy - INFO - Chain [1] done processing\n",
      "21:56:04 - cmdstanpy - INFO - Chain [1] start processing\n",
      "21:56:04 - cmdstanpy - INFO - Chain [1] done processing\n",
      "21:56:05 - cmdstanpy - INFO - Chain [1] start processing\n",
      "21:56:05 - cmdstanpy - INFO - Chain [1] done processing\n",
      "21:56:05 - cmdstanpy - INFO - Chain [1] start processing\n",
      "21:56:06 - cmdstanpy - INFO - Chain [1] done processing\n",
      "21:56:06 - cmdstanpy - INFO - Chain [1] start processing\n",
      "21:56:07 - cmdstanpy - INFO - Chain [1] done processing\n",
      "21:56:07 - cmdstanpy - INFO - Chain [1] start processing\n",
      "21:56:07 - cmdstanpy - INFO - Chain [1] done processing\n",
      "21:56:08 - cmdstanpy - INFO - Chain [1] start processing\n",
      "21:56:08 - cmdstanpy - INFO - Chain [1] done processing\n",
      "21:56:09 - cmdstanpy - INFO - Chain [1] start processing\n",
      "21:56:09 - cmdstanpy - INFO - Chain [1] done processing\n",
      "21:56:10 - cmdstanpy - INFO - Chain [1] start processing\n",
      "21:56:10 - cmdstanpy - INFO - Chain [1] done processing\n",
      "21:56:10 - cmdstanpy - INFO - Chain [1] start processing\n",
      "21:56:11 - cmdstanpy - INFO - Chain [1] done processing\n"
     ]
    },
    {
     "data": {
      "application/vnd.jupyter.widget-view+json": {
       "model_id": "61775c528c5b4ccd85152a14365ee833",
       "version_major": 2,
       "version_minor": 0
      },
      "text/plain": [
       "  0%|          | 0/17 [00:00<?, ?it/s]"
      ]
     },
     "metadata": {},
     "output_type": "display_data"
    },
    {
     "name": "stderr",
     "output_type": "stream",
     "text": [
      "21:56:11 - cmdstanpy - INFO - Chain [1] start processing\n",
      "21:56:12 - cmdstanpy - INFO - Chain [1] done processing\n",
      "21:56:12 - cmdstanpy - INFO - Chain [1] start processing\n",
      "21:56:12 - cmdstanpy - INFO - Chain [1] done processing\n",
      "21:56:12 - cmdstanpy - INFO - Chain [1] start processing\n",
      "21:56:13 - cmdstanpy - INFO - Chain [1] done processing\n",
      "21:56:13 - cmdstanpy - INFO - Chain [1] start processing\n",
      "21:56:14 - cmdstanpy - INFO - Chain [1] done processing\n",
      "21:56:14 - cmdstanpy - INFO - Chain [1] start processing\n",
      "21:56:15 - cmdstanpy - INFO - Chain [1] done processing\n",
      "21:56:15 - cmdstanpy - INFO - Chain [1] start processing\n",
      "21:56:15 - cmdstanpy - INFO - Chain [1] done processing\n",
      "21:56:15 - cmdstanpy - INFO - Chain [1] start processing\n",
      "21:56:16 - cmdstanpy - INFO - Chain [1] done processing\n",
      "21:56:16 - cmdstanpy - INFO - Chain [1] start processing\n",
      "21:56:17 - cmdstanpy - INFO - Chain [1] done processing\n",
      "21:56:17 - cmdstanpy - INFO - Chain [1] start processing\n",
      "21:56:17 - cmdstanpy - INFO - Chain [1] done processing\n",
      "21:56:18 - cmdstanpy - INFO - Chain [1] start processing\n",
      "21:56:18 - cmdstanpy - INFO - Chain [1] done processing\n",
      "21:56:18 - cmdstanpy - INFO - Chain [1] start processing\n",
      "21:56:19 - cmdstanpy - INFO - Chain [1] done processing\n",
      "21:56:19 - cmdstanpy - INFO - Chain [1] start processing\n",
      "21:56:20 - cmdstanpy - INFO - Chain [1] done processing\n",
      "21:56:20 - cmdstanpy - INFO - Chain [1] start processing\n",
      "21:56:21 - cmdstanpy - INFO - Chain [1] done processing\n",
      "21:56:21 - cmdstanpy - INFO - Chain [1] start processing\n",
      "21:56:22 - cmdstanpy - INFO - Chain [1] done processing\n",
      "21:56:22 - cmdstanpy - INFO - Chain [1] start processing\n",
      "21:56:23 - cmdstanpy - INFO - Chain [1] done processing\n",
      "21:56:23 - cmdstanpy - INFO - Chain [1] start processing\n",
      "21:56:24 - cmdstanpy - INFO - Chain [1] done processing\n",
      "21:56:24 - cmdstanpy - INFO - Chain [1] start processing\n",
      "21:56:25 - cmdstanpy - INFO - Chain [1] done processing\n",
      "21:56:25 - cmdstanpy - INFO - Chain [1] start processing\n",
      "21:56:26 - cmdstanpy - INFO - Chain [1] done processing\n"
     ]
    },
    {
     "data": {
      "application/vnd.jupyter.widget-view+json": {
       "model_id": "a57f465747bb44148f4faa14cdee9946",
       "version_major": 2,
       "version_minor": 0
      },
      "text/plain": [
       "  0%|          | 0/17 [00:00<?, ?it/s]"
      ]
     },
     "metadata": {},
     "output_type": "display_data"
    },
    {
     "name": "stderr",
     "output_type": "stream",
     "text": [
      "21:56:26 - cmdstanpy - INFO - Chain [1] start processing\n",
      "21:56:27 - cmdstanpy - INFO - Chain [1] done processing\n",
      "21:56:27 - cmdstanpy - INFO - Chain [1] start processing\n",
      "21:56:28 - cmdstanpy - INFO - Chain [1] done processing\n",
      "21:56:28 - cmdstanpy - INFO - Chain [1] start processing\n",
      "21:56:28 - cmdstanpy - INFO - Chain [1] done processing\n",
      "21:56:29 - cmdstanpy - INFO - Chain [1] start processing\n",
      "21:56:29 - cmdstanpy - INFO - Chain [1] done processing\n",
      "21:56:30 - cmdstanpy - INFO - Chain [1] start processing\n",
      "21:56:30 - cmdstanpy - INFO - Chain [1] done processing\n",
      "21:56:30 - cmdstanpy - INFO - Chain [1] start processing\n",
      "21:56:31 - cmdstanpy - INFO - Chain [1] done processing\n",
      "21:56:31 - cmdstanpy - INFO - Chain [1] start processing\n",
      "21:56:32 - cmdstanpy - INFO - Chain [1] done processing\n",
      "21:56:32 - cmdstanpy - INFO - Chain [1] start processing\n",
      "21:56:32 - cmdstanpy - INFO - Chain [1] done processing\n",
      "21:56:33 - cmdstanpy - INFO - Chain [1] start processing\n",
      "21:56:33 - cmdstanpy - INFO - Chain [1] done processing\n",
      "21:56:33 - cmdstanpy - INFO - Chain [1] start processing\n",
      "21:56:34 - cmdstanpy - INFO - Chain [1] done processing\n",
      "21:56:34 - cmdstanpy - INFO - Chain [1] start processing\n",
      "21:56:35 - cmdstanpy - INFO - Chain [1] done processing\n",
      "21:56:35 - cmdstanpy - INFO - Chain [1] start processing\n",
      "21:56:36 - cmdstanpy - INFO - Chain [1] done processing\n",
      "21:56:36 - cmdstanpy - INFO - Chain [1] start processing\n",
      "21:56:37 - cmdstanpy - INFO - Chain [1] done processing\n",
      "21:56:37 - cmdstanpy - INFO - Chain [1] start processing\n",
      "21:56:38 - cmdstanpy - INFO - Chain [1] done processing\n",
      "21:56:38 - cmdstanpy - INFO - Chain [1] start processing\n",
      "21:56:39 - cmdstanpy - INFO - Chain [1] done processing\n",
      "21:56:39 - cmdstanpy - INFO - Chain [1] start processing\n",
      "21:56:40 - cmdstanpy - INFO - Chain [1] done processing\n",
      "21:56:40 - cmdstanpy - INFO - Chain [1] start processing\n",
      "21:56:41 - cmdstanpy - INFO - Chain [1] done processing\n",
      "21:56:42 - cmdstanpy - INFO - Chain [1] start processing\n",
      "21:56:42 - cmdstanpy - INFO - Chain [1] done processing\n"
     ]
    },
    {
     "data": {
      "application/vnd.jupyter.widget-view+json": {
       "model_id": "c76c1e73f300412da9a0336cd03d3e09",
       "version_major": 2,
       "version_minor": 0
      },
      "text/plain": [
       "  0%|          | 0/17 [00:00<?, ?it/s]"
      ]
     },
     "metadata": {},
     "output_type": "display_data"
    },
    {
     "name": "stderr",
     "output_type": "stream",
     "text": [
      "21:56:42 - cmdstanpy - INFO - Chain [1] start processing\n",
      "21:56:43 - cmdstanpy - INFO - Chain [1] done processing\n",
      "21:56:43 - cmdstanpy - INFO - Chain [1] start processing\n",
      "21:56:44 - cmdstanpy - INFO - Chain [1] done processing\n",
      "21:56:44 - cmdstanpy - INFO - Chain [1] start processing\n",
      "21:56:44 - cmdstanpy - INFO - Chain [1] done processing\n",
      "21:56:45 - cmdstanpy - INFO - Chain [1] start processing\n",
      "21:56:45 - cmdstanpy - INFO - Chain [1] done processing\n",
      "21:56:46 - cmdstanpy - INFO - Chain [1] start processing\n",
      "21:56:46 - cmdstanpy - INFO - Chain [1] done processing\n",
      "21:56:46 - cmdstanpy - INFO - Chain [1] start processing\n",
      "21:56:47 - cmdstanpy - INFO - Chain [1] done processing\n",
      "21:56:47 - cmdstanpy - INFO - Chain [1] start processing\n",
      "21:56:47 - cmdstanpy - INFO - Chain [1] done processing\n",
      "21:56:48 - cmdstanpy - INFO - Chain [1] start processing\n",
      "21:56:48 - cmdstanpy - INFO - Chain [1] done processing\n",
      "21:56:49 - cmdstanpy - INFO - Chain [1] start processing\n",
      "21:56:49 - cmdstanpy - INFO - Chain [1] done processing\n",
      "21:56:49 - cmdstanpy - INFO - Chain [1] start processing\n",
      "21:56:50 - cmdstanpy - INFO - Chain [1] done processing\n",
      "21:56:50 - cmdstanpy - INFO - Chain [1] start processing\n",
      "21:56:51 - cmdstanpy - INFO - Chain [1] done processing\n",
      "21:56:51 - cmdstanpy - INFO - Chain [1] start processing\n",
      "21:56:52 - cmdstanpy - INFO - Chain [1] done processing\n",
      "21:56:52 - cmdstanpy - INFO - Chain [1] start processing\n",
      "21:56:53 - cmdstanpy - INFO - Chain [1] done processing\n",
      "21:56:53 - cmdstanpy - INFO - Chain [1] start processing\n",
      "21:56:54 - cmdstanpy - INFO - Chain [1] done processing\n",
      "21:56:54 - cmdstanpy - INFO - Chain [1] start processing\n",
      "21:56:55 - cmdstanpy - INFO - Chain [1] done processing\n",
      "21:56:55 - cmdstanpy - INFO - Chain [1] start processing\n",
      "21:56:56 - cmdstanpy - INFO - Chain [1] done processing\n",
      "21:56:56 - cmdstanpy - INFO - Chain [1] start processing\n",
      "21:56:57 - cmdstanpy - INFO - Chain [1] done processing\n",
      "21:56:57 - cmdstanpy - INFO - Chain [1] start processing\n",
      "21:56:58 - cmdstanpy - INFO - Chain [1] done processing\n"
     ]
    },
    {
     "data": {
      "application/vnd.jupyter.widget-view+json": {
       "model_id": "a200f8b2f4974055be470a15926ef6d8",
       "version_major": 2,
       "version_minor": 0
      },
      "text/plain": [
       "  0%|          | 0/17 [00:00<?, ?it/s]"
      ]
     },
     "metadata": {},
     "output_type": "display_data"
    },
    {
     "name": "stderr",
     "output_type": "stream",
     "text": [
      "21:56:58 - cmdstanpy - INFO - Chain [1] start processing\n",
      "21:56:59 - cmdstanpy - INFO - Chain [1] done processing\n",
      "21:56:59 - cmdstanpy - INFO - Chain [1] start processing\n",
      "21:57:00 - cmdstanpy - INFO - Chain [1] done processing\n",
      "21:57:00 - cmdstanpy - INFO - Chain [1] start processing\n",
      "21:57:01 - cmdstanpy - INFO - Chain [1] done processing\n",
      "21:57:01 - cmdstanpy - INFO - Chain [1] start processing\n",
      "21:57:01 - cmdstanpy - INFO - Chain [1] done processing\n",
      "21:57:01 - cmdstanpy - INFO - Chain [1] start processing\n",
      "21:57:02 - cmdstanpy - INFO - Chain [1] done processing\n",
      "21:57:03 - cmdstanpy - INFO - Chain [1] start processing\n",
      "21:57:03 - cmdstanpy - INFO - Chain [1] done processing\n",
      "21:57:03 - cmdstanpy - INFO - Chain [1] start processing\n",
      "21:57:04 - cmdstanpy - INFO - Chain [1] done processing\n",
      "21:57:04 - cmdstanpy - INFO - Chain [1] start processing\n",
      "21:57:05 - cmdstanpy - INFO - Chain [1] done processing\n",
      "21:57:05 - cmdstanpy - INFO - Chain [1] start processing\n",
      "21:57:06 - cmdstanpy - INFO - Chain [1] done processing\n",
      "21:57:06 - cmdstanpy - INFO - Chain [1] start processing\n",
      "21:57:07 - cmdstanpy - INFO - Chain [1] done processing\n",
      "21:57:07 - cmdstanpy - INFO - Chain [1] start processing\n",
      "21:57:07 - cmdstanpy - INFO - Chain [1] done processing\n",
      "21:57:08 - cmdstanpy - INFO - Chain [1] start processing\n",
      "21:57:08 - cmdstanpy - INFO - Chain [1] done processing\n",
      "21:57:09 - cmdstanpy - INFO - Chain [1] start processing\n",
      "21:57:10 - cmdstanpy - INFO - Chain [1] done processing\n",
      "21:57:10 - cmdstanpy - INFO - Chain [1] start processing\n",
      "21:57:11 - cmdstanpy - INFO - Chain [1] done processing\n",
      "21:57:11 - cmdstanpy - INFO - Chain [1] start processing\n",
      "21:57:11 - cmdstanpy - INFO - Chain [1] done processing\n",
      "21:57:12 - cmdstanpy - INFO - Chain [1] start processing\n",
      "21:57:13 - cmdstanpy - INFO - Chain [1] done processing\n",
      "21:57:13 - cmdstanpy - INFO - Chain [1] start processing\n",
      "21:57:14 - cmdstanpy - INFO - Chain [1] done processing\n",
      "21:57:14 - cmdstanpy - INFO - Chain [1] start processing\n",
      "21:57:15 - cmdstanpy - INFO - Chain [1] done processing\n"
     ]
    },
    {
     "data": {
      "application/vnd.jupyter.widget-view+json": {
       "model_id": "3db820c2d16b452899dbc3cdf1d9bd0b",
       "version_major": 2,
       "version_minor": 0
      },
      "text/plain": [
       "  0%|          | 0/17 [00:00<?, ?it/s]"
      ]
     },
     "metadata": {},
     "output_type": "display_data"
    },
    {
     "name": "stderr",
     "output_type": "stream",
     "text": [
      "21:57:15 - cmdstanpy - INFO - Chain [1] start processing\n",
      "21:57:15 - cmdstanpy - INFO - Chain [1] done processing\n",
      "21:57:16 - cmdstanpy - INFO - Chain [1] start processing\n",
      "21:57:16 - cmdstanpy - INFO - Chain [1] done processing\n",
      "21:57:16 - cmdstanpy - INFO - Chain [1] start processing\n",
      "21:57:17 - cmdstanpy - INFO - Chain [1] done processing\n",
      "21:57:17 - cmdstanpy - INFO - Chain [1] start processing\n",
      "21:57:17 - cmdstanpy - INFO - Chain [1] done processing\n",
      "21:57:18 - cmdstanpy - INFO - Chain [1] start processing\n",
      "21:57:18 - cmdstanpy - INFO - Chain [1] done processing\n",
      "21:57:18 - cmdstanpy - INFO - Chain [1] start processing\n",
      "21:57:19 - cmdstanpy - INFO - Chain [1] done processing\n",
      "21:57:19 - cmdstanpy - INFO - Chain [1] start processing\n",
      "21:57:20 - cmdstanpy - INFO - Chain [1] done processing\n",
      "21:57:20 - cmdstanpy - INFO - Chain [1] start processing\n",
      "21:57:21 - cmdstanpy - INFO - Chain [1] done processing\n",
      "21:57:21 - cmdstanpy - INFO - Chain [1] start processing\n",
      "21:57:21 - cmdstanpy - INFO - Chain [1] done processing\n",
      "21:57:22 - cmdstanpy - INFO - Chain [1] start processing\n",
      "21:57:22 - cmdstanpy - INFO - Chain [1] done processing\n",
      "21:57:22 - cmdstanpy - INFO - Chain [1] start processing\n",
      "21:57:23 - cmdstanpy - INFO - Chain [1] done processing\n",
      "21:57:23 - cmdstanpy - INFO - Chain [1] start processing\n",
      "21:57:24 - cmdstanpy - INFO - Chain [1] done processing\n",
      "21:57:24 - cmdstanpy - INFO - Chain [1] start processing\n",
      "21:57:25 - cmdstanpy - INFO - Chain [1] done processing\n",
      "21:57:25 - cmdstanpy - INFO - Chain [1] start processing\n",
      "21:57:26 - cmdstanpy - INFO - Chain [1] done processing\n",
      "21:57:26 - cmdstanpy - INFO - Chain [1] start processing\n",
      "21:57:27 - cmdstanpy - INFO - Chain [1] done processing\n",
      "21:57:27 - cmdstanpy - INFO - Chain [1] start processing\n",
      "21:57:28 - cmdstanpy - INFO - Chain [1] done processing\n",
      "21:57:28 - cmdstanpy - INFO - Chain [1] start processing\n",
      "21:57:29 - cmdstanpy - INFO - Chain [1] done processing\n",
      "21:57:29 - cmdstanpy - INFO - Chain [1] start processing\n",
      "21:57:29 - cmdstanpy - INFO - Chain [1] done processing\n"
     ]
    },
    {
     "data": {
      "application/vnd.jupyter.widget-view+json": {
       "model_id": "f54cd69644774c84a715b4633a195a85",
       "version_major": 2,
       "version_minor": 0
      },
      "text/plain": [
       "  0%|          | 0/17 [00:00<?, ?it/s]"
      ]
     },
     "metadata": {},
     "output_type": "display_data"
    },
    {
     "name": "stderr",
     "output_type": "stream",
     "text": [
      "21:57:30 - cmdstanpy - INFO - Chain [1] start processing\n",
      "21:57:30 - cmdstanpy - INFO - Chain [1] done processing\n",
      "21:57:30 - cmdstanpy - INFO - Chain [1] start processing\n",
      "21:57:30 - cmdstanpy - INFO - Chain [1] done processing\n",
      "21:57:31 - cmdstanpy - INFO - Chain [1] start processing\n",
      "21:57:31 - cmdstanpy - INFO - Chain [1] done processing\n",
      "21:57:31 - cmdstanpy - INFO - Chain [1] start processing\n",
      "21:57:32 - cmdstanpy - INFO - Chain [1] done processing\n",
      "21:57:32 - cmdstanpy - INFO - Chain [1] start processing\n",
      "21:57:33 - cmdstanpy - INFO - Chain [1] done processing\n",
      "21:57:33 - cmdstanpy - INFO - Chain [1] start processing\n",
      "21:57:33 - cmdstanpy - INFO - Chain [1] done processing\n",
      "21:57:33 - cmdstanpy - INFO - Chain [1] start processing\n",
      "21:57:34 - cmdstanpy - INFO - Chain [1] done processing\n",
      "21:57:34 - cmdstanpy - INFO - Chain [1] start processing\n",
      "21:57:35 - cmdstanpy - INFO - Chain [1] done processing\n",
      "21:57:35 - cmdstanpy - INFO - Chain [1] start processing\n",
      "21:57:35 - cmdstanpy - INFO - Chain [1] done processing\n",
      "21:57:36 - cmdstanpy - INFO - Chain [1] start processing\n",
      "21:57:36 - cmdstanpy - INFO - Chain [1] done processing\n",
      "21:57:37 - cmdstanpy - INFO - Chain [1] start processing\n",
      "21:57:37 - cmdstanpy - INFO - Chain [1] done processing\n",
      "21:57:37 - cmdstanpy - INFO - Chain [1] start processing\n",
      "21:57:38 - cmdstanpy - INFO - Chain [1] done processing\n",
      "21:57:38 - cmdstanpy - INFO - Chain [1] start processing\n",
      "21:57:39 - cmdstanpy - INFO - Chain [1] done processing\n",
      "21:57:39 - cmdstanpy - INFO - Chain [1] start processing\n",
      "21:57:40 - cmdstanpy - INFO - Chain [1] done processing\n",
      "21:57:40 - cmdstanpy - INFO - Chain [1] start processing\n",
      "21:57:41 - cmdstanpy - INFO - Chain [1] done processing\n",
      "21:57:41 - cmdstanpy - INFO - Chain [1] start processing\n",
      "21:57:42 - cmdstanpy - INFO - Chain [1] done processing\n",
      "21:57:42 - cmdstanpy - INFO - Chain [1] start processing\n",
      "21:57:43 - cmdstanpy - INFO - Chain [1] done processing\n",
      "21:57:43 - cmdstanpy - INFO - Chain [1] start processing\n",
      "21:57:44 - cmdstanpy - INFO - Chain [1] done processing\n"
     ]
    },
    {
     "data": {
      "application/vnd.jupyter.widget-view+json": {
       "model_id": "f3ad6314d7e940afb618389666651a5e",
       "version_major": 2,
       "version_minor": 0
      },
      "text/plain": [
       "  0%|          | 0/17 [00:00<?, ?it/s]"
      ]
     },
     "metadata": {},
     "output_type": "display_data"
    },
    {
     "name": "stderr",
     "output_type": "stream",
     "text": [
      "21:57:44 - cmdstanpy - INFO - Chain [1] start processing\n",
      "21:57:44 - cmdstanpy - INFO - Chain [1] done processing\n",
      "21:57:45 - cmdstanpy - INFO - Chain [1] start processing\n",
      "21:57:45 - cmdstanpy - INFO - Chain [1] done processing\n",
      "21:57:45 - cmdstanpy - INFO - Chain [1] start processing\n",
      "21:57:46 - cmdstanpy - INFO - Chain [1] done processing\n",
      "21:57:46 - cmdstanpy - INFO - Chain [1] start processing\n",
      "21:57:47 - cmdstanpy - INFO - Chain [1] done processing\n",
      "21:57:47 - cmdstanpy - INFO - Chain [1] start processing\n",
      "21:57:47 - cmdstanpy - INFO - Chain [1] done processing\n",
      "21:57:48 - cmdstanpy - INFO - Chain [1] start processing\n",
      "21:57:48 - cmdstanpy - INFO - Chain [1] done processing\n",
      "21:57:48 - cmdstanpy - INFO - Chain [1] start processing\n",
      "21:57:49 - cmdstanpy - INFO - Chain [1] done processing\n",
      "21:57:49 - cmdstanpy - INFO - Chain [1] start processing\n",
      "21:57:50 - cmdstanpy - INFO - Chain [1] done processing\n",
      "21:57:50 - cmdstanpy - INFO - Chain [1] start processing\n",
      "21:57:51 - cmdstanpy - INFO - Chain [1] done processing\n",
      "21:57:51 - cmdstanpy - INFO - Chain [1] start processing\n",
      "21:57:51 - cmdstanpy - INFO - Chain [1] done processing\n",
      "21:57:52 - cmdstanpy - INFO - Chain [1] start processing\n",
      "21:57:52 - cmdstanpy - INFO - Chain [1] done processing\n",
      "21:57:53 - cmdstanpy - INFO - Chain [1] start processing\n",
      "21:57:53 - cmdstanpy - INFO - Chain [1] done processing\n",
      "21:57:54 - cmdstanpy - INFO - Chain [1] start processing\n",
      "21:57:54 - cmdstanpy - INFO - Chain [1] done processing\n",
      "21:57:55 - cmdstanpy - INFO - Chain [1] start processing\n",
      "21:57:55 - cmdstanpy - INFO - Chain [1] done processing\n",
      "21:57:56 - cmdstanpy - INFO - Chain [1] start processing\n",
      "21:57:56 - cmdstanpy - INFO - Chain [1] done processing\n",
      "21:57:57 - cmdstanpy - INFO - Chain [1] start processing\n",
      "21:57:58 - cmdstanpy - INFO - Chain [1] done processing\n",
      "21:57:58 - cmdstanpy - INFO - Chain [1] start processing\n",
      "21:57:59 - cmdstanpy - INFO - Chain [1] done processing\n",
      "21:57:59 - cmdstanpy - INFO - Chain [1] start processing\n",
      "21:58:00 - cmdstanpy - INFO - Chain [1] done processing\n"
     ]
    },
    {
     "data": {
      "application/vnd.jupyter.widget-view+json": {
       "model_id": "e46ff9fcd5524555ac999983d1cd68ae",
       "version_major": 2,
       "version_minor": 0
      },
      "text/plain": [
       "  0%|          | 0/17 [00:00<?, ?it/s]"
      ]
     },
     "metadata": {},
     "output_type": "display_data"
    },
    {
     "name": "stderr",
     "output_type": "stream",
     "text": [
      "21:58:00 - cmdstanpy - INFO - Chain [1] start processing\n",
      "21:58:01 - cmdstanpy - INFO - Chain [1] done processing\n",
      "21:58:01 - cmdstanpy - INFO - Chain [1] start processing\n",
      "21:58:02 - cmdstanpy - INFO - Chain [1] done processing\n",
      "21:58:02 - cmdstanpy - INFO - Chain [1] start processing\n",
      "21:58:03 - cmdstanpy - INFO - Chain [1] done processing\n",
      "21:58:03 - cmdstanpy - INFO - Chain [1] start processing\n",
      "21:58:04 - cmdstanpy - INFO - Chain [1] done processing\n",
      "21:58:04 - cmdstanpy - INFO - Chain [1] start processing\n",
      "21:58:04 - cmdstanpy - INFO - Chain [1] done processing\n",
      "21:58:05 - cmdstanpy - INFO - Chain [1] start processing\n",
      "21:58:05 - cmdstanpy - INFO - Chain [1] done processing\n",
      "21:58:05 - cmdstanpy - INFO - Chain [1] start processing\n",
      "21:58:06 - cmdstanpy - INFO - Chain [1] done processing\n",
      "21:58:06 - cmdstanpy - INFO - Chain [1] start processing\n",
      "21:58:07 - cmdstanpy - INFO - Chain [1] done processing\n",
      "21:58:07 - cmdstanpy - INFO - Chain [1] start processing\n",
      "21:58:08 - cmdstanpy - INFO - Chain [1] done processing\n",
      "21:58:08 - cmdstanpy - INFO - Chain [1] start processing\n",
      "21:58:09 - cmdstanpy - INFO - Chain [1] done processing\n",
      "21:58:09 - cmdstanpy - INFO - Chain [1] start processing\n",
      "21:58:10 - cmdstanpy - INFO - Chain [1] done processing\n",
      "21:58:10 - cmdstanpy - INFO - Chain [1] start processing\n",
      "21:58:11 - cmdstanpy - INFO - Chain [1] done processing\n",
      "21:58:11 - cmdstanpy - INFO - Chain [1] start processing\n",
      "21:58:12 - cmdstanpy - INFO - Chain [1] done processing\n",
      "21:58:12 - cmdstanpy - INFO - Chain [1] start processing\n",
      "21:58:13 - cmdstanpy - INFO - Chain [1] done processing\n",
      "21:58:13 - cmdstanpy - INFO - Chain [1] start processing\n",
      "21:58:14 - cmdstanpy - INFO - Chain [1] done processing\n",
      "21:58:15 - cmdstanpy - INFO - Chain [1] start processing\n",
      "21:58:15 - cmdstanpy - INFO - Chain [1] done processing\n",
      "21:58:16 - cmdstanpy - INFO - Chain [1] start processing\n",
      "21:58:17 - cmdstanpy - INFO - Chain [1] done processing\n",
      "21:58:17 - cmdstanpy - INFO - Chain [1] start processing\n",
      "21:58:18 - cmdstanpy - INFO - Chain [1] done processing\n"
     ]
    },
    {
     "data": {
      "application/vnd.jupyter.widget-view+json": {
       "model_id": "0f7e2918765d4350af5eb59636ffa991",
       "version_major": 2,
       "version_minor": 0
      },
      "text/plain": [
       "  0%|          | 0/17 [00:00<?, ?it/s]"
      ]
     },
     "metadata": {},
     "output_type": "display_data"
    },
    {
     "name": "stderr",
     "output_type": "stream",
     "text": [
      "21:58:18 - cmdstanpy - INFO - Chain [1] start processing\n",
      "21:58:19 - cmdstanpy - INFO - Chain [1] done processing\n",
      "21:58:19 - cmdstanpy - INFO - Chain [1] start processing\n",
      "21:58:19 - cmdstanpy - INFO - Chain [1] done processing\n",
      "21:58:19 - cmdstanpy - INFO - Chain [1] start processing\n",
      "21:58:20 - cmdstanpy - INFO - Chain [1] done processing\n",
      "21:58:20 - cmdstanpy - INFO - Chain [1] start processing\n",
      "21:58:21 - cmdstanpy - INFO - Chain [1] done processing\n",
      "21:58:21 - cmdstanpy - INFO - Chain [1] start processing\n",
      "21:58:22 - cmdstanpy - INFO - Chain [1] done processing\n",
      "21:58:22 - cmdstanpy - INFO - Chain [1] start processing\n",
      "21:58:22 - cmdstanpy - INFO - Chain [1] done processing\n",
      "21:58:23 - cmdstanpy - INFO - Chain [1] start processing\n",
      "21:58:23 - cmdstanpy - INFO - Chain [1] done processing\n",
      "21:58:24 - cmdstanpy - INFO - Chain [1] start processing\n",
      "21:58:24 - cmdstanpy - INFO - Chain [1] done processing\n",
      "21:58:25 - cmdstanpy - INFO - Chain [1] start processing\n",
      "21:58:25 - cmdstanpy - INFO - Chain [1] done processing\n",
      "21:58:26 - cmdstanpy - INFO - Chain [1] start processing\n",
      "21:58:26 - cmdstanpy - INFO - Chain [1] done processing\n",
      "21:58:27 - cmdstanpy - INFO - Chain [1] start processing\n",
      "21:58:27 - cmdstanpy - INFO - Chain [1] done processing\n",
      "21:58:28 - cmdstanpy - INFO - Chain [1] start processing\n",
      "21:58:28 - cmdstanpy - INFO - Chain [1] done processing\n",
      "21:58:29 - cmdstanpy - INFO - Chain [1] start processing\n",
      "21:58:30 - cmdstanpy - INFO - Chain [1] done processing\n",
      "21:58:30 - cmdstanpy - INFO - Chain [1] start processing\n",
      "21:58:31 - cmdstanpy - INFO - Chain [1] done processing\n",
      "21:58:31 - cmdstanpy - INFO - Chain [1] start processing\n",
      "21:58:32 - cmdstanpy - INFO - Chain [1] done processing\n",
      "21:58:32 - cmdstanpy - INFO - Chain [1] start processing\n",
      "21:58:33 - cmdstanpy - INFO - Chain [1] done processing\n",
      "21:58:33 - cmdstanpy - INFO - Chain [1] start processing\n",
      "21:58:34 - cmdstanpy - INFO - Chain [1] done processing\n",
      "21:58:35 - cmdstanpy - INFO - Chain [1] start processing\n",
      "21:58:36 - cmdstanpy - INFO - Chain [1] done processing\n"
     ]
    },
    {
     "data": {
      "application/vnd.jupyter.widget-view+json": {
       "model_id": "203aa7827ade4106ac35ffa9de44f9da",
       "version_major": 2,
       "version_minor": 0
      },
      "text/plain": [
       "  0%|          | 0/17 [00:00<?, ?it/s]"
      ]
     },
     "metadata": {},
     "output_type": "display_data"
    },
    {
     "name": "stderr",
     "output_type": "stream",
     "text": [
      "21:58:36 - cmdstanpy - INFO - Chain [1] start processing\n",
      "21:58:36 - cmdstanpy - INFO - Chain [1] done processing\n",
      "21:58:37 - cmdstanpy - INFO - Chain [1] start processing\n",
      "21:58:37 - cmdstanpy - INFO - Chain [1] done processing\n",
      "21:58:37 - cmdstanpy - INFO - Chain [1] start processing\n",
      "21:58:38 - cmdstanpy - INFO - Chain [1] done processing\n",
      "21:58:38 - cmdstanpy - INFO - Chain [1] start processing\n",
      "21:58:39 - cmdstanpy - INFO - Chain [1] done processing\n",
      "21:58:39 - cmdstanpy - INFO - Chain [1] start processing\n",
      "21:58:39 - cmdstanpy - INFO - Chain [1] done processing\n",
      "21:58:40 - cmdstanpy - INFO - Chain [1] start processing\n",
      "21:58:40 - cmdstanpy - INFO - Chain [1] done processing\n",
      "21:58:40 - cmdstanpy - INFO - Chain [1] start processing\n",
      "21:58:41 - cmdstanpy - INFO - Chain [1] done processing\n",
      "21:58:41 - cmdstanpy - INFO - Chain [1] start processing\n",
      "21:58:42 - cmdstanpy - INFO - Chain [1] done processing\n",
      "21:58:42 - cmdstanpy - INFO - Chain [1] start processing\n",
      "21:58:42 - cmdstanpy - INFO - Chain [1] done processing\n",
      "21:58:43 - cmdstanpy - INFO - Chain [1] start processing\n",
      "21:58:43 - cmdstanpy - INFO - Chain [1] done processing\n",
      "21:58:44 - cmdstanpy - INFO - Chain [1] start processing\n",
      "21:58:44 - cmdstanpy - INFO - Chain [1] done processing\n",
      "21:58:44 - cmdstanpy - INFO - Chain [1] start processing\n",
      "21:58:45 - cmdstanpy - INFO - Chain [1] done processing\n",
      "21:58:46 - cmdstanpy - INFO - Chain [1] start processing\n",
      "21:58:46 - cmdstanpy - INFO - Chain [1] done processing\n",
      "21:58:47 - cmdstanpy - INFO - Chain [1] start processing\n",
      "21:58:47 - cmdstanpy - INFO - Chain [1] done processing\n",
      "21:58:47 - cmdstanpy - INFO - Chain [1] start processing\n",
      "21:58:48 - cmdstanpy - INFO - Chain [1] done processing\n",
      "21:58:48 - cmdstanpy - INFO - Chain [1] start processing\n",
      "21:58:49 - cmdstanpy - INFO - Chain [1] done processing\n",
      "21:58:49 - cmdstanpy - INFO - Chain [1] start processing\n",
      "21:58:50 - cmdstanpy - INFO - Chain [1] done processing\n",
      "21:58:51 - cmdstanpy - INFO - Chain [1] start processing\n",
      "21:58:51 - cmdstanpy - INFO - Chain [1] done processing\n"
     ]
    },
    {
     "data": {
      "application/vnd.jupyter.widget-view+json": {
       "model_id": "e9ce08ad5adb44d19fe12d067d67d2f7",
       "version_major": 2,
       "version_minor": 0
      },
      "text/plain": [
       "  0%|          | 0/17 [00:00<?, ?it/s]"
      ]
     },
     "metadata": {},
     "output_type": "display_data"
    },
    {
     "name": "stderr",
     "output_type": "stream",
     "text": [
      "21:58:52 - cmdstanpy - INFO - Chain [1] start processing\n",
      "21:58:52 - cmdstanpy - INFO - Chain [1] done processing\n",
      "21:58:52 - cmdstanpy - INFO - Chain [1] start processing\n",
      "21:58:53 - cmdstanpy - INFO - Chain [1] done processing\n",
      "21:58:53 - cmdstanpy - INFO - Chain [1] start processing\n",
      "21:58:54 - cmdstanpy - INFO - Chain [1] done processing\n",
      "21:58:54 - cmdstanpy - INFO - Chain [1] start processing\n",
      "21:58:54 - cmdstanpy - INFO - Chain [1] done processing\n",
      "21:58:55 - cmdstanpy - INFO - Chain [1] start processing\n",
      "21:58:55 - cmdstanpy - INFO - Chain [1] done processing\n",
      "21:58:55 - cmdstanpy - INFO - Chain [1] start processing\n",
      "21:58:56 - cmdstanpy - INFO - Chain [1] done processing\n",
      "21:58:56 - cmdstanpy - INFO - Chain [1] start processing\n",
      "21:58:56 - cmdstanpy - INFO - Chain [1] done processing\n",
      "21:58:57 - cmdstanpy - INFO - Chain [1] start processing\n",
      "21:58:57 - cmdstanpy - INFO - Chain [1] done processing\n",
      "21:58:58 - cmdstanpy - INFO - Chain [1] start processing\n",
      "21:58:58 - cmdstanpy - INFO - Chain [1] done processing\n",
      "21:58:59 - cmdstanpy - INFO - Chain [1] start processing\n",
      "21:58:59 - cmdstanpy - INFO - Chain [1] done processing\n",
      "21:58:59 - cmdstanpy - INFO - Chain [1] start processing\n",
      "21:59:00 - cmdstanpy - INFO - Chain [1] done processing\n",
      "21:59:00 - cmdstanpy - INFO - Chain [1] start processing\n",
      "21:59:01 - cmdstanpy - INFO - Chain [1] done processing\n",
      "21:59:01 - cmdstanpy - INFO - Chain [1] start processing\n",
      "21:59:02 - cmdstanpy - INFO - Chain [1] done processing\n",
      "21:59:02 - cmdstanpy - INFO - Chain [1] start processing\n",
      "21:59:03 - cmdstanpy - INFO - Chain [1] done processing\n",
      "21:59:03 - cmdstanpy - INFO - Chain [1] start processing\n",
      "21:59:04 - cmdstanpy - INFO - Chain [1] done processing\n",
      "21:59:04 - cmdstanpy - INFO - Chain [1] start processing\n",
      "21:59:05 - cmdstanpy - INFO - Chain [1] done processing\n",
      "21:59:05 - cmdstanpy - INFO - Chain [1] start processing\n",
      "21:59:06 - cmdstanpy - INFO - Chain [1] done processing\n",
      "21:59:06 - cmdstanpy - INFO - Chain [1] start processing\n",
      "21:59:07 - cmdstanpy - INFO - Chain [1] done processing\n"
     ]
    },
    {
     "data": {
      "application/vnd.jupyter.widget-view+json": {
       "model_id": "d7b7255b0d2e4e39851fd1bb7376245f",
       "version_major": 2,
       "version_minor": 0
      },
      "text/plain": [
       "  0%|          | 0/17 [00:00<?, ?it/s]"
      ]
     },
     "metadata": {},
     "output_type": "display_data"
    },
    {
     "name": "stderr",
     "output_type": "stream",
     "text": [
      "21:59:07 - cmdstanpy - INFO - Chain [1] start processing\n",
      "21:59:07 - cmdstanpy - INFO - Chain [1] done processing\n",
      "21:59:08 - cmdstanpy - INFO - Chain [1] start processing\n",
      "21:59:08 - cmdstanpy - INFO - Chain [1] done processing\n",
      "21:59:08 - cmdstanpy - INFO - Chain [1] start processing\n",
      "21:59:09 - cmdstanpy - INFO - Chain [1] done processing\n",
      "21:59:09 - cmdstanpy - INFO - Chain [1] start processing\n",
      "21:59:10 - cmdstanpy - INFO - Chain [1] done processing\n",
      "21:59:10 - cmdstanpy - INFO - Chain [1] start processing\n",
      "21:59:10 - cmdstanpy - INFO - Chain [1] done processing\n",
      "21:59:11 - cmdstanpy - INFO - Chain [1] start processing\n",
      "21:59:11 - cmdstanpy - INFO - Chain [1] done processing\n",
      "21:59:11 - cmdstanpy - INFO - Chain [1] start processing\n",
      "21:59:11 - cmdstanpy - INFO - Chain [1] done processing\n",
      "21:59:12 - cmdstanpy - INFO - Chain [1] start processing\n",
      "21:59:12 - cmdstanpy - INFO - Chain [1] done processing\n",
      "21:59:12 - cmdstanpy - INFO - Chain [1] start processing\n",
      "21:59:13 - cmdstanpy - INFO - Chain [1] done processing\n",
      "21:59:13 - cmdstanpy - INFO - Chain [1] start processing\n",
      "21:59:14 - cmdstanpy - INFO - Chain [1] done processing\n",
      "21:59:14 - cmdstanpy - INFO - Chain [1] start processing\n",
      "21:59:14 - cmdstanpy - INFO - Chain [1] done processing\n",
      "21:59:15 - cmdstanpy - INFO - Chain [1] start processing\n",
      "21:59:15 - cmdstanpy - INFO - Chain [1] done processing\n",
      "21:59:16 - cmdstanpy - INFO - Chain [1] start processing\n",
      "21:59:16 - cmdstanpy - INFO - Chain [1] done processing\n",
      "21:59:16 - cmdstanpy - INFO - Chain [1] start processing\n",
      "21:59:17 - cmdstanpy - INFO - Chain [1] done processing\n",
      "21:59:17 - cmdstanpy - INFO - Chain [1] start processing\n",
      "21:59:18 - cmdstanpy - INFO - Chain [1] done processing\n",
      "21:59:18 - cmdstanpy - INFO - Chain [1] start processing\n",
      "21:59:19 - cmdstanpy - INFO - Chain [1] done processing\n",
      "21:59:19 - cmdstanpy - INFO - Chain [1] start processing\n",
      "21:59:20 - cmdstanpy - INFO - Chain [1] done processing\n",
      "21:59:20 - cmdstanpy - INFO - Chain [1] start processing\n",
      "21:59:21 - cmdstanpy - INFO - Chain [1] done processing\n"
     ]
    },
    {
     "data": {
      "application/vnd.jupyter.widget-view+json": {
       "model_id": "541913adb69a4580b9d1a20c1a0c6885",
       "version_major": 2,
       "version_minor": 0
      },
      "text/plain": [
       "  0%|          | 0/17 [00:00<?, ?it/s]"
      ]
     },
     "metadata": {},
     "output_type": "display_data"
    },
    {
     "name": "stderr",
     "output_type": "stream",
     "text": [
      "21:59:21 - cmdstanpy - INFO - Chain [1] start processing\n",
      "21:59:22 - cmdstanpy - INFO - Chain [1] done processing\n",
      "21:59:22 - cmdstanpy - INFO - Chain [1] start processing\n",
      "21:59:22 - cmdstanpy - INFO - Chain [1] done processing\n",
      "21:59:22 - cmdstanpy - INFO - Chain [1] start processing\n",
      "21:59:23 - cmdstanpy - INFO - Chain [1] done processing\n",
      "21:59:23 - cmdstanpy - INFO - Chain [1] start processing\n",
      "21:59:24 - cmdstanpy - INFO - Chain [1] done processing\n",
      "21:59:24 - cmdstanpy - INFO - Chain [1] start processing\n",
      "21:59:24 - cmdstanpy - INFO - Chain [1] done processing\n",
      "21:59:24 - cmdstanpy - INFO - Chain [1] start processing\n",
      "21:59:25 - cmdstanpy - INFO - Chain [1] done processing\n",
      "21:59:25 - cmdstanpy - INFO - Chain [1] start processing\n",
      "21:59:26 - cmdstanpy - INFO - Chain [1] done processing\n",
      "21:59:26 - cmdstanpy - INFO - Chain [1] start processing\n",
      "21:59:27 - cmdstanpy - INFO - Chain [1] done processing\n",
      "21:59:27 - cmdstanpy - INFO - Chain [1] start processing\n",
      "21:59:27 - cmdstanpy - INFO - Chain [1] done processing\n",
      "21:59:28 - cmdstanpy - INFO - Chain [1] start processing\n",
      "21:59:28 - cmdstanpy - INFO - Chain [1] done processing\n",
      "21:59:28 - cmdstanpy - INFO - Chain [1] start processing\n",
      "21:59:29 - cmdstanpy - INFO - Chain [1] done processing\n",
      "21:59:29 - cmdstanpy - INFO - Chain [1] start processing\n",
      "21:59:30 - cmdstanpy - INFO - Chain [1] done processing\n",
      "21:59:30 - cmdstanpy - INFO - Chain [1] start processing\n",
      "21:59:31 - cmdstanpy - INFO - Chain [1] done processing\n",
      "21:59:31 - cmdstanpy - INFO - Chain [1] start processing\n",
      "21:59:32 - cmdstanpy - INFO - Chain [1] done processing\n",
      "21:59:32 - cmdstanpy - INFO - Chain [1] start processing\n",
      "21:59:33 - cmdstanpy - INFO - Chain [1] done processing\n",
      "21:59:33 - cmdstanpy - INFO - Chain [1] start processing\n",
      "21:59:34 - cmdstanpy - INFO - Chain [1] done processing\n",
      "21:59:34 - cmdstanpy - INFO - Chain [1] start processing\n",
      "21:59:35 - cmdstanpy - INFO - Chain [1] done processing\n",
      "21:59:35 - cmdstanpy - INFO - Chain [1] start processing\n",
      "21:59:36 - cmdstanpy - INFO - Chain [1] done processing\n"
     ]
    },
    {
     "data": {
      "application/vnd.jupyter.widget-view+json": {
       "model_id": "bd306e53e59f4892b688e7f0d5692859",
       "version_major": 2,
       "version_minor": 0
      },
      "text/plain": [
       "  0%|          | 0/17 [00:00<?, ?it/s]"
      ]
     },
     "metadata": {},
     "output_type": "display_data"
    },
    {
     "name": "stderr",
     "output_type": "stream",
     "text": [
      "21:59:36 - cmdstanpy - INFO - Chain [1] start processing\n",
      "21:59:36 - cmdstanpy - INFO - Chain [1] done processing\n",
      "21:59:37 - cmdstanpy - INFO - Chain [1] start processing\n",
      "21:59:37 - cmdstanpy - INFO - Chain [1] done processing\n",
      "21:59:37 - cmdstanpy - INFO - Chain [1] start processing\n",
      "21:59:38 - cmdstanpy - INFO - Chain [1] done processing\n",
      "21:59:38 - cmdstanpy - INFO - Chain [1] start processing\n",
      "21:59:39 - cmdstanpy - INFO - Chain [1] done processing\n",
      "21:59:39 - cmdstanpy - INFO - Chain [1] start processing\n",
      "21:59:40 - cmdstanpy - INFO - Chain [1] done processing\n",
      "21:59:40 - cmdstanpy - INFO - Chain [1] start processing\n",
      "21:59:40 - cmdstanpy - INFO - Chain [1] done processing\n",
      "21:59:41 - cmdstanpy - INFO - Chain [1] start processing\n",
      "21:59:41 - cmdstanpy - INFO - Chain [1] done processing\n",
      "21:59:41 - cmdstanpy - INFO - Chain [1] start processing\n",
      "21:59:42 - cmdstanpy - INFO - Chain [1] done processing\n",
      "21:59:42 - cmdstanpy - INFO - Chain [1] start processing\n",
      "21:59:43 - cmdstanpy - INFO - Chain [1] done processing\n",
      "21:59:43 - cmdstanpy - INFO - Chain [1] start processing\n",
      "21:59:44 - cmdstanpy - INFO - Chain [1] done processing\n",
      "21:59:44 - cmdstanpy - INFO - Chain [1] start processing\n",
      "21:59:45 - cmdstanpy - INFO - Chain [1] done processing\n",
      "21:59:45 - cmdstanpy - INFO - Chain [1] start processing\n",
      "21:59:46 - cmdstanpy - INFO - Chain [1] done processing\n",
      "21:59:46 - cmdstanpy - INFO - Chain [1] start processing\n",
      "21:59:47 - cmdstanpy - INFO - Chain [1] done processing\n",
      "21:59:47 - cmdstanpy - INFO - Chain [1] start processing\n",
      "21:59:48 - cmdstanpy - INFO - Chain [1] done processing\n",
      "21:59:48 - cmdstanpy - INFO - Chain [1] start processing\n",
      "21:59:49 - cmdstanpy - INFO - Chain [1] done processing\n",
      "21:59:49 - cmdstanpy - INFO - Chain [1] start processing\n",
      "21:59:50 - cmdstanpy - INFO - Chain [1] done processing\n",
      "21:59:50 - cmdstanpy - INFO - Chain [1] start processing\n",
      "21:59:51 - cmdstanpy - INFO - Chain [1] done processing\n",
      "21:59:52 - cmdstanpy - INFO - Chain [1] start processing\n",
      "21:59:53 - cmdstanpy - INFO - Chain [1] done processing\n"
     ]
    },
    {
     "data": {
      "application/vnd.jupyter.widget-view+json": {
       "model_id": "6a988f83d53c4c6db5ff0e882d68ccf4",
       "version_major": 2,
       "version_minor": 0
      },
      "text/plain": [
       "  0%|          | 0/17 [00:00<?, ?it/s]"
      ]
     },
     "metadata": {},
     "output_type": "display_data"
    },
    {
     "name": "stderr",
     "output_type": "stream",
     "text": [
      "21:59:53 - cmdstanpy - INFO - Chain [1] start processing\n",
      "21:59:53 - cmdstanpy - INFO - Chain [1] done processing\n",
      "21:59:54 - cmdstanpy - INFO - Chain [1] start processing\n",
      "21:59:54 - cmdstanpy - INFO - Chain [1] done processing\n",
      "21:59:54 - cmdstanpy - INFO - Chain [1] start processing\n",
      "21:59:55 - cmdstanpy - INFO - Chain [1] done processing\n",
      "21:59:55 - cmdstanpy - INFO - Chain [1] start processing\n",
      "21:59:56 - cmdstanpy - INFO - Chain [1] done processing\n",
      "21:59:56 - cmdstanpy - INFO - Chain [1] start processing\n",
      "21:59:56 - cmdstanpy - INFO - Chain [1] done processing\n",
      "21:59:57 - cmdstanpy - INFO - Chain [1] start processing\n",
      "21:59:57 - cmdstanpy - INFO - Chain [1] done processing\n",
      "21:59:57 - cmdstanpy - INFO - Chain [1] start processing\n",
      "21:59:58 - cmdstanpy - INFO - Chain [1] done processing\n",
      "21:59:58 - cmdstanpy - INFO - Chain [1] start processing\n",
      "21:59:59 - cmdstanpy - INFO - Chain [1] done processing\n",
      "21:59:59 - cmdstanpy - INFO - Chain [1] start processing\n",
      "22:00:00 - cmdstanpy - INFO - Chain [1] done processing\n",
      "22:00:00 - cmdstanpy - INFO - Chain [1] start processing\n",
      "22:00:01 - cmdstanpy - INFO - Chain [1] done processing\n",
      "22:00:01 - cmdstanpy - INFO - Chain [1] start processing\n",
      "22:00:02 - cmdstanpy - INFO - Chain [1] done processing\n",
      "22:00:02 - cmdstanpy - INFO - Chain [1] start processing\n",
      "22:00:03 - cmdstanpy - INFO - Chain [1] done processing\n",
      "22:00:03 - cmdstanpy - INFO - Chain [1] start processing\n",
      "22:00:04 - cmdstanpy - INFO - Chain [1] done processing\n",
      "22:00:04 - cmdstanpy - INFO - Chain [1] start processing\n",
      "22:00:05 - cmdstanpy - INFO - Chain [1] done processing\n",
      "22:00:05 - cmdstanpy - INFO - Chain [1] start processing\n",
      "22:00:06 - cmdstanpy - INFO - Chain [1] done processing\n",
      "22:00:06 - cmdstanpy - INFO - Chain [1] start processing\n",
      "22:00:07 - cmdstanpy - INFO - Chain [1] done processing\n",
      "22:00:07 - cmdstanpy - INFO - Chain [1] start processing\n",
      "22:00:08 - cmdstanpy - INFO - Chain [1] done processing\n",
      "22:00:08 - cmdstanpy - INFO - Chain [1] start processing\n",
      "22:00:09 - cmdstanpy - INFO - Chain [1] done processing\n"
     ]
    },
    {
     "data": {
      "application/vnd.jupyter.widget-view+json": {
       "model_id": "8066c9aab1ae463799c83be16d52cf00",
       "version_major": 2,
       "version_minor": 0
      },
      "text/plain": [
       "  0%|          | 0/17 [00:00<?, ?it/s]"
      ]
     },
     "metadata": {},
     "output_type": "display_data"
    },
    {
     "name": "stderr",
     "output_type": "stream",
     "text": [
      "22:00:09 - cmdstanpy - INFO - Chain [1] start processing\n",
      "22:00:09 - cmdstanpy - INFO - Chain [1] done processing\n",
      "22:00:10 - cmdstanpy - INFO - Chain [1] start processing\n",
      "22:00:10 - cmdstanpy - INFO - Chain [1] done processing\n",
      "22:00:10 - cmdstanpy - INFO - Chain [1] start processing\n",
      "22:00:11 - cmdstanpy - INFO - Chain [1] done processing\n",
      "22:00:11 - cmdstanpy - INFO - Chain [1] start processing\n",
      "22:00:12 - cmdstanpy - INFO - Chain [1] done processing\n",
      "22:00:12 - cmdstanpy - INFO - Chain [1] start processing\n",
      "22:00:12 - cmdstanpy - INFO - Chain [1] done processing\n",
      "22:00:13 - cmdstanpy - INFO - Chain [1] start processing\n",
      "22:00:13 - cmdstanpy - INFO - Chain [1] done processing\n",
      "22:00:13 - cmdstanpy - INFO - Chain [1] start processing\n",
      "22:00:14 - cmdstanpy - INFO - Chain [1] done processing\n",
      "22:00:14 - cmdstanpy - INFO - Chain [1] start processing\n",
      "22:00:15 - cmdstanpy - INFO - Chain [1] done processing\n",
      "22:00:15 - cmdstanpy - INFO - Chain [1] start processing\n",
      "22:00:15 - cmdstanpy - INFO - Chain [1] done processing\n",
      "22:00:16 - cmdstanpy - INFO - Chain [1] start processing\n",
      "22:00:16 - cmdstanpy - INFO - Chain [1] done processing\n",
      "22:00:17 - cmdstanpy - INFO - Chain [1] start processing\n",
      "22:00:17 - cmdstanpy - INFO - Chain [1] done processing\n",
      "22:00:17 - cmdstanpy - INFO - Chain [1] start processing\n",
      "22:00:18 - cmdstanpy - INFO - Chain [1] done processing\n",
      "22:00:18 - cmdstanpy - INFO - Chain [1] start processing\n",
      "22:00:19 - cmdstanpy - INFO - Chain [1] done processing\n",
      "22:00:19 - cmdstanpy - INFO - Chain [1] start processing\n",
      "22:00:20 - cmdstanpy - INFO - Chain [1] done processing\n",
      "22:00:20 - cmdstanpy - INFO - Chain [1] start processing\n",
      "22:00:21 - cmdstanpy - INFO - Chain [1] done processing\n",
      "22:00:21 - cmdstanpy - INFO - Chain [1] start processing\n",
      "22:00:22 - cmdstanpy - INFO - Chain [1] done processing\n",
      "22:00:22 - cmdstanpy - INFO - Chain [1] start processing\n",
      "22:00:23 - cmdstanpy - INFO - Chain [1] done processing\n",
      "22:00:23 - cmdstanpy - INFO - Chain [1] start processing\n",
      "22:00:24 - cmdstanpy - INFO - Chain [1] done processing\n"
     ]
    },
    {
     "data": {
      "application/vnd.jupyter.widget-view+json": {
       "model_id": "555aeba7e89e47b78b0528a5ffd962ab",
       "version_major": 2,
       "version_minor": 0
      },
      "text/plain": [
       "  0%|          | 0/17 [00:00<?, ?it/s]"
      ]
     },
     "metadata": {},
     "output_type": "display_data"
    },
    {
     "name": "stderr",
     "output_type": "stream",
     "text": [
      "22:00:24 - cmdstanpy - INFO - Chain [1] start processing\n",
      "22:00:25 - cmdstanpy - INFO - Chain [1] done processing\n",
      "22:00:25 - cmdstanpy - INFO - Chain [1] start processing\n",
      "22:00:25 - cmdstanpy - INFO - Chain [1] done processing\n",
      "22:00:26 - cmdstanpy - INFO - Chain [1] start processing\n",
      "22:00:26 - cmdstanpy - INFO - Chain [1] done processing\n",
      "22:00:27 - cmdstanpy - INFO - Chain [1] start processing\n",
      "22:00:27 - cmdstanpy - INFO - Chain [1] done processing\n",
      "22:00:27 - cmdstanpy - INFO - Chain [1] start processing\n",
      "22:00:28 - cmdstanpy - INFO - Chain [1] done processing\n",
      "22:00:28 - cmdstanpy - INFO - Chain [1] start processing\n",
      "22:00:28 - cmdstanpy - INFO - Chain [1] done processing\n",
      "22:00:29 - cmdstanpy - INFO - Chain [1] start processing\n",
      "22:00:29 - cmdstanpy - INFO - Chain [1] done processing\n",
      "22:00:30 - cmdstanpy - INFO - Chain [1] start processing\n",
      "22:00:30 - cmdstanpy - INFO - Chain [1] done processing\n",
      "22:00:30 - cmdstanpy - INFO - Chain [1] start processing\n",
      "22:00:31 - cmdstanpy - INFO - Chain [1] done processing\n",
      "22:00:31 - cmdstanpy - INFO - Chain [1] start processing\n",
      "22:00:31 - cmdstanpy - INFO - Chain [1] done processing\n",
      "22:00:32 - cmdstanpy - INFO - Chain [1] start processing\n",
      "22:00:32 - cmdstanpy - INFO - Chain [1] done processing\n",
      "22:00:33 - cmdstanpy - INFO - Chain [1] start processing\n",
      "22:00:33 - cmdstanpy - INFO - Chain [1] done processing\n",
      "22:00:34 - cmdstanpy - INFO - Chain [1] start processing\n",
      "22:00:34 - cmdstanpy - INFO - Chain [1] done processing\n",
      "22:00:35 - cmdstanpy - INFO - Chain [1] start processing\n",
      "22:00:35 - cmdstanpy - INFO - Chain [1] done processing\n",
      "22:00:36 - cmdstanpy - INFO - Chain [1] start processing\n",
      "22:00:36 - cmdstanpy - INFO - Chain [1] done processing\n",
      "22:00:37 - cmdstanpy - INFO - Chain [1] start processing\n",
      "22:00:38 - cmdstanpy - INFO - Chain [1] done processing\n",
      "22:00:38 - cmdstanpy - INFO - Chain [1] start processing\n",
      "22:00:39 - cmdstanpy - INFO - Chain [1] done processing\n"
     ]
    }
   ],
   "source": [
    "#data download\n",
    "data = yf.download(tickers = 'ATVI', start = '2018-07-29',end = '2023-07-29') #1459 days overall, 5 yrs\n",
    "#preprocessing\n",
    "data.drop(['Volume', 'High', 'Low', 'Open', 'Adj Close'], axis=1, inplace=True)\n",
    "data.dropna(inplace=True)\n",
    "df = pd.DataFrame()\n",
    "df[\"y\"] = data[\"Close\"]\n",
    "df[\"ds\"] = data.index\n",
    "\n",
    "train = 252*3 #252 trade days in a year \n",
    "val = 252\n",
    "split = train + val #4 trading yrs\n",
    "H = 21\n",
    "\n",
    "params = {\n",
    "        'changepoint_prior_scale': [0.01, 0.05, 0.1, 0.5, 1, 1.5, 2, 2.5, 3],\n",
    "        'fourier_order': [2, 4, 6, 8, 9, 10]\n",
    "    }\n",
    "all_params = [zip(params.keys(), v) for v in itertools.product(*params.values())]\n",
    "results = tune(df, split, H, all_params)"
   ]
  },
  {
   "cell_type": "code",
   "execution_count": 232,
   "id": "f0752818-0472-4cf8-aa51-f269a85e75f4",
   "metadata": {},
   "outputs": [
    {
     "name": "stderr",
     "output_type": "stream",
     "text": [
      "C:\\Users\\Admin\\AppData\\Local\\Programs\\Python\\Python311\\Lib\\site-packages\\prophet\\forecaster.py:118: FutureWarning: Calling float on a single element Series is deprecated and will raise a TypeError in the future. Use float(ser.iloc[0]) instead\n",
      "  self.changepoint_prior_scale = float(changepoint_prior_scale)\n",
      "C:\\Users\\Admin\\AppData\\Local\\Temp\\ipykernel_16244\\1555083444.py:12: FutureWarning: Calling int on a single element Series is deprecated and will raise a TypeError in the future. Use int(ser.iloc[0]) instead\n",
      "  md.add_seasonality(name='monthly', period=H, fourier_order=int(fo_opt))\n",
      "22:00:52 - cmdstanpy - INFO - Chain [1] start processing\n",
      "22:00:52 - cmdstanpy - INFO - Chain [1] done processing\n"
     ]
    },
    {
     "data": {
      "application/vnd.jupyter.widget-view+json": {
       "model_id": "b3761b8ee2c64ab498430d39194086ea",
       "version_major": 2,
       "version_minor": 0
      },
      "text/plain": [
       "  0%|          | 0/19 [00:00<?, ?it/s]"
      ]
     },
     "metadata": {},
     "output_type": "display_data"
    },
    {
     "name": "stderr",
     "output_type": "stream",
     "text": [
      "22:00:53 - cmdstanpy - INFO - Chain [1] start processing\n",
      "22:00:53 - cmdstanpy - INFO - Chain [1] done processing\n",
      "22:00:53 - cmdstanpy - INFO - Chain [1] start processing\n",
      "22:00:54 - cmdstanpy - INFO - Chain [1] done processing\n",
      "22:00:54 - cmdstanpy - INFO - Chain [1] start processing\n",
      "22:00:55 - cmdstanpy - INFO - Chain [1] done processing\n",
      "22:00:55 - cmdstanpy - INFO - Chain [1] start processing\n",
      "22:00:55 - cmdstanpy - INFO - Chain [1] done processing\n",
      "22:00:55 - cmdstanpy - INFO - Chain [1] start processing\n",
      "22:00:56 - cmdstanpy - INFO - Chain [1] done processing\n",
      "22:00:56 - cmdstanpy - INFO - Chain [1] start processing\n",
      "22:00:57 - cmdstanpy - INFO - Chain [1] done processing\n",
      "22:00:57 - cmdstanpy - INFO - Chain [1] start processing\n",
      "22:00:58 - cmdstanpy - INFO - Chain [1] done processing\n",
      "22:00:58 - cmdstanpy - INFO - Chain [1] start processing\n",
      "22:00:59 - cmdstanpy - INFO - Chain [1] done processing\n",
      "22:00:59 - cmdstanpy - INFO - Chain [1] start processing\n",
      "22:00:59 - cmdstanpy - INFO - Chain [1] done processing\n",
      "22:01:00 - cmdstanpy - INFO - Chain [1] start processing\n",
      "22:01:00 - cmdstanpy - INFO - Chain [1] done processing\n",
      "22:01:01 - cmdstanpy - INFO - Chain [1] start processing\n",
      "22:01:01 - cmdstanpy - INFO - Chain [1] done processing\n",
      "22:01:01 - cmdstanpy - INFO - Chain [1] start processing\n",
      "22:01:02 - cmdstanpy - INFO - Chain [1] done processing\n",
      "22:01:02 - cmdstanpy - INFO - Chain [1] start processing\n",
      "22:01:03 - cmdstanpy - INFO - Chain [1] done processing\n",
      "22:01:03 - cmdstanpy - INFO - Chain [1] start processing\n",
      "22:01:04 - cmdstanpy - INFO - Chain [1] done processing\n",
      "22:01:04 - cmdstanpy - INFO - Chain [1] start processing\n",
      "22:01:05 - cmdstanpy - INFO - Chain [1] done processing\n",
      "22:01:05 - cmdstanpy - INFO - Chain [1] start processing\n",
      "22:01:05 - cmdstanpy - INFO - Chain [1] done processing\n",
      "22:01:06 - cmdstanpy - INFO - Chain [1] start processing\n",
      "22:01:06 - cmdstanpy - INFO - Chain [1] done processing\n",
      "22:01:07 - cmdstanpy - INFO - Chain [1] start processing\n",
      "22:01:07 - cmdstanpy - INFO - Chain [1] done processing\n",
      "22:01:08 - cmdstanpy - INFO - Chain [1] start processing\n",
      "22:01:08 - cmdstanpy - INFO - Chain [1] done processing\n"
     ]
    },
    {
     "data": {
      "text/html": [
       "<div>\n",
       "<style scoped>\n",
       "    .dataframe tbody tr th:only-of-type {\n",
       "        vertical-align: middle;\n",
       "    }\n",
       "\n",
       "    .dataframe tbody tr th {\n",
       "        vertical-align: top;\n",
       "    }\n",
       "\n",
       "    .dataframe thead th {\n",
       "        text-align: right;\n",
       "    }\n",
       "</style>\n",
       "<table border=\"1\" class=\"dataframe\">\n",
       "  <thead>\n",
       "    <tr style=\"text-align: right;\">\n",
       "      <th></th>\n",
       "      <th>ds</th>\n",
       "      <th>yhat</th>\n",
       "      <th>yhat_lower</th>\n",
       "      <th>yhat_upper</th>\n",
       "      <th>y</th>\n",
       "      <th>cutoff</th>\n",
       "    </tr>\n",
       "  </thead>\n",
       "  <tbody>\n",
       "    <tr>\n",
       "      <th>0</th>\n",
       "      <td>2021-06-14</td>\n",
       "      <td>97.796745</td>\n",
       "      <td>95.578981</td>\n",
       "      <td>100.123976</td>\n",
       "      <td>99.180000</td>\n",
       "      <td>2021-06-11</td>\n",
       "    </tr>\n",
       "    <tr>\n",
       "      <th>1</th>\n",
       "      <td>2021-06-15</td>\n",
       "      <td>98.002016</td>\n",
       "      <td>95.853246</td>\n",
       "      <td>100.086356</td>\n",
       "      <td>95.970001</td>\n",
       "      <td>2021-06-11</td>\n",
       "    </tr>\n",
       "    <tr>\n",
       "      <th>2</th>\n",
       "      <td>2021-06-16</td>\n",
       "      <td>98.162557</td>\n",
       "      <td>95.873901</td>\n",
       "      <td>100.459545</td>\n",
       "      <td>94.059998</td>\n",
       "      <td>2021-06-11</td>\n",
       "    </tr>\n",
       "    <tr>\n",
       "      <th>3</th>\n",
       "      <td>2021-06-17</td>\n",
       "      <td>98.283453</td>\n",
       "      <td>95.952422</td>\n",
       "      <td>100.609567</td>\n",
       "      <td>93.190002</td>\n",
       "      <td>2021-06-11</td>\n",
       "    </tr>\n",
       "    <tr>\n",
       "      <th>4</th>\n",
       "      <td>2021-06-18</td>\n",
       "      <td>98.380018</td>\n",
       "      <td>95.910214</td>\n",
       "      <td>100.519806</td>\n",
       "      <td>91.489998</td>\n",
       "      <td>2021-06-11</td>\n",
       "    </tr>\n",
       "    <tr>\n",
       "      <th>...</th>\n",
       "      <td>...</td>\n",
       "      <td>...</td>\n",
       "      <td>...</td>\n",
       "      <td>...</td>\n",
       "      <td>...</td>\n",
       "      <td>...</td>\n",
       "    </tr>\n",
       "    <tr>\n",
       "      <th>272</th>\n",
       "      <td>2023-07-24</td>\n",
       "      <td>82.559043</td>\n",
       "      <td>79.002586</td>\n",
       "      <td>86.056708</td>\n",
       "      <td>92.550003</td>\n",
       "      <td>2023-07-07</td>\n",
       "    </tr>\n",
       "    <tr>\n",
       "      <th>273</th>\n",
       "      <td>2023-07-25</td>\n",
       "      <td>82.485136</td>\n",
       "      <td>79.076757</td>\n",
       "      <td>85.920470</td>\n",
       "      <td>92.730003</td>\n",
       "      <td>2023-07-07</td>\n",
       "    </tr>\n",
       "    <tr>\n",
       "      <th>274</th>\n",
       "      <td>2023-07-26</td>\n",
       "      <td>82.435144</td>\n",
       "      <td>78.826197</td>\n",
       "      <td>85.655187</td>\n",
       "      <td>92.669998</td>\n",
       "      <td>2023-07-07</td>\n",
       "    </tr>\n",
       "    <tr>\n",
       "      <th>275</th>\n",
       "      <td>2023-07-27</td>\n",
       "      <td>82.415922</td>\n",
       "      <td>78.793170</td>\n",
       "      <td>85.898171</td>\n",
       "      <td>92.139999</td>\n",
       "      <td>2023-07-07</td>\n",
       "    </tr>\n",
       "    <tr>\n",
       "      <th>276</th>\n",
       "      <td>2023-07-28</td>\n",
       "      <td>82.422467</td>\n",
       "      <td>79.112316</td>\n",
       "      <td>85.868815</td>\n",
       "      <td>92.529999</td>\n",
       "      <td>2023-07-07</td>\n",
       "    </tr>\n",
       "  </tbody>\n",
       "</table>\n",
       "<p>277 rows × 6 columns</p>\n",
       "</div>"
      ],
      "text/plain": [
       "            ds       yhat  yhat_lower  yhat_upper          y     cutoff\n",
       "0   2021-06-14  97.796745   95.578981  100.123976  99.180000 2021-06-11\n",
       "1   2021-06-15  98.002016   95.853246  100.086356  95.970001 2021-06-11\n",
       "2   2021-06-16  98.162557   95.873901  100.459545  94.059998 2021-06-11\n",
       "3   2021-06-17  98.283453   95.952422  100.609567  93.190002 2021-06-11\n",
       "4   2021-06-18  98.380018   95.910214  100.519806  91.489998 2021-06-11\n",
       "..         ...        ...         ...         ...        ...        ...\n",
       "272 2023-07-24  82.559043   79.002586   86.056708  92.550003 2023-07-07\n",
       "273 2023-07-25  82.485136   79.076757   85.920470  92.730003 2023-07-07\n",
       "274 2023-07-26  82.435144   78.826197   85.655187  92.669998 2023-07-07\n",
       "275 2023-07-27  82.415922   78.793170   85.898171  92.139999 2023-07-07\n",
       "276 2023-07-28  82.422467   79.112316   85.868815  92.529999 2023-07-07\n",
       "\n",
       "[277 rows x 6 columns]"
      ]
     },
     "execution_count": 232,
     "metadata": {},
     "output_type": "execute_result"
    }
   ],
   "source": [
    "results_df = pd.DataFrame(results, columns=['changepoint_prior_scale', 'fourier_order', 'rmse', 'mape', 'mae'])\n",
    "\n",
    "# finding optimum parametrs\n",
    "result = results_df[results_df['rmse']==results_df['rmse'].min()]\n",
    "cps_opt = result['changepoint_prior_scale']\n",
    "fo_opt = result['fourier_order']\n",
    "'''\n",
    "making predictions for opt parameters:\n",
    "the prediction is made every 42 days, with the horizon of 21 days, starting with 1008 day\n",
    "'''\n",
    "md = Prophet(changepoint_prior_scale=cps_opt, weekly_seasonality=False)\n",
    "md.add_seasonality(name='monthly', period=H, fourier_order=int(fo_opt))\n",
    "md.fit(df)\n",
    "\n",
    "df_cv = cross_validation(md, initial='1008 days', period='42 days', horizon = '21 days')\n",
    "df_cv"
   ]
  },
  {
   "cell_type": "code",
   "execution_count": 233,
   "id": "ea904569-8af4-474f-95ae-4d504db526ad",
   "metadata": {},
   "outputs": [
    {
     "data": {
      "text/plain": [
       "<matplotlib.legend.Legend at 0x1a9f9f53e90>"
      ]
     },
     "execution_count": 233,
     "metadata": {},
     "output_type": "execute_result"
    },
    {
     "data": {
      "image/png": "[encoded data removed]",
      "text/plain": [
       "<Figure size 1600x800 with 1 Axes>"
      ]
     },
     "metadata": {},
     "output_type": "display_data"
    }
   ],
   "source": [
    "plt.figure(figsize=(16,8))\n",
    "plt.plot(df_cv['ds'], df_cv['y'])\n",
    "plt.plot(df_cv['ds'], df_cv['yhat'])\n",
    "plt.legend(['Target', 'Pred'])"
   ]
  },
  {
   "cell_type": "code",
   "execution_count": 234,
   "id": "339165db-4dcd-43b6-bd09-7ae19f4b3951",
   "metadata": {},
   "outputs": [
    {
     "name": "stdout",
     "output_type": "stream",
     "text": [
      "5.866720407041058\n",
      "0.06111412707804563\n",
      "4.795791570414846\n"
     ]
    }
   ],
   "source": [
    "print(get_rmse(df_cv['y'], df_cv['yhat']))\n",
    "print(get_mape(df_cv['y'], df_cv['yhat']))\n",
    "print(get_mae(df_cv['y'], df_cv['yhat']))"
   ]
  },
  {
   "cell_type": "code",
   "execution_count": null,
   "id": "8ed164f8-2aad-4e73-b22f-d61d57589198",
   "metadata": {},
   "outputs": [],
   "source": []
  }
 ],
 "metadata": {
  "kernelspec": {
   "display_name": "Python 3 (ipykernel)",
   "language": "python",
   "name": "python3"
  },
  "language_info": {
   "codemirror_mode": {
    "name": "ipython",
    "version": 3
   },
   "file_extension": ".py",
   "mimetype": "text/x-python",
   "name": "python",
   "nbconvert_exporter": "python",
   "pygments_lexer": "ipython3",
   "version": "3.11.4"
  }
 },
 "nbformat": 4,
 "nbformat_minor": 5
}
